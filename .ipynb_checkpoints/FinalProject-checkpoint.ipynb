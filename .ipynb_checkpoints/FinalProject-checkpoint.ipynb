{
 "cells": [
  {
   "cell_type": "code",
   "execution_count": 1,
   "metadata": {},
   "outputs": [],
   "source": [
    "#setwd(\"/Users/phucvu/R\")\n",
    "setwd(\"/home/phucvu/R\")"
   ]
  },
  {
   "cell_type": "code",
   "execution_count": 2,
   "metadata": {},
   "outputs": [],
   "source": [
    "#file <- read.csv(\"adult.data\", \n",
    "#                 header = FALSE, \n",
    "#                 stringsAsFactors = FALSE, \n",
    "#                 sep = \",\", \n",
    "#                 strip.white = TRUE,\n",
    "#                 na.strings = c(\"?\",\"NA\"))\n",
    "\n",
    "\n",
    "#names(file) <- c(\"age\", \"workclass\", \"fnlwgt\", \"education\", \"education-num\", \"marital_status\", \n",
    "#                 \"occupation\", \"relationship\", \"race\", \"sex\", \"capital-gain\", \"capital-loss\", \n",
    "#                 \"hours_per_week\", \"native_country\", \"salary\")"
   ]
  },
  {
   "cell_type": "code",
   "execution_count": 3,
   "metadata": {},
   "outputs": [],
   "source": [
    "df <- read.table(\"adult.data\", \n",
    "                 sep = ',', \n",
    "                 fill = FALSE, \n",
    "                 strip.white = TRUE)\n",
    "\n",
    "colnames(df) <- c(\"age\", \"workclass\", \"fnlwgt\", \"education\", \"education_num\", \"marital_status\", \n",
    "                 \"occupation\", \"relationship\", \"race\", \"sex\", \"capital_gain\", \"capital_loss\", \n",
    "                 \"hours_per_week\", \"native_country\", \"salary\")"
   ]
  },
  {
   "cell_type": "code",
   "execution_count": 4,
   "metadata": {},
   "outputs": [
    {
     "data": {
      "text/html": [
       "<dl class=dl-horizontal>\n",
       "\t<dt>age</dt>\n",
       "\t\t<dd>'integer'</dd>\n",
       "\t<dt>workclass</dt>\n",
       "\t\t<dd>'factor'</dd>\n",
       "\t<dt>fnlwgt</dt>\n",
       "\t\t<dd>'integer'</dd>\n",
       "\t<dt>education</dt>\n",
       "\t\t<dd>'factor'</dd>\n",
       "\t<dt>education_num</dt>\n",
       "\t\t<dd>'integer'</dd>\n",
       "\t<dt>marital_status</dt>\n",
       "\t\t<dd>'factor'</dd>\n",
       "\t<dt>occupation</dt>\n",
       "\t\t<dd>'factor'</dd>\n",
       "\t<dt>relationship</dt>\n",
       "\t\t<dd>'factor'</dd>\n",
       "\t<dt>race</dt>\n",
       "\t\t<dd>'factor'</dd>\n",
       "\t<dt>sex</dt>\n",
       "\t\t<dd>'factor'</dd>\n",
       "\t<dt>capital_gain</dt>\n",
       "\t\t<dd>'integer'</dd>\n",
       "\t<dt>capital_loss</dt>\n",
       "\t\t<dd>'integer'</dd>\n",
       "\t<dt>hours_per_week</dt>\n",
       "\t\t<dd>'integer'</dd>\n",
       "\t<dt>native_country</dt>\n",
       "\t\t<dd>'factor'</dd>\n",
       "\t<dt>salary</dt>\n",
       "\t\t<dd>'factor'</dd>\n",
       "</dl>\n"
      ],
      "text/latex": [
       "\\begin{description*}\n",
       "\\item[age] 'integer'\n",
       "\\item[workclass] 'factor'\n",
       "\\item[fnlwgt] 'integer'\n",
       "\\item[education] 'factor'\n",
       "\\item[education\\textbackslash{}\\_num] 'integer'\n",
       "\\item[marital\\textbackslash{}\\_status] 'factor'\n",
       "\\item[occupation] 'factor'\n",
       "\\item[relationship] 'factor'\n",
       "\\item[race] 'factor'\n",
       "\\item[sex] 'factor'\n",
       "\\item[capital\\textbackslash{}\\_gain] 'integer'\n",
       "\\item[capital\\textbackslash{}\\_loss] 'integer'\n",
       "\\item[hours\\textbackslash{}\\_per\\textbackslash{}\\_week] 'integer'\n",
       "\\item[native\\textbackslash{}\\_country] 'factor'\n",
       "\\item[salary] 'factor'\n",
       "\\end{description*}\n"
      ],
      "text/markdown": [
       "age\n",
       ":   'integer'workclass\n",
       ":   'factor'fnlwgt\n",
       ":   'integer'education\n",
       ":   'factor'education_num\n",
       ":   'integer'marital_status\n",
       ":   'factor'occupation\n",
       ":   'factor'relationship\n",
       ":   'factor'race\n",
       ":   'factor'sex\n",
       ":   'factor'capital_gain\n",
       ":   'integer'capital_loss\n",
       ":   'integer'hours_per_week\n",
       ":   'integer'native_country\n",
       ":   'factor'salary\n",
       ":   'factor'\n",
       "\n"
      ],
      "text/plain": [
       "           age      workclass         fnlwgt      education  education_num \n",
       "     \"integer\"       \"factor\"      \"integer\"       \"factor\"      \"integer\" \n",
       "marital_status     occupation   relationship           race            sex \n",
       "      \"factor\"       \"factor\"       \"factor\"       \"factor\"       \"factor\" \n",
       "  capital_gain   capital_loss hours_per_week native_country         salary \n",
       "     \"integer\"      \"integer\"      \"integer\"       \"factor\"       \"factor\" "
      ]
     },
     "metadata": {},
     "output_type": "display_data"
    },
    {
     "data": {
      "text/html": [
       "<table>\n",
       "<thead><tr><th scope=col>age</th><th scope=col>workclass</th><th scope=col>fnlwgt</th><th scope=col>education</th><th scope=col>education_num</th><th scope=col>marital_status</th><th scope=col>occupation</th><th scope=col>relationship</th><th scope=col>race</th><th scope=col>sex</th><th scope=col>capital_gain</th><th scope=col>capital_loss</th><th scope=col>hours_per_week</th><th scope=col>native_country</th><th scope=col>salary</th></tr></thead>\n",
       "<tbody>\n",
       "\t<tr><td>39                                                        </td><td><span style=white-space:pre-wrap>State-gov       </span>  </td><td> 77516                                                    </td><td>Bachelors                                                 </td><td>13                                                        </td><td><span style=white-space:pre-wrap>Never-married     </span></td><td><span style=white-space:pre-wrap>Adm-clerical     </span> </td><td>Not-in-family                                             </td><td>White                                                     </td><td><span style=white-space:pre-wrap>Male  </span>            </td><td>2174                                                      </td><td>0                                                         </td><td>40                                                        </td><td>United-States                                             </td><td>&lt;=50K                                                  </td></tr>\n",
       "\t<tr><td>50                                                       </td><td>Self-emp-not-inc                                         </td><td> 83311                                                   </td><td>Bachelors                                                </td><td>13                                                       </td><td>Married-civ-spouse                                       </td><td><span style=white-space:pre-wrap>Exec-managerial  </span></td><td><span style=white-space:pre-wrap>Husband      </span>    </td><td>White                                                    </td><td><span style=white-space:pre-wrap>Male  </span>           </td><td><span style=white-space:pre-wrap>   0</span>             </td><td>0                                                        </td><td>13                                                       </td><td>United-States                                            </td><td>&lt;=50K                                                 </td></tr>\n",
       "\t<tr><td>38                                                        </td><td><span style=white-space:pre-wrap>Private         </span>  </td><td>215646                                                    </td><td><span style=white-space:pre-wrap>HS-grad  </span>         </td><td> 9                                                        </td><td><span style=white-space:pre-wrap>Divorced          </span></td><td>Handlers-cleaners                                         </td><td>Not-in-family                                             </td><td>White                                                     </td><td><span style=white-space:pre-wrap>Male  </span>            </td><td><span style=white-space:pre-wrap>   0</span>              </td><td>0                                                         </td><td>40                                                        </td><td>United-States                                             </td><td>&lt;=50K                                                  </td></tr>\n",
       "\t<tr><td>53                                                      </td><td><span style=white-space:pre-wrap>Private         </span></td><td>234721                                                  </td><td><span style=white-space:pre-wrap>11th     </span>       </td><td> 7                                                      </td><td>Married-civ-spouse                                      </td><td>Handlers-cleaners                                       </td><td><span style=white-space:pre-wrap>Husband      </span>   </td><td>Black                                                   </td><td><span style=white-space:pre-wrap>Male  </span>          </td><td><span style=white-space:pre-wrap>   0</span>            </td><td>0                                                       </td><td>40                                                      </td><td>United-States                                           </td><td>&lt;=50K                                                </td></tr>\n",
       "\t<tr><td>28                                                       </td><td><span style=white-space:pre-wrap>Private         </span> </td><td>338409                                                   </td><td>Bachelors                                                </td><td>13                                                       </td><td>Married-civ-spouse                                       </td><td><span style=white-space:pre-wrap>Prof-specialty   </span></td><td><span style=white-space:pre-wrap>Wife         </span>    </td><td>Black                                                    </td><td>Female                                                   </td><td><span style=white-space:pre-wrap>   0</span>             </td><td>0                                                        </td><td>40                                                       </td><td><span style=white-space:pre-wrap>Cuba         </span>    </td><td>&lt;=50K                                                 </td></tr>\n",
       "\t<tr><td>37                                                       </td><td><span style=white-space:pre-wrap>Private         </span> </td><td>284582                                                   </td><td><span style=white-space:pre-wrap>Masters  </span>        </td><td>14                                                       </td><td>Married-civ-spouse                                       </td><td><span style=white-space:pre-wrap>Exec-managerial  </span></td><td><span style=white-space:pre-wrap>Wife         </span>    </td><td>White                                                    </td><td>Female                                                   </td><td><span style=white-space:pre-wrap>   0</span>             </td><td>0                                                        </td><td>40                                                       </td><td>United-States                                            </td><td>&lt;=50K                                                 </td></tr>\n",
       "</tbody>\n",
       "</table>\n"
      ],
      "text/latex": [
       "\\begin{tabular}{r|lllllllllllllll}\n",
       " age & workclass & fnlwgt & education & education\\_num & marital\\_status & occupation & relationship & race & sex & capital\\_gain & capital\\_loss & hours\\_per\\_week & native\\_country & salary\\\\\n",
       "\\hline\n",
       "\t 39                 & State-gov          &  77516             & Bachelors          & 13                 & Never-married      & Adm-clerical       & Not-in-family      & White              & Male               & 2174               & 0                  & 40                 & United-States      & <=50K             \\\\\n",
       "\t 50                 & Self-emp-not-inc   &  83311             & Bachelors          & 13                 & Married-civ-spouse & Exec-managerial    & Husband            & White              & Male               &    0               & 0                  & 13                 & United-States      & <=50K             \\\\\n",
       "\t 38                 & Private            & 215646             & HS-grad            &  9                 & Divorced           & Handlers-cleaners  & Not-in-family      & White              & Male               &    0               & 0                  & 40                 & United-States      & <=50K             \\\\\n",
       "\t 53                 & Private            & 234721             & 11th               &  7                 & Married-civ-spouse & Handlers-cleaners  & Husband            & Black              & Male               &    0               & 0                  & 40                 & United-States      & <=50K             \\\\\n",
       "\t 28                 & Private            & 338409             & Bachelors          & 13                 & Married-civ-spouse & Prof-specialty     & Wife               & Black              & Female             &    0               & 0                  & 40                 & Cuba               & <=50K             \\\\\n",
       "\t 37                 & Private            & 284582             & Masters            & 14                 & Married-civ-spouse & Exec-managerial    & Wife               & White              & Female             &    0               & 0                  & 40                 & United-States      & <=50K             \\\\\n",
       "\\end{tabular}\n"
      ],
      "text/markdown": [
       "\n",
       "| age | workclass | fnlwgt | education | education_num | marital_status | occupation | relationship | race | sex | capital_gain | capital_loss | hours_per_week | native_country | salary |\n",
       "|---|---|---|---|---|---|---|---|---|---|---|---|---|---|---|\n",
       "| 39                 | State-gov          |  77516             | Bachelors          | 13                 | Never-married      | Adm-clerical       | Not-in-family      | White              | Male               | 2174               | 0                  | 40                 | United-States      | <=50K              |\n",
       "| 50                 | Self-emp-not-inc   |  83311             | Bachelors          | 13                 | Married-civ-spouse | Exec-managerial    | Husband            | White              | Male               |    0               | 0                  | 13                 | United-States      | <=50K              |\n",
       "| 38                 | Private            | 215646             | HS-grad            |  9                 | Divorced           | Handlers-cleaners  | Not-in-family      | White              | Male               |    0               | 0                  | 40                 | United-States      | <=50K              |\n",
       "| 53                 | Private            | 234721             | 11th               |  7                 | Married-civ-spouse | Handlers-cleaners  | Husband            | Black              | Male               |    0               | 0                  | 40                 | United-States      | <=50K              |\n",
       "| 28                 | Private            | 338409             | Bachelors          | 13                 | Married-civ-spouse | Prof-specialty     | Wife               | Black              | Female             |    0               | 0                  | 40                 | Cuba               | <=50K              |\n",
       "| 37                 | Private            | 284582             | Masters            | 14                 | Married-civ-spouse | Exec-managerial    | Wife               | White              | Female             |    0               | 0                  | 40                 | United-States      | <=50K              |\n",
       "\n"
      ],
      "text/plain": [
       "  age workclass        fnlwgt education education_num marital_status    \n",
       "1 39  State-gov         77516 Bachelors 13            Never-married     \n",
       "2 50  Self-emp-not-inc  83311 Bachelors 13            Married-civ-spouse\n",
       "3 38  Private          215646 HS-grad    9            Divorced          \n",
       "4 53  Private          234721 11th       7            Married-civ-spouse\n",
       "5 28  Private          338409 Bachelors 13            Married-civ-spouse\n",
       "6 37  Private          284582 Masters   14            Married-civ-spouse\n",
       "  occupation        relationship  race  sex    capital_gain capital_loss\n",
       "1 Adm-clerical      Not-in-family White Male   2174         0           \n",
       "2 Exec-managerial   Husband       White Male      0         0           \n",
       "3 Handlers-cleaners Not-in-family White Male      0         0           \n",
       "4 Handlers-cleaners Husband       Black Male      0         0           \n",
       "5 Prof-specialty    Wife          Black Female    0         0           \n",
       "6 Exec-managerial   Wife          White Female    0         0           \n",
       "  hours_per_week native_country salary\n",
       "1 40             United-States  <=50K \n",
       "2 13             United-States  <=50K \n",
       "3 40             United-States  <=50K \n",
       "4 40             United-States  <=50K \n",
       "5 40             Cuba           <=50K \n",
       "6 40             United-States  <=50K "
      ]
     },
     "metadata": {},
     "output_type": "display_data"
    }
   ],
   "source": [
    "#df <- data.frame(lapply(file, trimws))\n",
    "sapply(df, class)\n",
    "head(df)"
   ]
  },
  {
   "cell_type": "code",
   "execution_count": 5,
   "metadata": {},
   "outputs": [
    {
     "name": "stdout",
     "output_type": "stream",
     "text": [
      "Element manqué dans le dataset:  0 \n"
     ]
    }
   ],
   "source": [
    "cat(\"Element manqué dans le dataset: \", sum(is.na(df)), \"\\n\")"
   ]
  },
  {
   "cell_type": "code",
   "execution_count": 65,
   "metadata": {},
   "outputs": [],
   "source": [
    "library(ggplot2)\n",
    "library(plyr)\n",
    "#library(dplyr)\n",
    "library(data.table)\n",
    "library(caret)\n",
    "\n",
    "#Decision tree package\n",
    "library(rpart)\n",
    "library(rpart.plot)\n",
    "library(e1071)"
   ]
  },
  {
   "cell_type": "code",
   "execution_count": 7,
   "metadata": {},
   "outputs": [
    {
     "name": "stdout",
     "output_type": "stream",
     "text": [
      "Dimension de dataset:  32561 15"
     ]
    }
   ],
   "source": [
    "cat(\"Dimension de dataset: \", dim(df))"
   ]
  },
  {
   "cell_type": "code",
   "execution_count": 8,
   "metadata": {},
   "outputs": [
    {
     "name": "stdout",
     "output_type": "stream",
     "text": [
      "'data.frame':\t32561 obs. of  15 variables:\n",
      " $ age           : int  39 50 38 53 28 37 49 52 31 42 ...\n",
      " $ workclass     : Factor w/ 9 levels \"?\",\"Federal-gov\",..: 8 7 5 5 5 5 5 7 5 5 ...\n",
      " $ fnlwgt        : int  77516 83311 215646 234721 338409 284582 160187 209642 45781 159449 ...\n",
      " $ education     : Factor w/ 16 levels \"10th\",\"11th\",..: 10 10 12 2 10 13 7 12 13 10 ...\n",
      " $ education_num : int  13 13 9 7 13 14 5 9 14 13 ...\n",
      " $ marital_status: Factor w/ 7 levels \"Divorced\",\"Married-AF-spouse\",..: 5 3 1 3 3 3 4 3 5 3 ...\n",
      " $ occupation    : Factor w/ 15 levels \"?\",\"Adm-clerical\",..: 2 5 7 7 11 5 9 5 11 5 ...\n",
      " $ relationship  : Factor w/ 6 levels \"Husband\",\"Not-in-family\",..: 2 1 2 1 6 6 2 1 2 1 ...\n",
      " $ race          : Factor w/ 5 levels \"Amer-Indian-Eskimo\",..: 5 5 5 3 3 5 3 5 5 5 ...\n",
      " $ sex           : Factor w/ 2 levels \"Female\",\"Male\": 2 2 2 2 1 1 1 2 1 2 ...\n",
      " $ capital_gain  : int  2174 0 0 0 0 0 0 0 14084 5178 ...\n",
      " $ capital_loss  : int  0 0 0 0 0 0 0 0 0 0 ...\n",
      " $ hours_per_week: int  40 13 40 40 40 40 16 45 50 40 ...\n",
      " $ native_country: Factor w/ 42 levels \"?\",\"Cambodia\",..: 40 40 40 40 6 40 24 40 40 40 ...\n",
      " $ salary        : Factor w/ 2 levels \"<=50K\",\">50K\": 1 1 1 1 1 1 1 2 2 2 ...\n"
     ]
    }
   ],
   "source": [
    "str(df)"
   ]
  },
  {
   "cell_type": "markdown",
   "metadata": {},
   "source": [
    "Le dataset contient 9 varaibles catérogique et 6 variables numériques\n",
    "\n",
    "income est la variable ciblée"
   ]
  },
  {
   "cell_type": "markdown",
   "metadata": {},
   "source": [
    "# Caractéristiques statistique de dataset"
   ]
  },
  {
   "cell_type": "code",
   "execution_count": 9,
   "metadata": {},
   "outputs": [
    {
     "data": {
      "text/plain": [
       "      age                   workclass         fnlwgt       \n",
       " Min.   :17.00   Private         :22696   Min.   :  12285  \n",
       " 1st Qu.:28.00   Self-emp-not-inc: 2541   1st Qu.: 117827  \n",
       " Median :37.00   Local-gov       : 2093   Median : 178356  \n",
       " Mean   :38.58   ?               : 1836   Mean   : 189778  \n",
       " 3rd Qu.:48.00   State-gov       : 1298   3rd Qu.: 237051  \n",
       " Max.   :90.00   Self-emp-inc    : 1116   Max.   :1484705  \n",
       "                 (Other)         :  981                    \n",
       "        education     education_num                 marital_status \n",
       " HS-grad     :10501   Min.   : 1.00   Divorced             : 4443  \n",
       " Some-college: 7291   1st Qu.: 9.00   Married-AF-spouse    :   23  \n",
       " Bachelors   : 5355   Median :10.00   Married-civ-spouse   :14976  \n",
       " Masters     : 1723   Mean   :10.08   Married-spouse-absent:  418  \n",
       " Assoc-voc   : 1382   3rd Qu.:12.00   Never-married        :10683  \n",
       " 11th        : 1175   Max.   :16.00   Separated            : 1025  \n",
       " (Other)     : 5134                   Widowed              :  993  \n",
       "           occupation           relationship                   race      \n",
       " Prof-specialty :4140   Husband       :13193   Amer-Indian-Eskimo:  311  \n",
       " Craft-repair   :4099   Not-in-family : 8305   Asian-Pac-Islander: 1039  \n",
       " Exec-managerial:4066   Other-relative:  981   Black             : 3124  \n",
       " Adm-clerical   :3770   Own-child     : 5068   Other             :  271  \n",
       " Sales          :3650   Unmarried     : 3446   White             :27816  \n",
       " Other-service  :3295   Wife          : 1568                             \n",
       " (Other)        :9541                                                    \n",
       "     sex         capital_gain    capital_loss    hours_per_week \n",
       " Female:10771   Min.   :    0   Min.   :   0.0   Min.   : 1.00  \n",
       " Male  :21790   1st Qu.:    0   1st Qu.:   0.0   1st Qu.:40.00  \n",
       "                Median :    0   Median :   0.0   Median :40.00  \n",
       "                Mean   : 1078   Mean   :  87.3   Mean   :40.44  \n",
       "                3rd Qu.:    0   3rd Qu.:   0.0   3rd Qu.:45.00  \n",
       "                Max.   :99999   Max.   :4356.0   Max.   :99.00  \n",
       "                                                                \n",
       "       native_country    salary     \n",
       " United-States:29170   <=50K:24720  \n",
       " Mexico       :  643   >50K : 7841  \n",
       " ?            :  583                \n",
       " Philippines  :  198                \n",
       " Germany      :  137                \n",
       " Canada       :  121                \n",
       " (Other)      : 1709                "
      ]
     },
     "metadata": {},
     "output_type": "display_data"
    }
   ],
   "source": [
    "summary(df)"
   ]
  },
  {
   "cell_type": "code",
   "execution_count": 10,
   "metadata": {},
   "outputs": [
    {
     "data": {
      "text/html": [
       "0"
      ],
      "text/latex": [
       "0"
      ],
      "text/markdown": [
       "0"
      ],
      "text/plain": [
       "[1] 0"
      ]
     },
     "metadata": {},
     "output_type": "display_data"
    }
   ],
   "source": [
    "sum(is.na(df)) ##TODO"
   ]
  },
  {
   "cell_type": "markdown",
   "metadata": {},
   "source": [
    "# Explorer les variables catégoriques"
   ]
  },
  {
   "cell_type": "markdown",
   "metadata": {},
   "source": [
    "**Extraire des variables catéroqiues**"
   ]
  },
  {
   "cell_type": "code",
   "execution_count": 11,
   "metadata": {},
   "outputs": [],
   "source": [
    "categorical <- vector()\n",
    "for (i in colnames(df)){\n",
    "    if (is.factor(df[[i]])) {\n",
    "        categorical <- c(categorical, i)\n",
    "    }  \n",
    "}"
   ]
  },
  {
   "cell_type": "code",
   "execution_count": 12,
   "metadata": {},
   "outputs": [
    {
     "data": {
      "text/html": [
       "<ol class=list-inline>\n",
       "\t<li>'workclass'</li>\n",
       "\t<li>'education'</li>\n",
       "\t<li>'marital_status'</li>\n",
       "\t<li>'occupation'</li>\n",
       "\t<li>'relationship'</li>\n",
       "\t<li>'race'</li>\n",
       "\t<li>'sex'</li>\n",
       "\t<li>'native_country'</li>\n",
       "\t<li>'salary'</li>\n",
       "</ol>\n"
      ],
      "text/latex": [
       "\\begin{enumerate*}\n",
       "\\item 'workclass'\n",
       "\\item 'education'\n",
       "\\item 'marital\\_status'\n",
       "\\item 'occupation'\n",
       "\\item 'relationship'\n",
       "\\item 'race'\n",
       "\\item 'sex'\n",
       "\\item 'native\\_country'\n",
       "\\item 'salary'\n",
       "\\end{enumerate*}\n"
      ],
      "text/markdown": [
       "1. 'workclass'\n",
       "2. 'education'\n",
       "3. 'marital_status'\n",
       "4. 'occupation'\n",
       "5. 'relationship'\n",
       "6. 'race'\n",
       "7. 'sex'\n",
       "8. 'native_country'\n",
       "9. 'salary'\n",
       "\n",
       "\n"
      ],
      "text/plain": [
       "[1] \"workclass\"      \"education\"      \"marital_status\" \"occupation\"    \n",
       "[5] \"relationship\"   \"race\"           \"sex\"            \"native_country\"\n",
       "[9] \"salary\"        "
      ]
     },
     "metadata": {},
     "output_type": "display_data"
    }
   ],
   "source": [
    "categorical"
   ]
  },
  {
   "cell_type": "markdown",
   "metadata": {},
   "source": [
    "**Explorer la varaible salary**"
   ]
  },
  {
   "cell_type": "code",
   "execution_count": 13,
   "metadata": {},
   "outputs": [
    {
     "data": {
      "text/html": [
       "0"
      ],
      "text/latex": [
       "0"
      ],
      "text/markdown": [
       "0"
      ],
      "text/plain": [
       "[1] 0"
      ]
     },
     "metadata": {},
     "output_type": "display_data"
    }
   ],
   "source": [
    "sum(is.na(df$salary))"
   ]
  },
  {
   "cell_type": "markdown",
   "metadata": {},
   "source": [
    "Il n'y a aucun de valeur null dans la variable ciblée income"
   ]
  },
  {
   "cell_type": "code",
   "execution_count": 14,
   "metadata": {},
   "outputs": [
    {
     "data": {
      "text/html": [
       "<ol class=list-inline>\n",
       "\t<li>&lt;=50K</li>\n",
       "\t<li>&gt;50K</li>\n",
       "</ol>\n",
       "\n",
       "<details>\n",
       "\t<summary style=display:list-item;cursor:pointer>\n",
       "\t\t<strong>Levels</strong>:\n",
       "\t</summary>\n",
       "\t<ol class=list-inline>\n",
       "\t\t<li>'&lt;=50K'</li>\n",
       "\t\t<li>'&gt;50K'</li>\n",
       "\t</ol>\n",
       "</details>"
      ],
      "text/latex": [
       "\\begin{enumerate*}\n",
       "\\item <=50K\n",
       "\\item >50K\n",
       "\\end{enumerate*}\n",
       "\n",
       "\\emph{Levels}: \\begin{enumerate*}\n",
       "\\item '<=50K'\n",
       "\\item '>50K'\n",
       "\\end{enumerate*}\n"
      ],
      "text/markdown": [
       "1. &lt;=50K\n",
       "2. &gt;50K\n",
       "\n",
       "\n",
       "\n",
       "**Levels**: 1. '&lt;=50K'\n",
       "2. '&gt;50K'\n",
       "\n",
       "\n"
      ],
      "text/plain": [
       "[1] <=50K >50K \n",
       "Levels: <=50K >50K"
      ]
     },
     "metadata": {},
     "output_type": "display_data"
    }
   ],
   "source": [
    "unique(df$salary)"
   ]
  },
  {
   "cell_type": "markdown",
   "metadata": {},
   "source": [
    "Les deux valeurs uniques présentées dans la variable salary est <= 50K et >50K"
   ]
  },
  {
   "cell_type": "code",
   "execution_count": 15,
   "metadata": {},
   "outputs": [
    {
     "data": {
      "text/html": [
       "<table>\n",
       "<thead><tr><th scope=col>x</th><th scope=col>freq</th></tr></thead>\n",
       "<tbody>\n",
       "\t<tr><td>&lt;=50K</td><td>24720   </td></tr>\n",
       "\t<tr><td>&gt;50K </td><td> 7841   </td></tr>\n",
       "</tbody>\n",
       "</table>\n"
      ],
      "text/latex": [
       "\\begin{tabular}{r|ll}\n",
       " x & freq\\\\\n",
       "\\hline\n",
       "\t <=50K & 24720\\\\\n",
       "\t >50K  &  7841\\\\\n",
       "\\end{tabular}\n"
      ],
      "text/markdown": [
       "\n",
       "| x | freq |\n",
       "|---|---|\n",
       "| <=50K | 24720 |\n",
       "| >50K  |  7841 |\n",
       "\n"
      ],
      "text/plain": [
       "  x     freq \n",
       "1 <=50K 24720\n",
       "2 >50K   7841"
      ]
     },
     "metadata": {},
     "output_type": "display_data"
    }
   ],
   "source": [
    "count(df$salary)"
   ]
  },
  {
   "cell_type": "markdown",
   "metadata": {},
   "source": [
    "**Explorer la variable workclass**"
   ]
  },
  {
   "cell_type": "code",
   "execution_count": 16,
   "metadata": {},
   "outputs": [
    {
     "data": {
      "text/html": [
       "<ol class=list-inline>\n",
       "\t<li>State-gov</li>\n",
       "\t<li>Self-emp-not-inc</li>\n",
       "\t<li>Private</li>\n",
       "\t<li>Federal-gov</li>\n",
       "\t<li>Local-gov</li>\n",
       "\t<li>?</li>\n",
       "\t<li>Self-emp-inc</li>\n",
       "\t<li>Without-pay</li>\n",
       "\t<li>Never-worked</li>\n",
       "</ol>\n",
       "\n",
       "<details>\n",
       "\t<summary style=display:list-item;cursor:pointer>\n",
       "\t\t<strong>Levels</strong>:\n",
       "\t</summary>\n",
       "\t<ol class=list-inline>\n",
       "\t\t<li>'?'</li>\n",
       "\t\t<li>'Federal-gov'</li>\n",
       "\t\t<li>'Local-gov'</li>\n",
       "\t\t<li>'Never-worked'</li>\n",
       "\t\t<li>'Private'</li>\n",
       "\t\t<li>'Self-emp-inc'</li>\n",
       "\t\t<li>'Self-emp-not-inc'</li>\n",
       "\t\t<li>'State-gov'</li>\n",
       "\t\t<li>'Without-pay'</li>\n",
       "\t</ol>\n",
       "</details>"
      ],
      "text/latex": [
       "\\begin{enumerate*}\n",
       "\\item State-gov\n",
       "\\item Self-emp-not-inc\n",
       "\\item Private\n",
       "\\item Federal-gov\n",
       "\\item Local-gov\n",
       "\\item ?\n",
       "\\item Self-emp-inc\n",
       "\\item Without-pay\n",
       "\\item Never-worked\n",
       "\\end{enumerate*}\n",
       "\n",
       "\\emph{Levels}: \\begin{enumerate*}\n",
       "\\item '?'\n",
       "\\item 'Federal-gov'\n",
       "\\item 'Local-gov'\n",
       "\\item 'Never-worked'\n",
       "\\item 'Private'\n",
       "\\item 'Self-emp-inc'\n",
       "\\item 'Self-emp-not-inc'\n",
       "\\item 'State-gov'\n",
       "\\item 'Without-pay'\n",
       "\\end{enumerate*}\n"
      ],
      "text/markdown": [
       "1. State-gov\n",
       "2. Self-emp-not-inc\n",
       "3. Private\n",
       "4. Federal-gov\n",
       "5. Local-gov\n",
       "6. ?\n",
       "7. Self-emp-inc\n",
       "8. Without-pay\n",
       "9. Never-worked\n",
       "\n",
       "\n",
       "\n",
       "**Levels**: 1. '?'\n",
       "2. 'Federal-gov'\n",
       "3. 'Local-gov'\n",
       "4. 'Never-worked'\n",
       "5. 'Private'\n",
       "6. 'Self-emp-inc'\n",
       "7. 'Self-emp-not-inc'\n",
       "8. 'State-gov'\n",
       "9. 'Without-pay'\n",
       "\n",
       "\n"
      ],
      "text/plain": [
       "[1] State-gov        Self-emp-not-inc Private          Federal-gov     \n",
       "[5] Local-gov        ?                Self-emp-inc     Without-pay     \n",
       "[9] Never-worked    \n",
       "9 Levels: ? Federal-gov Local-gov Never-worked Private ... Without-pay"
      ]
     },
     "metadata": {},
     "output_type": "display_data"
    }
   ],
   "source": [
    "unique(df$workclass)"
   ]
  },
  {
   "cell_type": "code",
   "execution_count": 17,
   "metadata": {},
   "outputs": [
    {
     "data": {
      "text/html": [
       "<table>\n",
       "<thead><tr><th scope=col>x</th><th scope=col>freq</th></tr></thead>\n",
       "<tbody>\n",
       "\t<tr><td>?               </td><td> 1836           </td></tr>\n",
       "\t<tr><td>Federal-gov     </td><td>  960           </td></tr>\n",
       "\t<tr><td>Local-gov       </td><td> 2093           </td></tr>\n",
       "\t<tr><td>Never-worked    </td><td>    7           </td></tr>\n",
       "\t<tr><td>Private         </td><td>22696           </td></tr>\n",
       "\t<tr><td>Self-emp-inc    </td><td> 1116           </td></tr>\n",
       "\t<tr><td>Self-emp-not-inc</td><td> 2541           </td></tr>\n",
       "\t<tr><td>State-gov       </td><td> 1298           </td></tr>\n",
       "\t<tr><td>Without-pay     </td><td>   14           </td></tr>\n",
       "</tbody>\n",
       "</table>\n"
      ],
      "text/latex": [
       "\\begin{tabular}{r|ll}\n",
       " x & freq\\\\\n",
       "\\hline\n",
       "\t ?                &  1836           \\\\\n",
       "\t Federal-gov      &   960           \\\\\n",
       "\t Local-gov        &  2093           \\\\\n",
       "\t Never-worked     &     7           \\\\\n",
       "\t Private          & 22696           \\\\\n",
       "\t Self-emp-inc     &  1116           \\\\\n",
       "\t Self-emp-not-inc &  2541           \\\\\n",
       "\t State-gov        &  1298           \\\\\n",
       "\t Without-pay      &    14           \\\\\n",
       "\\end{tabular}\n"
      ],
      "text/markdown": [
       "\n",
       "| x | freq |\n",
       "|---|---|\n",
       "| ?                |  1836            |\n",
       "| Federal-gov      |   960            |\n",
       "| Local-gov        |  2093            |\n",
       "| Never-worked     |     7            |\n",
       "| Private          | 22696            |\n",
       "| Self-emp-inc     |  1116            |\n",
       "| Self-emp-not-inc |  2541            |\n",
       "| State-gov        |  1298            |\n",
       "| Without-pay      |    14            |\n",
       "\n"
      ],
      "text/plain": [
       "  x                freq \n",
       "1 ?                 1836\n",
       "2 Federal-gov        960\n",
       "3 Local-gov         2093\n",
       "4 Never-worked         7\n",
       "5 Private          22696\n",
       "6 Self-emp-inc      1116\n",
       "7 Self-emp-not-inc  2541\n",
       "8 State-gov         1298\n",
       "9 Without-pay         14"
      ]
     },
     "metadata": {},
     "output_type": "display_data"
    }
   ],
   "source": [
    "count(df$workclass)"
   ]
  },
  {
   "cell_type": "markdown",
   "metadata": {},
   "source": [
    "On peut constater qu'il y a 1836 valeurs marqués ? dans la variable workclass. On remplace donc ces valeurs ? par la valeur NaN"
   ]
  },
  {
   "cell_type": "code",
   "execution_count": 18,
   "metadata": {},
   "outputs": [],
   "source": [
    "df$workclass[ df$workclass == \"?\" ] <- NA"
   ]
  },
  {
   "cell_type": "code",
   "execution_count": 19,
   "metadata": {},
   "outputs": [
    {
     "data": {
      "text/html": [
       "<table>\n",
       "<thead><tr><th scope=col>x</th><th scope=col>freq</th></tr></thead>\n",
       "<tbody>\n",
       "\t<tr><td>Federal-gov     </td><td>  960           </td></tr>\n",
       "\t<tr><td>Local-gov       </td><td> 2093           </td></tr>\n",
       "\t<tr><td>Never-worked    </td><td>    7           </td></tr>\n",
       "\t<tr><td>Private         </td><td>22696           </td></tr>\n",
       "\t<tr><td>Self-emp-inc    </td><td> 1116           </td></tr>\n",
       "\t<tr><td>Self-emp-not-inc</td><td> 2541           </td></tr>\n",
       "\t<tr><td>State-gov       </td><td> 1298           </td></tr>\n",
       "\t<tr><td>Without-pay     </td><td>   14           </td></tr>\n",
       "\t<tr><td>NA              </td><td> 1836           </td></tr>\n",
       "</tbody>\n",
       "</table>\n"
      ],
      "text/latex": [
       "\\begin{tabular}{r|ll}\n",
       " x & freq\\\\\n",
       "\\hline\n",
       "\t Federal-gov      &   960           \\\\\n",
       "\t Local-gov        &  2093           \\\\\n",
       "\t Never-worked     &     7           \\\\\n",
       "\t Private          & 22696           \\\\\n",
       "\t Self-emp-inc     &  1116           \\\\\n",
       "\t Self-emp-not-inc &  2541           \\\\\n",
       "\t State-gov        &  1298           \\\\\n",
       "\t Without-pay      &    14           \\\\\n",
       "\t NA               &  1836           \\\\\n",
       "\\end{tabular}\n"
      ],
      "text/markdown": [
       "\n",
       "| x | freq |\n",
       "|---|---|\n",
       "| Federal-gov      |   960            |\n",
       "| Local-gov        |  2093            |\n",
       "| Never-worked     |     7            |\n",
       "| Private          | 22696            |\n",
       "| Self-emp-inc     |  1116            |\n",
       "| Self-emp-not-inc |  2541            |\n",
       "| State-gov        |  1298            |\n",
       "| Without-pay      |    14            |\n",
       "| NA               |  1836            |\n",
       "\n"
      ],
      "text/plain": [
       "  x                freq \n",
       "1 Federal-gov        960\n",
       "2 Local-gov         2093\n",
       "3 Never-worked         7\n",
       "4 Private          22696\n",
       "5 Self-emp-inc      1116\n",
       "6 Self-emp-not-inc  2541\n",
       "7 State-gov         1298\n",
       "8 Without-pay         14\n",
       "9 NA                1836"
      ]
     },
     "metadata": {},
     "output_type": "display_data"
    }
   ],
   "source": [
    "count(df$workclass)"
   ]
  },
  {
   "cell_type": "markdown",
   "metadata": {},
   "source": [
    "**Explorer la variable occupation**"
   ]
  },
  {
   "cell_type": "code",
   "execution_count": 20,
   "metadata": {},
   "outputs": [
    {
     "data": {
      "text/html": [
       "<ol class=list-inline>\n",
       "\t<li>Adm-clerical</li>\n",
       "\t<li>Exec-managerial</li>\n",
       "\t<li>Handlers-cleaners</li>\n",
       "\t<li>Prof-specialty</li>\n",
       "\t<li>Other-service</li>\n",
       "\t<li>Sales</li>\n",
       "\t<li>Craft-repair</li>\n",
       "\t<li>Transport-moving</li>\n",
       "\t<li>Farming-fishing</li>\n",
       "\t<li>Machine-op-inspct</li>\n",
       "\t<li>Tech-support</li>\n",
       "\t<li>?</li>\n",
       "\t<li>Protective-serv</li>\n",
       "\t<li>Armed-Forces</li>\n",
       "\t<li>Priv-house-serv</li>\n",
       "</ol>\n",
       "\n",
       "<details>\n",
       "\t<summary style=display:list-item;cursor:pointer>\n",
       "\t\t<strong>Levels</strong>:\n",
       "\t</summary>\n",
       "\t<ol class=list-inline>\n",
       "\t\t<li>'?'</li>\n",
       "\t\t<li>'Adm-clerical'</li>\n",
       "\t\t<li>'Armed-Forces'</li>\n",
       "\t\t<li>'Craft-repair'</li>\n",
       "\t\t<li>'Exec-managerial'</li>\n",
       "\t\t<li>'Farming-fishing'</li>\n",
       "\t\t<li>'Handlers-cleaners'</li>\n",
       "\t\t<li>'Machine-op-inspct'</li>\n",
       "\t\t<li>'Other-service'</li>\n",
       "\t\t<li>'Priv-house-serv'</li>\n",
       "\t\t<li>'Prof-specialty'</li>\n",
       "\t\t<li>'Protective-serv'</li>\n",
       "\t\t<li>'Sales'</li>\n",
       "\t\t<li>'Tech-support'</li>\n",
       "\t\t<li>'Transport-moving'</li>\n",
       "\t</ol>\n",
       "</details>"
      ],
      "text/latex": [
       "\\begin{enumerate*}\n",
       "\\item Adm-clerical\n",
       "\\item Exec-managerial\n",
       "\\item Handlers-cleaners\n",
       "\\item Prof-specialty\n",
       "\\item Other-service\n",
       "\\item Sales\n",
       "\\item Craft-repair\n",
       "\\item Transport-moving\n",
       "\\item Farming-fishing\n",
       "\\item Machine-op-inspct\n",
       "\\item Tech-support\n",
       "\\item ?\n",
       "\\item Protective-serv\n",
       "\\item Armed-Forces\n",
       "\\item Priv-house-serv\n",
       "\\end{enumerate*}\n",
       "\n",
       "\\emph{Levels}: \\begin{enumerate*}\n",
       "\\item '?'\n",
       "\\item 'Adm-clerical'\n",
       "\\item 'Armed-Forces'\n",
       "\\item 'Craft-repair'\n",
       "\\item 'Exec-managerial'\n",
       "\\item 'Farming-fishing'\n",
       "\\item 'Handlers-cleaners'\n",
       "\\item 'Machine-op-inspct'\n",
       "\\item 'Other-service'\n",
       "\\item 'Priv-house-serv'\n",
       "\\item 'Prof-specialty'\n",
       "\\item 'Protective-serv'\n",
       "\\item 'Sales'\n",
       "\\item 'Tech-support'\n",
       "\\item 'Transport-moving'\n",
       "\\end{enumerate*}\n"
      ],
      "text/markdown": [
       "1. Adm-clerical\n",
       "2. Exec-managerial\n",
       "3. Handlers-cleaners\n",
       "4. Prof-specialty\n",
       "5. Other-service\n",
       "6. Sales\n",
       "7. Craft-repair\n",
       "8. Transport-moving\n",
       "9. Farming-fishing\n",
       "10. Machine-op-inspct\n",
       "11. Tech-support\n",
       "12. ?\n",
       "13. Protective-serv\n",
       "14. Armed-Forces\n",
       "15. Priv-house-serv\n",
       "\n",
       "\n",
       "\n",
       "**Levels**: 1. '?'\n",
       "2. 'Adm-clerical'\n",
       "3. 'Armed-Forces'\n",
       "4. 'Craft-repair'\n",
       "5. 'Exec-managerial'\n",
       "6. 'Farming-fishing'\n",
       "7. 'Handlers-cleaners'\n",
       "8. 'Machine-op-inspct'\n",
       "9. 'Other-service'\n",
       "10. 'Priv-house-serv'\n",
       "11. 'Prof-specialty'\n",
       "12. 'Protective-serv'\n",
       "13. 'Sales'\n",
       "14. 'Tech-support'\n",
       "15. 'Transport-moving'\n",
       "\n",
       "\n"
      ],
      "text/plain": [
       " [1] Adm-clerical      Exec-managerial   Handlers-cleaners Prof-specialty   \n",
       " [5] Other-service     Sales             Craft-repair      Transport-moving \n",
       " [9] Farming-fishing   Machine-op-inspct Tech-support      ?                \n",
       "[13] Protective-serv   Armed-Forces      Priv-house-serv  \n",
       "15 Levels: ? Adm-clerical Armed-Forces Craft-repair ... Transport-moving"
      ]
     },
     "metadata": {},
     "output_type": "display_data"
    }
   ],
   "source": [
    "unique(df$occupation)"
   ]
  },
  {
   "cell_type": "code",
   "execution_count": 21,
   "metadata": {},
   "outputs": [],
   "source": [
    "df$occupation[ df$occupation == \"?\" ] <- NA"
   ]
  },
  {
   "cell_type": "code",
   "execution_count": 22,
   "metadata": {},
   "outputs": [
    {
     "data": {
      "text/html": [
       "<table>\n",
       "<thead><tr><th scope=col>x</th><th scope=col>freq</th></tr></thead>\n",
       "<tbody>\n",
       "\t<tr><td>Adm-clerical     </td><td>3770             </td></tr>\n",
       "\t<tr><td>Armed-Forces     </td><td>   9             </td></tr>\n",
       "\t<tr><td>Craft-repair     </td><td>4099             </td></tr>\n",
       "\t<tr><td>Exec-managerial  </td><td>4066             </td></tr>\n",
       "\t<tr><td>Farming-fishing  </td><td> 994             </td></tr>\n",
       "\t<tr><td>Handlers-cleaners</td><td>1370             </td></tr>\n",
       "\t<tr><td>Machine-op-inspct</td><td>2002             </td></tr>\n",
       "\t<tr><td>Other-service    </td><td>3295             </td></tr>\n",
       "\t<tr><td>Priv-house-serv  </td><td> 149             </td></tr>\n",
       "\t<tr><td>Prof-specialty   </td><td>4140             </td></tr>\n",
       "\t<tr><td>Protective-serv  </td><td> 649             </td></tr>\n",
       "\t<tr><td>Sales            </td><td>3650             </td></tr>\n",
       "\t<tr><td>Tech-support     </td><td> 928             </td></tr>\n",
       "\t<tr><td>Transport-moving </td><td>1597             </td></tr>\n",
       "\t<tr><td>NA               </td><td>1843             </td></tr>\n",
       "</tbody>\n",
       "</table>\n"
      ],
      "text/latex": [
       "\\begin{tabular}{r|ll}\n",
       " x & freq\\\\\n",
       "\\hline\n",
       "\t Adm-clerical      & 3770             \\\\\n",
       "\t Armed-Forces      &    9             \\\\\n",
       "\t Craft-repair      & 4099             \\\\\n",
       "\t Exec-managerial   & 4066             \\\\\n",
       "\t Farming-fishing   &  994             \\\\\n",
       "\t Handlers-cleaners & 1370             \\\\\n",
       "\t Machine-op-inspct & 2002             \\\\\n",
       "\t Other-service     & 3295             \\\\\n",
       "\t Priv-house-serv   &  149             \\\\\n",
       "\t Prof-specialty    & 4140             \\\\\n",
       "\t Protective-serv   &  649             \\\\\n",
       "\t Sales             & 3650             \\\\\n",
       "\t Tech-support      &  928             \\\\\n",
       "\t Transport-moving  & 1597             \\\\\n",
       "\t NA                & 1843             \\\\\n",
       "\\end{tabular}\n"
      ],
      "text/markdown": [
       "\n",
       "| x | freq |\n",
       "|---|---|\n",
       "| Adm-clerical      | 3770              |\n",
       "| Armed-Forces      |    9              |\n",
       "| Craft-repair      | 4099              |\n",
       "| Exec-managerial   | 4066              |\n",
       "| Farming-fishing   |  994              |\n",
       "| Handlers-cleaners | 1370              |\n",
       "| Machine-op-inspct | 2002              |\n",
       "| Other-service     | 3295              |\n",
       "| Priv-house-serv   |  149              |\n",
       "| Prof-specialty    | 4140              |\n",
       "| Protective-serv   |  649              |\n",
       "| Sales             | 3650              |\n",
       "| Tech-support      |  928              |\n",
       "| Transport-moving  | 1597              |\n",
       "| NA                | 1843              |\n",
       "\n"
      ],
      "text/plain": [
       "   x                 freq\n",
       "1  Adm-clerical      3770\n",
       "2  Armed-Forces         9\n",
       "3  Craft-repair      4099\n",
       "4  Exec-managerial   4066\n",
       "5  Farming-fishing    994\n",
       "6  Handlers-cleaners 1370\n",
       "7  Machine-op-inspct 2002\n",
       "8  Other-service     3295\n",
       "9  Priv-house-serv    149\n",
       "10 Prof-specialty    4140\n",
       "11 Protective-serv    649\n",
       "12 Sales             3650\n",
       "13 Tech-support       928\n",
       "14 Transport-moving  1597\n",
       "15 NA                1843"
      ]
     },
     "metadata": {},
     "output_type": "display_data"
    }
   ],
   "source": [
    "count(df$occupation)"
   ]
  },
  {
   "cell_type": "markdown",
   "metadata": {},
   "source": [
    "**Explorer la variable native country**"
   ]
  },
  {
   "cell_type": "code",
   "execution_count": 23,
   "metadata": {},
   "outputs": [
    {
     "data": {
      "text/html": [
       "<ol class=list-inline>\n",
       "\t<li>United-States</li>\n",
       "\t<li>Cuba</li>\n",
       "\t<li>Jamaica</li>\n",
       "\t<li>India</li>\n",
       "\t<li>?</li>\n",
       "\t<li>Mexico</li>\n",
       "\t<li>South</li>\n",
       "\t<li>Puerto-Rico</li>\n",
       "\t<li>Honduras</li>\n",
       "\t<li>England</li>\n",
       "\t<li>Canada</li>\n",
       "\t<li>Germany</li>\n",
       "\t<li>Iran</li>\n",
       "\t<li>Philippines</li>\n",
       "\t<li>Italy</li>\n",
       "\t<li>Poland</li>\n",
       "\t<li>Columbia</li>\n",
       "\t<li>Cambodia</li>\n",
       "\t<li>Thailand</li>\n",
       "\t<li>Ecuador</li>\n",
       "\t<li>Laos</li>\n",
       "\t<li>Taiwan</li>\n",
       "\t<li>Haiti</li>\n",
       "\t<li>Portugal</li>\n",
       "\t<li>Dominican-Republic</li>\n",
       "\t<li>El-Salvador</li>\n",
       "\t<li>France</li>\n",
       "\t<li>Guatemala</li>\n",
       "\t<li>China</li>\n",
       "\t<li>Japan</li>\n",
       "\t<li>Yugoslavia</li>\n",
       "\t<li>Peru</li>\n",
       "\t<li>Outlying-US(Guam-USVI-etc)</li>\n",
       "\t<li>Scotland</li>\n",
       "\t<li>Trinadad&amp;Tobago</li>\n",
       "\t<li>Greece</li>\n",
       "\t<li>Nicaragua</li>\n",
       "\t<li>Vietnam</li>\n",
       "\t<li>Hong</li>\n",
       "\t<li>Ireland</li>\n",
       "\t<li>Hungary</li>\n",
       "\t<li>Holand-Netherlands</li>\n",
       "</ol>\n",
       "\n",
       "<details>\n",
       "\t<summary style=display:list-item;cursor:pointer>\n",
       "\t\t<strong>Levels</strong>:\n",
       "\t</summary>\n",
       "\t<ol class=list-inline>\n",
       "\t\t<li>'?'</li>\n",
       "\t\t<li>'Cambodia'</li>\n",
       "\t\t<li>'Canada'</li>\n",
       "\t\t<li>'China'</li>\n",
       "\t\t<li>'Columbia'</li>\n",
       "\t\t<li>'Cuba'</li>\n",
       "\t\t<li>'Dominican-Republic'</li>\n",
       "\t\t<li>'Ecuador'</li>\n",
       "\t\t<li>'El-Salvador'</li>\n",
       "\t\t<li>'England'</li>\n",
       "\t\t<li>'France'</li>\n",
       "\t\t<li>'Germany'</li>\n",
       "\t\t<li>'Greece'</li>\n",
       "\t\t<li>'Guatemala'</li>\n",
       "\t\t<li>'Haiti'</li>\n",
       "\t\t<li>'Holand-Netherlands'</li>\n",
       "\t\t<li>'Honduras'</li>\n",
       "\t\t<li>'Hong'</li>\n",
       "\t\t<li>'Hungary'</li>\n",
       "\t\t<li>'India'</li>\n",
       "\t\t<li>'Iran'</li>\n",
       "\t\t<li>'Ireland'</li>\n",
       "\t\t<li>'Italy'</li>\n",
       "\t\t<li>'Jamaica'</li>\n",
       "\t\t<li>'Japan'</li>\n",
       "\t\t<li>'Laos'</li>\n",
       "\t\t<li>'Mexico'</li>\n",
       "\t\t<li>'Nicaragua'</li>\n",
       "\t\t<li>'Outlying-US(Guam-USVI-etc)'</li>\n",
       "\t\t<li>'Peru'</li>\n",
       "\t\t<li>'Philippines'</li>\n",
       "\t\t<li>'Poland'</li>\n",
       "\t\t<li>'Portugal'</li>\n",
       "\t\t<li>'Puerto-Rico'</li>\n",
       "\t\t<li>'Scotland'</li>\n",
       "\t\t<li>'South'</li>\n",
       "\t\t<li>'Taiwan'</li>\n",
       "\t\t<li>'Thailand'</li>\n",
       "\t\t<li>'Trinadad&amp;Tobago'</li>\n",
       "\t\t<li>'United-States'</li>\n",
       "\t\t<li>'Vietnam'</li>\n",
       "\t\t<li>'Yugoslavia'</li>\n",
       "\t</ol>\n",
       "</details>"
      ],
      "text/latex": [
       "\\begin{enumerate*}\n",
       "\\item United-States\n",
       "\\item Cuba\n",
       "\\item Jamaica\n",
       "\\item India\n",
       "\\item ?\n",
       "\\item Mexico\n",
       "\\item South\n",
       "\\item Puerto-Rico\n",
       "\\item Honduras\n",
       "\\item England\n",
       "\\item Canada\n",
       "\\item Germany\n",
       "\\item Iran\n",
       "\\item Philippines\n",
       "\\item Italy\n",
       "\\item Poland\n",
       "\\item Columbia\n",
       "\\item Cambodia\n",
       "\\item Thailand\n",
       "\\item Ecuador\n",
       "\\item Laos\n",
       "\\item Taiwan\n",
       "\\item Haiti\n",
       "\\item Portugal\n",
       "\\item Dominican-Republic\n",
       "\\item El-Salvador\n",
       "\\item France\n",
       "\\item Guatemala\n",
       "\\item China\n",
       "\\item Japan\n",
       "\\item Yugoslavia\n",
       "\\item Peru\n",
       "\\item Outlying-US(Guam-USVI-etc)\n",
       "\\item Scotland\n",
       "\\item Trinadad\\&Tobago\n",
       "\\item Greece\n",
       "\\item Nicaragua\n",
       "\\item Vietnam\n",
       "\\item Hong\n",
       "\\item Ireland\n",
       "\\item Hungary\n",
       "\\item Holand-Netherlands\n",
       "\\end{enumerate*}\n",
       "\n",
       "\\emph{Levels}: \\begin{enumerate*}\n",
       "\\item '?'\n",
       "\\item 'Cambodia'\n",
       "\\item 'Canada'\n",
       "\\item 'China'\n",
       "\\item 'Columbia'\n",
       "\\item 'Cuba'\n",
       "\\item 'Dominican-Republic'\n",
       "\\item 'Ecuador'\n",
       "\\item 'El-Salvador'\n",
       "\\item 'England'\n",
       "\\item 'France'\n",
       "\\item 'Germany'\n",
       "\\item 'Greece'\n",
       "\\item 'Guatemala'\n",
       "\\item 'Haiti'\n",
       "\\item 'Holand-Netherlands'\n",
       "\\item 'Honduras'\n",
       "\\item 'Hong'\n",
       "\\item 'Hungary'\n",
       "\\item 'India'\n",
       "\\item 'Iran'\n",
       "\\item 'Ireland'\n",
       "\\item 'Italy'\n",
       "\\item 'Jamaica'\n",
       "\\item 'Japan'\n",
       "\\item 'Laos'\n",
       "\\item 'Mexico'\n",
       "\\item 'Nicaragua'\n",
       "\\item 'Outlying-US(Guam-USVI-etc)'\n",
       "\\item 'Peru'\n",
       "\\item 'Philippines'\n",
       "\\item 'Poland'\n",
       "\\item 'Portugal'\n",
       "\\item 'Puerto-Rico'\n",
       "\\item 'Scotland'\n",
       "\\item 'South'\n",
       "\\item 'Taiwan'\n",
       "\\item 'Thailand'\n",
       "\\item 'Trinadad\\&Tobago'\n",
       "\\item 'United-States'\n",
       "\\item 'Vietnam'\n",
       "\\item 'Yugoslavia'\n",
       "\\end{enumerate*}\n"
      ],
      "text/markdown": [
       "1. United-States\n",
       "2. Cuba\n",
       "3. Jamaica\n",
       "4. India\n",
       "5. ?\n",
       "6. Mexico\n",
       "7. South\n",
       "8. Puerto-Rico\n",
       "9. Honduras\n",
       "10. England\n",
       "11. Canada\n",
       "12. Germany\n",
       "13. Iran\n",
       "14. Philippines\n",
       "15. Italy\n",
       "16. Poland\n",
       "17. Columbia\n",
       "18. Cambodia\n",
       "19. Thailand\n",
       "20. Ecuador\n",
       "21. Laos\n",
       "22. Taiwan\n",
       "23. Haiti\n",
       "24. Portugal\n",
       "25. Dominican-Republic\n",
       "26. El-Salvador\n",
       "27. France\n",
       "28. Guatemala\n",
       "29. China\n",
       "30. Japan\n",
       "31. Yugoslavia\n",
       "32. Peru\n",
       "33. Outlying-US(Guam-USVI-etc)\n",
       "34. Scotland\n",
       "35. Trinadad&amp;Tobago\n",
       "36. Greece\n",
       "37. Nicaragua\n",
       "38. Vietnam\n",
       "39. Hong\n",
       "40. Ireland\n",
       "41. Hungary\n",
       "42. Holand-Netherlands\n",
       "\n",
       "\n",
       "\n",
       "**Levels**: 1. '?'\n",
       "2. 'Cambodia'\n",
       "3. 'Canada'\n",
       "4. 'China'\n",
       "5. 'Columbia'\n",
       "6. 'Cuba'\n",
       "7. 'Dominican-Republic'\n",
       "8. 'Ecuador'\n",
       "9. 'El-Salvador'\n",
       "10. 'England'\n",
       "11. 'France'\n",
       "12. 'Germany'\n",
       "13. 'Greece'\n",
       "14. 'Guatemala'\n",
       "15. 'Haiti'\n",
       "16. 'Holand-Netherlands'\n",
       "17. 'Honduras'\n",
       "18. 'Hong'\n",
       "19. 'Hungary'\n",
       "20. 'India'\n",
       "21. 'Iran'\n",
       "22. 'Ireland'\n",
       "23. 'Italy'\n",
       "24. 'Jamaica'\n",
       "25. 'Japan'\n",
       "26. 'Laos'\n",
       "27. 'Mexico'\n",
       "28. 'Nicaragua'\n",
       "29. 'Outlying-US(Guam-USVI-etc)'\n",
       "30. 'Peru'\n",
       "31. 'Philippines'\n",
       "32. 'Poland'\n",
       "33. 'Portugal'\n",
       "34. 'Puerto-Rico'\n",
       "35. 'Scotland'\n",
       "36. 'South'\n",
       "37. 'Taiwan'\n",
       "38. 'Thailand'\n",
       "39. 'Trinadad&amp;Tobago'\n",
       "40. 'United-States'\n",
       "41. 'Vietnam'\n",
       "42. 'Yugoslavia'\n",
       "\n",
       "\n"
      ],
      "text/plain": [
       " [1] United-States              Cuba                      \n",
       " [3] Jamaica                    India                     \n",
       " [5] ?                          Mexico                    \n",
       " [7] South                      Puerto-Rico               \n",
       " [9] Honduras                   England                   \n",
       "[11] Canada                     Germany                   \n",
       "[13] Iran                       Philippines               \n",
       "[15] Italy                      Poland                    \n",
       "[17] Columbia                   Cambodia                  \n",
       "[19] Thailand                   Ecuador                   \n",
       "[21] Laos                       Taiwan                    \n",
       "[23] Haiti                      Portugal                  \n",
       "[25] Dominican-Republic         El-Salvador               \n",
       "[27] France                     Guatemala                 \n",
       "[29] China                      Japan                     \n",
       "[31] Yugoslavia                 Peru                      \n",
       "[33] Outlying-US(Guam-USVI-etc) Scotland                  \n",
       "[35] Trinadad&Tobago            Greece                    \n",
       "[37] Nicaragua                  Vietnam                   \n",
       "[39] Hong                       Ireland                   \n",
       "[41] Hungary                    Holand-Netherlands        \n",
       "42 Levels: ? Cambodia Canada China Columbia Cuba Dominican-Republic ... Yugoslavia"
      ]
     },
     "metadata": {},
     "output_type": "display_data"
    }
   ],
   "source": [
    "unique(df$native_country)"
   ]
  },
  {
   "cell_type": "code",
   "execution_count": 24,
   "metadata": {},
   "outputs": [],
   "source": [
    "df$native_country[ df$native_country == \"?\" ] <- NA"
   ]
  },
  {
   "cell_type": "code",
   "execution_count": 25,
   "metadata": {},
   "outputs": [
    {
     "data": {
      "text/html": [
       "<table>\n",
       "<thead><tr><th scope=col>x</th><th scope=col>freq</th></tr></thead>\n",
       "<tbody>\n",
       "\t<tr><td>Cambodia                  </td><td>   19                     </td></tr>\n",
       "\t<tr><td>Canada                    </td><td>  121                     </td></tr>\n",
       "\t<tr><td>China                     </td><td>   75                     </td></tr>\n",
       "\t<tr><td>Columbia                  </td><td>   59                     </td></tr>\n",
       "\t<tr><td>Cuba                      </td><td>   95                     </td></tr>\n",
       "\t<tr><td>Dominican-Republic        </td><td>   70                     </td></tr>\n",
       "\t<tr><td>Ecuador                   </td><td>   28                     </td></tr>\n",
       "\t<tr><td>El-Salvador               </td><td>  106                     </td></tr>\n",
       "\t<tr><td>England                   </td><td>   90                     </td></tr>\n",
       "\t<tr><td>France                    </td><td>   29                     </td></tr>\n",
       "\t<tr><td>Germany                   </td><td>  137                     </td></tr>\n",
       "\t<tr><td>Greece                    </td><td>   29                     </td></tr>\n",
       "\t<tr><td>Guatemala                 </td><td>   64                     </td></tr>\n",
       "\t<tr><td>Haiti                     </td><td>   44                     </td></tr>\n",
       "\t<tr><td>Holand-Netherlands        </td><td>    1                     </td></tr>\n",
       "\t<tr><td>Honduras                  </td><td>   13                     </td></tr>\n",
       "\t<tr><td>Hong                      </td><td>   20                     </td></tr>\n",
       "\t<tr><td>Hungary                   </td><td>   13                     </td></tr>\n",
       "\t<tr><td>India                     </td><td>  100                     </td></tr>\n",
       "\t<tr><td>Iran                      </td><td>   43                     </td></tr>\n",
       "\t<tr><td>Ireland                   </td><td>   24                     </td></tr>\n",
       "\t<tr><td>Italy                     </td><td>   73                     </td></tr>\n",
       "\t<tr><td>Jamaica                   </td><td>   81                     </td></tr>\n",
       "\t<tr><td>Japan                     </td><td>   62                     </td></tr>\n",
       "\t<tr><td>Laos                      </td><td>   18                     </td></tr>\n",
       "\t<tr><td>Mexico                    </td><td>  643                     </td></tr>\n",
       "\t<tr><td>Nicaragua                 </td><td>   34                     </td></tr>\n",
       "\t<tr><td>Outlying-US(Guam-USVI-etc)</td><td>   14                     </td></tr>\n",
       "\t<tr><td>Peru                      </td><td>   31                     </td></tr>\n",
       "\t<tr><td>Philippines               </td><td>  198                     </td></tr>\n",
       "\t<tr><td>Poland                    </td><td>   60                     </td></tr>\n",
       "\t<tr><td>Portugal                  </td><td>   37                     </td></tr>\n",
       "\t<tr><td>Puerto-Rico               </td><td>  114                     </td></tr>\n",
       "\t<tr><td>Scotland                  </td><td>   12                     </td></tr>\n",
       "\t<tr><td>South                     </td><td>   80                     </td></tr>\n",
       "\t<tr><td>Taiwan                    </td><td>   51                     </td></tr>\n",
       "\t<tr><td>Thailand                  </td><td>   18                     </td></tr>\n",
       "\t<tr><td><span style=white-space:pre-wrap>Trinadad&amp;Tobago           </span></td><td><span style=white-space:pre-wrap>   19</span>                         </td></tr>\n",
       "\t<tr><td>United-States             </td><td>29170                     </td></tr>\n",
       "\t<tr><td>Vietnam                   </td><td>   67                     </td></tr>\n",
       "\t<tr><td>Yugoslavia                </td><td>   16                     </td></tr>\n",
       "\t<tr><td>NA                        </td><td>  583                     </td></tr>\n",
       "</tbody>\n",
       "</table>\n"
      ],
      "text/latex": [
       "\\begin{tabular}{r|ll}\n",
       " x & freq\\\\\n",
       "\\hline\n",
       "\t Cambodia                   &    19                     \\\\\n",
       "\t Canada                     &   121                     \\\\\n",
       "\t China                      &    75                     \\\\\n",
       "\t Columbia                   &    59                     \\\\\n",
       "\t Cuba                       &    95                     \\\\\n",
       "\t Dominican-Republic         &    70                     \\\\\n",
       "\t Ecuador                    &    28                     \\\\\n",
       "\t El-Salvador                &   106                     \\\\\n",
       "\t England                    &    90                     \\\\\n",
       "\t France                     &    29                     \\\\\n",
       "\t Germany                    &   137                     \\\\\n",
       "\t Greece                     &    29                     \\\\\n",
       "\t Guatemala                  &    64                     \\\\\n",
       "\t Haiti                      &    44                     \\\\\n",
       "\t Holand-Netherlands         &     1                     \\\\\n",
       "\t Honduras                   &    13                     \\\\\n",
       "\t Hong                       &    20                     \\\\\n",
       "\t Hungary                    &    13                     \\\\\n",
       "\t India                      &   100                     \\\\\n",
       "\t Iran                       &    43                     \\\\\n",
       "\t Ireland                    &    24                     \\\\\n",
       "\t Italy                      &    73                     \\\\\n",
       "\t Jamaica                    &    81                     \\\\\n",
       "\t Japan                      &    62                     \\\\\n",
       "\t Laos                       &    18                     \\\\\n",
       "\t Mexico                     &   643                     \\\\\n",
       "\t Nicaragua                  &    34                     \\\\\n",
       "\t Outlying-US(Guam-USVI-etc) &    14                     \\\\\n",
       "\t Peru                       &    31                     \\\\\n",
       "\t Philippines                &   198                     \\\\\n",
       "\t Poland                     &    60                     \\\\\n",
       "\t Portugal                   &    37                     \\\\\n",
       "\t Puerto-Rico                &   114                     \\\\\n",
       "\t Scotland                   &    12                     \\\\\n",
       "\t South                      &    80                     \\\\\n",
       "\t Taiwan                     &    51                     \\\\\n",
       "\t Thailand                   &    18                     \\\\\n",
       "\t Trinadad\\&Tobago            &    19                       \\\\\n",
       "\t United-States              & 29170                     \\\\\n",
       "\t Vietnam                    &    67                     \\\\\n",
       "\t Yugoslavia                 &    16                     \\\\\n",
       "\t NA                         &   583                     \\\\\n",
       "\\end{tabular}\n"
      ],
      "text/markdown": [
       "\n",
       "| x | freq |\n",
       "|---|---|\n",
       "| Cambodia                   |    19                      |\n",
       "| Canada                     |   121                      |\n",
       "| China                      |    75                      |\n",
       "| Columbia                   |    59                      |\n",
       "| Cuba                       |    95                      |\n",
       "| Dominican-Republic         |    70                      |\n",
       "| Ecuador                    |    28                      |\n",
       "| El-Salvador                |   106                      |\n",
       "| England                    |    90                      |\n",
       "| France                     |    29                      |\n",
       "| Germany                    |   137                      |\n",
       "| Greece                     |    29                      |\n",
       "| Guatemala                  |    64                      |\n",
       "| Haiti                      |    44                      |\n",
       "| Holand-Netherlands         |     1                      |\n",
       "| Honduras                   |    13                      |\n",
       "| Hong                       |    20                      |\n",
       "| Hungary                    |    13                      |\n",
       "| India                      |   100                      |\n",
       "| Iran                       |    43                      |\n",
       "| Ireland                    |    24                      |\n",
       "| Italy                      |    73                      |\n",
       "| Jamaica                    |    81                      |\n",
       "| Japan                      |    62                      |\n",
       "| Laos                       |    18                      |\n",
       "| Mexico                     |   643                      |\n",
       "| Nicaragua                  |    34                      |\n",
       "| Outlying-US(Guam-USVI-etc) |    14                      |\n",
       "| Peru                       |    31                      |\n",
       "| Philippines                |   198                      |\n",
       "| Poland                     |    60                      |\n",
       "| Portugal                   |    37                      |\n",
       "| Puerto-Rico                |   114                      |\n",
       "| Scotland                   |    12                      |\n",
       "| South                      |    80                      |\n",
       "| Taiwan                     |    51                      |\n",
       "| Thailand                   |    18                      |\n",
       "| Trinadad&Tobago            |    19                      |\n",
       "| United-States              | 29170                      |\n",
       "| Vietnam                    |    67                      |\n",
       "| Yugoslavia                 |    16                      |\n",
       "| NA                         |   583                      |\n",
       "\n"
      ],
      "text/plain": [
       "   x                          freq \n",
       "1  Cambodia                      19\n",
       "2  Canada                       121\n",
       "3  China                         75\n",
       "4  Columbia                      59\n",
       "5  Cuba                          95\n",
       "6  Dominican-Republic            70\n",
       "7  Ecuador                       28\n",
       "8  El-Salvador                  106\n",
       "9  England                       90\n",
       "10 France                        29\n",
       "11 Germany                      137\n",
       "12 Greece                        29\n",
       "13 Guatemala                     64\n",
       "14 Haiti                         44\n",
       "15 Holand-Netherlands             1\n",
       "16 Honduras                      13\n",
       "17 Hong                          20\n",
       "18 Hungary                       13\n",
       "19 India                        100\n",
       "20 Iran                          43\n",
       "21 Ireland                       24\n",
       "22 Italy                         73\n",
       "23 Jamaica                       81\n",
       "24 Japan                         62\n",
       "25 Laos                          18\n",
       "26 Mexico                       643\n",
       "27 Nicaragua                     34\n",
       "28 Outlying-US(Guam-USVI-etc)    14\n",
       "29 Peru                          31\n",
       "30 Philippines                  198\n",
       "31 Poland                        60\n",
       "32 Portugal                      37\n",
       "33 Puerto-Rico                  114\n",
       "34 Scotland                      12\n",
       "35 South                         80\n",
       "36 Taiwan                        51\n",
       "37 Thailand                      18\n",
       "38 Trinadad&Tobago               19\n",
       "39 United-States              29170\n",
       "40 Vietnam                       67\n",
       "41 Yugoslavia                    16\n",
       "42 NA                           583"
      ]
     },
     "metadata": {},
     "output_type": "display_data"
    }
   ],
   "source": [
    "count(df$native_country)"
   ]
  },
  {
   "cell_type": "markdown",
   "metadata": {},
   "source": [
    "# Explorer les variables numériques"
   ]
  },
  {
   "cell_type": "markdown",
   "metadata": {},
   "source": [
    "**Extraire des variables numériques**"
   ]
  },
  {
   "cell_type": "code",
   "execution_count": 26,
   "metadata": {},
   "outputs": [],
   "source": [
    "numerical <- vector()\n",
    "for (i in colnames(df)){\n",
    "    if (is.numeric(df[[i]])) {\n",
    "        numerical <- c(numerical, i)\n",
    "    }  \n",
    "}"
   ]
  },
  {
   "cell_type": "code",
   "execution_count": 27,
   "metadata": {},
   "outputs": [
    {
     "data": {
      "text/html": [
       "<ol class=list-inline>\n",
       "\t<li>'age'</li>\n",
       "\t<li>'fnlwgt'</li>\n",
       "\t<li>'education_num'</li>\n",
       "\t<li>'capital_gain'</li>\n",
       "\t<li>'capital_loss'</li>\n",
       "\t<li>'hours_per_week'</li>\n",
       "</ol>\n"
      ],
      "text/latex": [
       "\\begin{enumerate*}\n",
       "\\item 'age'\n",
       "\\item 'fnlwgt'\n",
       "\\item 'education\\_num'\n",
       "\\item 'capital\\_gain'\n",
       "\\item 'capital\\_loss'\n",
       "\\item 'hours\\_per\\_week'\n",
       "\\end{enumerate*}\n"
      ],
      "text/markdown": [
       "1. 'age'\n",
       "2. 'fnlwgt'\n",
       "3. 'education_num'\n",
       "4. 'capital_gain'\n",
       "5. 'capital_loss'\n",
       "6. 'hours_per_week'\n",
       "\n",
       "\n"
      ],
      "text/plain": [
       "[1] \"age\"            \"fnlwgt\"         \"education_num\"  \"capital_gain\"  \n",
       "[5] \"capital_loss\"   \"hours_per_week\""
      ]
     },
     "metadata": {},
     "output_type": "display_data"
    }
   ],
   "source": [
    "numerical"
   ]
  },
  {
   "cell_type": "code",
   "execution_count": 28,
   "metadata": {},
   "outputs": [
    {
     "data": {
      "text/html": [
       "<table>\n",
       "<thead><tr><th scope=col>age</th><th scope=col>fnlwgt</th><th scope=col>education_num</th><th scope=col>capital_gain</th><th scope=col>capital_loss</th><th scope=col>hours_per_week</th></tr></thead>\n",
       "<tbody>\n",
       "\t<tr><td>39    </td><td> 77516</td><td>13    </td><td>2174  </td><td>0     </td><td>40    </td></tr>\n",
       "\t<tr><td>50    </td><td> 83311</td><td>13    </td><td>   0  </td><td>0     </td><td>13    </td></tr>\n",
       "\t<tr><td>38    </td><td>215646</td><td> 9    </td><td>   0  </td><td>0     </td><td>40    </td></tr>\n",
       "\t<tr><td>53    </td><td>234721</td><td> 7    </td><td>   0  </td><td>0     </td><td>40    </td></tr>\n",
       "\t<tr><td>28    </td><td>338409</td><td>13    </td><td>   0  </td><td>0     </td><td>40    </td></tr>\n",
       "\t<tr><td>37    </td><td>284582</td><td>14    </td><td>   0  </td><td>0     </td><td>40    </td></tr>\n",
       "</tbody>\n",
       "</table>\n"
      ],
      "text/latex": [
       "\\begin{tabular}{r|llllll}\n",
       " age & fnlwgt & education\\_num & capital\\_gain & capital\\_loss & hours\\_per\\_week\\\\\n",
       "\\hline\n",
       "\t 39     &  77516 & 13     & 2174   & 0      & 40    \\\\\n",
       "\t 50     &  83311 & 13     &    0   & 0      & 13    \\\\\n",
       "\t 38     & 215646 &  9     &    0   & 0      & 40    \\\\\n",
       "\t 53     & 234721 &  7     &    0   & 0      & 40    \\\\\n",
       "\t 28     & 338409 & 13     &    0   & 0      & 40    \\\\\n",
       "\t 37     & 284582 & 14     &    0   & 0      & 40    \\\\\n",
       "\\end{tabular}\n"
      ],
      "text/markdown": [
       "\n",
       "| age | fnlwgt | education_num | capital_gain | capital_loss | hours_per_week |\n",
       "|---|---|---|---|---|---|\n",
       "| 39     |  77516 | 13     | 2174   | 0      | 40     |\n",
       "| 50     |  83311 | 13     |    0   | 0      | 13     |\n",
       "| 38     | 215646 |  9     |    0   | 0      | 40     |\n",
       "| 53     | 234721 |  7     |    0   | 0      | 40     |\n",
       "| 28     | 338409 | 13     |    0   | 0      | 40     |\n",
       "| 37     | 284582 | 14     |    0   | 0      | 40     |\n",
       "\n"
      ],
      "text/plain": [
       "  age fnlwgt education_num capital_gain capital_loss hours_per_week\n",
       "1 39   77516 13            2174         0            40            \n",
       "2 50   83311 13               0         0            13            \n",
       "3 38  215646  9               0         0            40            \n",
       "4 53  234721  7               0         0            40            \n",
       "5 28  338409 13               0         0            40            \n",
       "6 37  284582 14               0         0            40            "
      ]
     },
     "metadata": {},
     "output_type": "display_data"
    }
   ],
   "source": [
    "head(df[,numerical])"
   ]
  },
  {
   "cell_type": "code",
   "execution_count": 29,
   "metadata": {},
   "outputs": [
    {
     "data": {
      "text/html": [
       "0"
      ],
      "text/latex": [
       "0"
      ],
      "text/markdown": [
       "0"
      ],
      "text/plain": [
       "[1] 0"
      ]
     },
     "metadata": {},
     "output_type": "display_data"
    }
   ],
   "source": [
    "sum(is.na(df[,numerical])) ##TODO"
   ]
  },
  {
   "cell_type": "markdown",
   "metadata": {},
   "source": [
    "**Explorer la variable age**"
   ]
  },
  {
   "cell_type": "code",
   "execution_count": 30,
   "metadata": {},
   "outputs": [
    {
     "data": {
      "text/html": [
       "73"
      ],
      "text/latex": [
       "73"
      ],
      "text/markdown": [
       "73"
      ],
      "text/plain": [
       "[1] 73"
      ]
     },
     "metadata": {},
     "output_type": "display_data"
    }
   ],
   "source": [
    "length(unique(df$age))"
   ]
  },
  {
   "cell_type": "markdown",
   "metadata": {},
   "source": [
    "# Declarer les vecteurs feature et la variable ciblée"
   ]
  },
  {
   "cell_type": "code",
   "execution_count": 31,
   "metadata": {},
   "outputs": [],
   "source": [
    "# Random sample indexes\n",
    "train_index <- sample(1:nrow(df), 0.7 * nrow(df))\n",
    "test_index <- setdiff(1:nrow(df), train_index)\n",
    "\n",
    "# Build X_train, y_train, X_test, y_test\n",
    "X_train <- df[train_index, -15]\n",
    "y_train <- df[train_index, \"salary\"]\n",
    "\n",
    "X_test <- df[test_index, -15]\n",
    "y_test <- df[test_index, \"salary\"]"
   ]
  },
  {
   "cell_type": "code",
   "execution_count": 32,
   "metadata": {},
   "outputs": [
    {
     "data": {
      "text/html": [
       "<ol class=list-inline>\n",
       "\t<li>22792</li>\n",
       "\t<li>14</li>\n",
       "</ol>\n"
      ],
      "text/latex": [
       "\\begin{enumerate*}\n",
       "\\item 22792\n",
       "\\item 14\n",
       "\\end{enumerate*}\n"
      ],
      "text/markdown": [
       "1. 22792\n",
       "2. 14\n",
       "\n",
       "\n"
      ],
      "text/plain": [
       "[1] 22792    14"
      ]
     },
     "metadata": {},
     "output_type": "display_data"
    }
   ],
   "source": [
    "dim(X_train)"
   ]
  },
  {
   "cell_type": "code",
   "execution_count": 33,
   "metadata": {},
   "outputs": [
    {
     "data": {
      "text/html": [
       "<ol class=list-inline>\n",
       "\t<li>9769</li>\n",
       "\t<li>14</li>\n",
       "</ol>\n"
      ],
      "text/latex": [
       "\\begin{enumerate*}\n",
       "\\item 9769\n",
       "\\item 14\n",
       "\\end{enumerate*}\n"
      ],
      "text/markdown": [
       "1. 9769\n",
       "2. 14\n",
       "\n",
       "\n"
      ],
      "text/plain": [
       "[1] 9769   14"
      ]
     },
     "metadata": {},
     "output_type": "display_data"
    }
   ],
   "source": [
    "dim(X_test)"
   ]
  },
  {
   "cell_type": "markdown",
   "metadata": {},
   "source": [
    "# Feature Engineering"
   ]
  },
  {
   "cell_type": "markdown",
   "metadata": {},
   "source": [
    "**Valeur Null Manqué**"
   ]
  },
  {
   "cell_type": "code",
   "execution_count": 41,
   "metadata": {},
   "outputs": [],
   "source": [
    "categorical <- categorical[categorical != \"salary\"]\n",
    "\n",
    "#for (i in colnames(X_train)) {\n",
    "#    if (is.na(X_train$i)) {\n",
    "#        mean(X_train$i, na.rm=TRUE)\n",
    "#    }\n",
    "#}\n",
    "#head(X_train)\n",
    "#is.na(X_train$age)"
   ]
  },
  {
   "cell_type": "code",
   "execution_count": null,
   "metadata": {},
   "outputs": [],
   "source": [
    "#for(i in 1:ncol(X_train)){\n",
    "#  X_train[is.na(X_train[,i]), i] <- mean(X_train[,i], na.rm = TRUE)\n",
    "#}"
   ]
  },
  {
   "cell_type": "code",
   "execution_count": 35,
   "metadata": {},
   "outputs": [],
   "source": [
    "#myFun <- function(x) {\n",
    "#  if (is.numeric(x)) {\n",
    "#    x[is.na(x)] <- mean(x, na.rm = TRUE)\n",
    "#    x\n",
    "#  } else {\n",
    "#    x[is.na(x)] <- names(which.max(table(x)))\n",
    "#    x\n",
    "#  }\n",
    "#}\n",
    "#\n",
    "#x[, lapply(.SD, myFun)]"
   ]
  },
  {
   "cell_type": "code",
   "execution_count": 36,
   "metadata": {},
   "outputs": [],
   "source": [
    "X_train$native_country[is.na(X_train$native_country)] <- names(which.max(table(X_train$native_country)))\n",
    "X_train$workclass[is.na(X_train$workclass)] <- names(which.max(table(X_train$workclass)))\n",
    "X_train$occupation[is.na(X_train$occupation)] <- names(which.max(table(X_train$occupation)))\n",
    "\n",
    "X_test$native_country[is.na(X_test$native_country)] <- names(which.max(table(X_test$native_country)))\n",
    "X_test$workclass[is.na(X_test$workclass)] <- names(which.max(table(X_test$workclass)))\n",
    "X_test$occupation[is.na(X_test$occupation)] <- names(which.max(table(X_test$occupation)))"
   ]
  },
  {
   "cell_type": "code",
   "execution_count": null,
   "metadata": {},
   "outputs": [],
   "source": [
    "count(X_test$native_country)"
   ]
  },
  {
   "cell_type": "code",
   "execution_count": 42,
   "metadata": {},
   "outputs": [
    {
     "data": {
      "text/html": [
       "<ol class=list-inline>\n",
       "\t<li>'workclass'</li>\n",
       "\t<li>'education'</li>\n",
       "\t<li>'marital_status'</li>\n",
       "\t<li>'occupation'</li>\n",
       "\t<li>'relationship'</li>\n",
       "\t<li>'race'</li>\n",
       "\t<li>'sex'</li>\n",
       "\t<li>'native_country'</li>\n",
       "</ol>\n"
      ],
      "text/latex": [
       "\\begin{enumerate*}\n",
       "\\item 'workclass'\n",
       "\\item 'education'\n",
       "\\item 'marital\\_status'\n",
       "\\item 'occupation'\n",
       "\\item 'relationship'\n",
       "\\item 'race'\n",
       "\\item 'sex'\n",
       "\\item 'native\\_country'\n",
       "\\end{enumerate*}\n"
      ],
      "text/markdown": [
       "1. 'workclass'\n",
       "2. 'education'\n",
       "3. 'marital_status'\n",
       "4. 'occupation'\n",
       "5. 'relationship'\n",
       "6. 'race'\n",
       "7. 'sex'\n",
       "8. 'native_country'\n",
       "\n",
       "\n"
      ],
      "text/plain": [
       "[1] \"workclass\"      \"education\"      \"marital_status\" \"occupation\"    \n",
       "[5] \"relationship\"   \"race\"           \"sex\"            \"native_country\""
      ]
     },
     "metadata": {},
     "output_type": "display_data"
    },
    {
     "data": {
      "text/html": [
       "<table>\n",
       "<thead><tr><th></th><th scope=col>workclass</th><th scope=col>education</th><th scope=col>marital_status</th><th scope=col>occupation</th><th scope=col>relationship</th><th scope=col>race</th><th scope=col>sex</th><th scope=col>native_country</th></tr></thead>\n",
       "<tbody>\n",
       "\t<tr><th scope=row>21667</th><td>Private           </td><td>10th              </td><td>Never-married     </td><td>Craft-repair      </td><td>Own-child         </td><td>White             </td><td>Female            </td><td>United-States     </td></tr>\n",
       "\t<tr><th scope=row>1411</th><td>Private           </td><td>HS-grad           </td><td>Widowed           </td><td>Other-service     </td><td>Unmarried         </td><td>White             </td><td>Female            </td><td>United-States     </td></tr>\n",
       "\t<tr><th scope=row>24699</th><td>Private           </td><td>Preschool         </td><td>Married-civ-spouse</td><td>Machine-op-inspct </td><td>Husband           </td><td>White             </td><td>Male              </td><td>Mexico            </td></tr>\n",
       "\t<tr><th scope=row>24422</th><td>Private           </td><td>HS-grad           </td><td>Married-civ-spouse</td><td>Adm-clerical      </td><td>Husband           </td><td>White             </td><td>Male              </td><td>United-States     </td></tr>\n",
       "\t<tr><th scope=row>15824</th><td>Private           </td><td>Some-college      </td><td>Never-married     </td><td>Craft-repair      </td><td>Not-in-family     </td><td>White             </td><td>Male              </td><td>United-States     </td></tr>\n",
       "\t<tr><th scope=row>9602</th><td>Private           </td><td>Some-college      </td><td>Married-civ-spouse</td><td>Sales             </td><td>Husband           </td><td>White             </td><td>Male              </td><td>United-States     </td></tr>\n",
       "</tbody>\n",
       "</table>\n"
      ],
      "text/latex": [
       "\\begin{tabular}{r|llllllll}\n",
       "  & workclass & education & marital\\_status & occupation & relationship & race & sex & native\\_country\\\\\n",
       "\\hline\n",
       "\t21667 & Private            & 10th               & Never-married      & Craft-repair       & Own-child          & White              & Female             & United-States     \\\\\n",
       "\t1411 & Private            & HS-grad            & Widowed            & Other-service      & Unmarried          & White              & Female             & United-States     \\\\\n",
       "\t24699 & Private            & Preschool          & Married-civ-spouse & Machine-op-inspct  & Husband            & White              & Male               & Mexico            \\\\\n",
       "\t24422 & Private            & HS-grad            & Married-civ-spouse & Adm-clerical       & Husband            & White              & Male               & United-States     \\\\\n",
       "\t15824 & Private            & Some-college       & Never-married      & Craft-repair       & Not-in-family      & White              & Male               & United-States     \\\\\n",
       "\t9602 & Private            & Some-college       & Married-civ-spouse & Sales              & Husband            & White              & Male               & United-States     \\\\\n",
       "\\end{tabular}\n"
      ],
      "text/markdown": [
       "\n",
       "| <!--/--> | workclass | education | marital_status | occupation | relationship | race | sex | native_country |\n",
       "|---|---|---|---|---|---|---|---|---|\n",
       "| 21667 | Private            | 10th               | Never-married      | Craft-repair       | Own-child          | White              | Female             | United-States      |\n",
       "| 1411 | Private            | HS-grad            | Widowed            | Other-service      | Unmarried          | White              | Female             | United-States      |\n",
       "| 24699 | Private            | Preschool          | Married-civ-spouse | Machine-op-inspct  | Husband            | White              | Male               | Mexico             |\n",
       "| 24422 | Private            | HS-grad            | Married-civ-spouse | Adm-clerical       | Husband            | White              | Male               | United-States      |\n",
       "| 15824 | Private            | Some-college       | Never-married      | Craft-repair       | Not-in-family      | White              | Male               | United-States      |\n",
       "| 9602 | Private            | Some-college       | Married-civ-spouse | Sales              | Husband            | White              | Male               | United-States      |\n",
       "\n"
      ],
      "text/plain": [
       "      workclass education    marital_status     occupation        relationship \n",
       "21667 Private   10th         Never-married      Craft-repair      Own-child    \n",
       "1411  Private   HS-grad      Widowed            Other-service     Unmarried    \n",
       "24699 Private   Preschool    Married-civ-spouse Machine-op-inspct Husband      \n",
       "24422 Private   HS-grad      Married-civ-spouse Adm-clerical      Husband      \n",
       "15824 Private   Some-college Never-married      Craft-repair      Not-in-family\n",
       "9602  Private   Some-college Married-civ-spouse Sales             Husband      \n",
       "      race  sex    native_country\n",
       "21667 White Female United-States \n",
       "1411  White Female United-States \n",
       "24699 White Male   Mexico        \n",
       "24422 White Male   United-States \n",
       "15824 White Male   United-States \n",
       "9602  White Male   United-States "
      ]
     },
     "metadata": {},
     "output_type": "display_data"
    }
   ],
   "source": [
    "head(X_train[,categorical])"
   ]
  },
  {
   "cell_type": "code",
   "execution_count": 58,
   "metadata": {},
   "outputs": [
    {
     "ename": "ERROR",
     "evalue": "Error in is.data.frame(data): argument \"data\" is missing, with no default\n",
     "output_type": "error",
     "traceback": [
      "Error in is.data.frame(data): argument \"data\" is missing, with no default\nTraceback:\n",
      "1. dummyVars(\" ~ .\", x = c(\"workclass\", \"education\", \"marital_status\", \n .     \"occupation\", \"relationship\", \"race\", \"sex\", \"native_country\"))",
      "2. dummyVars.default(\" ~ .\", x = c(\"workclass\", \"education\", \"marital_status\", \n .     \"occupation\", \"relationship\", \"race\", \"sex\", \"native_country\"))",
      "3. is.data.frame(data)"
     ]
    }
   ],
   "source": [
    "encoder <- dummyVars(\" ~ .\", data=X_train)\n",
    "#onehot(X_cols=c('workclass', 'education', 'marital_status', 'occupation', 'relationship', \n",
    "                                # 'race', 'sex', 'native_country'))\n",
    "X_train <- data.frame(predict(encoder, newdata = X_train)) \n",
    "head(X_train)"
   ]
  },
  {
   "cell_type": "code",
   "execution_count": 57,
   "metadata": {},
   "outputs": [
    {
     "data": {
      "text/html": [
       "<ol class=list-inline>\n",
       "\t<li>22792</li>\n",
       "\t<li>108</li>\n",
       "</ol>\n"
      ],
      "text/latex": [
       "\\begin{enumerate*}\n",
       "\\item 22792\n",
       "\\item 108\n",
       "\\end{enumerate*}\n"
      ],
      "text/markdown": [
       "1. 22792\n",
       "2. 108\n",
       "\n",
       "\n"
      ],
      "text/plain": [
       "[1] 22792   108"
      ]
     },
     "metadata": {},
     "output_type": "display_data"
    }
   ],
   "source": [
    "dim(X_train)"
   ]
  },
  {
   "cell_type": "code",
   "execution_count": 59,
   "metadata": {},
   "outputs": [],
   "source": [
    "encoder <- dummyVars(\" ~ .\", data=X_test)\n",
    "X_test <- data.frame(predict(encoder, newdata = X_test)) "
   ]
  },
  {
   "cell_type": "code",
   "execution_count": 60,
   "metadata": {},
   "outputs": [
    {
     "data": {
      "text/html": [
       "<ol class=list-inline>\n",
       "\t<li>9769</li>\n",
       "\t<li>108</li>\n",
       "</ol>\n"
      ],
      "text/latex": [
       "\\begin{enumerate*}\n",
       "\\item 9769\n",
       "\\item 108\n",
       "\\end{enumerate*}\n"
      ],
      "text/markdown": [
       "1. 9769\n",
       "2. 108\n",
       "\n",
       "\n"
      ],
      "text/plain": [
       "[1] 9769  108"
      ]
     },
     "metadata": {},
     "output_type": "display_data"
    }
   ],
   "source": [
    "dim(X_test)"
   ]
  },
  {
   "cell_type": "code",
   "execution_count": 63,
   "metadata": {},
   "outputs": [
    {
     "data": {
      "text/html": [
       "<ol class=list-inline>\n",
       "\t<li>&lt;=50K</li>\n",
       "\t<li>&lt;=50K</li>\n",
       "\t<li>&lt;=50K</li>\n",
       "\t<li>&lt;=50K</li>\n",
       "\t<li>&lt;=50K</li>\n",
       "\t<li>&lt;=50K</li>\n",
       "</ol>\n",
       "\n",
       "<details>\n",
       "\t<summary style=display:list-item;cursor:pointer>\n",
       "\t\t<strong>Levels</strong>:\n",
       "\t</summary>\n",
       "\t<ol class=list-inline>\n",
       "\t\t<li>'&lt;=50K'</li>\n",
       "\t\t<li>'&gt;50K'</li>\n",
       "\t</ol>\n",
       "</details>"
      ],
      "text/latex": [
       "\\begin{enumerate*}\n",
       "\\item <=50K\n",
       "\\item <=50K\n",
       "\\item <=50K\n",
       "\\item <=50K\n",
       "\\item <=50K\n",
       "\\item <=50K\n",
       "\\end{enumerate*}\n",
       "\n",
       "\\emph{Levels}: \\begin{enumerate*}\n",
       "\\item '<=50K'\n",
       "\\item '>50K'\n",
       "\\end{enumerate*}\n"
      ],
      "text/markdown": [
       "1. &lt;=50K\n",
       "2. &lt;=50K\n",
       "3. &lt;=50K\n",
       "4. &lt;=50K\n",
       "5. &lt;=50K\n",
       "6. &lt;=50K\n",
       "\n",
       "\n",
       "\n",
       "**Levels**: 1. '&lt;=50K'\n",
       "2. '&gt;50K'\n",
       "\n",
       "\n"
      ],
      "text/plain": [
       "[1] <=50K <=50K <=50K <=50K <=50K <=50K\n",
       "Levels: <=50K >50K"
      ]
     },
     "metadata": {},
     "output_type": "display_data"
    }
   ],
   "source": [
    "head(y_train)"
   ]
  },
  {
   "cell_type": "markdown",
   "metadata": {},
   "source": [
    "# Arbre de décision"
   ]
  },
  {
   "cell_type": "code",
   "execution_count": 71,
   "metadata": {},
   "outputs": [
    {
     "data": {
      "text/plain": [
       "Confusion Matrix and Statistics\n",
       "\n",
       "          Reference\n",
       "Prediction <=50K >50K\n",
       "     <=50K  6975  458\n",
       "     >50K   1061 1275\n",
       "                                          \n",
       "               Accuracy : 0,8445          \n",
       "                 95% CI : (0,8372, 0,8516)\n",
       "    No Information Rate : 0,8226          \n",
       "    P-Value [Acc > NIR] : 4,506e-09       \n",
       "                                          \n",
       "                  Kappa : 0,5312          \n",
       "                                          \n",
       " Mcnemar's Test P-Value : < 2,2e-16       \n",
       "                                          \n",
       "            Sensitivity : 0,8680          \n",
       "            Specificity : 0,7357          \n",
       "         Pos Pred Value : 0,9384          \n",
       "         Neg Pred Value : 0,5458          \n",
       "             Prevalence : 0,8226          \n",
       "         Detection Rate : 0,7140          \n",
       "   Detection Prevalence : 0,7609          \n",
       "      Balanced Accuracy : 0,8018          \n",
       "                                          \n",
       "       'Positive' Class : <=50K           \n",
       "                                          "
      ]
     },
     "metadata": {},
     "output_type": "display_data"
    },
    {
     "data": {
      "image/png": "[encoded data removed]",
      "text/plain": [
       "plot without title"
      ]
     },
     "metadata": {},
     "output_type": "display_data"
    }
   ],
   "source": [
    "treeModel <- rpart(y_train~., data=X_train, method=\"class\")\n",
    "#prp(treeModel)\n",
    "treePredict <- predict(treeModel, X_test, type = \"class\")\n",
    "confusionMatrix(y_test, treePredict) # 86% accuracy \n",
    "rpart.plot(treeModel)"
   ]
  },
  {
   "cell_type": "markdown",
   "metadata": {},
   "source": [
    "# Tester le modele"
   ]
  },
  {
   "cell_type": "code",
   "execution_count": 74,
   "metadata": {},
   "outputs": [],
   "source": [
    "testDf <- read.table(\"adult.test\", \n",
    "                 sep = ',', \n",
    "                 fill = FALSE, \n",
    "                 strip.white = TRUE)\n",
    "\n",
    "colnames(testDf) <- c(\"age\", \"workclass\", \"fnlwgt\", \"education\", \"education_num\", \"marital_status\", \n",
    "                 \"occupation\", \"relationship\", \"race\", \"sex\", \"capital_gain\", \"capital_loss\", \n",
    "                 \"hours_per_week\", \"native_country\", \"salary\")"
   ]
  },
  {
   "cell_type": "code",
   "execution_count": 75,
   "metadata": {},
   "outputs": [
    {
     "data": {
      "text/html": [
       "<table>\n",
       "<thead><tr><th scope=col>age</th><th scope=col>workclass</th><th scope=col>fnlwgt</th><th scope=col>education</th><th scope=col>education_num</th><th scope=col>marital_status</th><th scope=col>occupation</th><th scope=col>relationship</th><th scope=col>race</th><th scope=col>sex</th><th scope=col>capital_gain</th><th scope=col>capital_loss</th><th scope=col>hours_per_week</th><th scope=col>native_country</th><th scope=col>salary</th></tr></thead>\n",
       "<tbody>\n",
       "\t<tr><td>25                                                        </td><td><span style=white-space:pre-wrap>Private  </span>         </td><td>226802                                                    </td><td><span style=white-space:pre-wrap>11th        </span>      </td><td> 7                                                        </td><td><span style=white-space:pre-wrap>Never-married     </span></td><td>Machine-op-inspct                                         </td><td><span style=white-space:pre-wrap>Own-child    </span>     </td><td>Black                                                     </td><td><span style=white-space:pre-wrap>Male  </span>            </td><td><span style=white-space:pre-wrap>   0</span>              </td><td>0                                                         </td><td>40                                                        </td><td>United-States                                             </td><td>&lt;=50K.                                                 </td></tr>\n",
       "\t<tr><td>38                                                       </td><td><span style=white-space:pre-wrap>Private  </span>        </td><td> 89814                                                   </td><td><span style=white-space:pre-wrap>HS-grad     </span>     </td><td> 9                                                       </td><td>Married-civ-spouse                                       </td><td><span style=white-space:pre-wrap>Farming-fishing  </span></td><td><span style=white-space:pre-wrap>Husband      </span>    </td><td>White                                                    </td><td><span style=white-space:pre-wrap>Male  </span>           </td><td><span style=white-space:pre-wrap>   0</span>             </td><td>0                                                        </td><td>50                                                       </td><td>United-States                                            </td><td>&lt;=50K.                                                </td></tr>\n",
       "\t<tr><td>28                                                       </td><td>Local-gov                                                </td><td>336951                                                   </td><td><span style=white-space:pre-wrap>Assoc-acdm  </span>     </td><td>12                                                       </td><td>Married-civ-spouse                                       </td><td><span style=white-space:pre-wrap>Protective-serv  </span></td><td><span style=white-space:pre-wrap>Husband      </span>    </td><td>White                                                    </td><td><span style=white-space:pre-wrap>Male  </span>           </td><td><span style=white-space:pre-wrap>   0</span>             </td><td>0                                                        </td><td>40                                                       </td><td>United-States                                            </td><td>&gt;50K.                                                 </td></tr>\n",
       "\t<tr><td>44                                                   </td><td><span style=white-space:pre-wrap>Private  </span>    </td><td>160323                                               </td><td>Some-college                                         </td><td>10                                                   </td><td>Married-civ-spouse                                   </td><td>Machine-op-inspct                                    </td><td><span style=white-space:pre-wrap>Husband      </span></td><td>Black                                                </td><td><span style=white-space:pre-wrap>Male  </span>       </td><td>7688                                                 </td><td>0                                                    </td><td>40                                                   </td><td>United-States                                        </td><td>&gt;50K.                                             </td></tr>\n",
       "\t<tr><td>18                                                        </td><td><span style=white-space:pre-wrap>?        </span>         </td><td>103497                                                    </td><td>Some-college                                              </td><td>10                                                        </td><td><span style=white-space:pre-wrap>Never-married     </span></td><td><span style=white-space:pre-wrap>?                </span> </td><td><span style=white-space:pre-wrap>Own-child    </span>     </td><td>White                                                     </td><td>Female                                                    </td><td><span style=white-space:pre-wrap>   0</span>              </td><td>0                                                         </td><td>30                                                        </td><td>United-States                                             </td><td>&lt;=50K.                                                 </td></tr>\n",
       "\t<tr><td>34                                                        </td><td><span style=white-space:pre-wrap>Private  </span>         </td><td>198693                                                    </td><td><span style=white-space:pre-wrap>10th        </span>      </td><td> 6                                                        </td><td><span style=white-space:pre-wrap>Never-married     </span></td><td><span style=white-space:pre-wrap>Other-service    </span> </td><td>Not-in-family                                             </td><td>White                                                     </td><td><span style=white-space:pre-wrap>Male  </span>            </td><td><span style=white-space:pre-wrap>   0</span>              </td><td>0                                                         </td><td>30                                                        </td><td>United-States                                             </td><td>&lt;=50K.                                                 </td></tr>\n",
       "</tbody>\n",
       "</table>\n"
      ],
      "text/latex": [
       "\\begin{tabular}{r|lllllllllllllll}\n",
       " age & workclass & fnlwgt & education & education\\_num & marital\\_status & occupation & relationship & race & sex & capital\\_gain & capital\\_loss & hours\\_per\\_week & native\\_country & salary\\\\\n",
       "\\hline\n",
       "\t 25                 & Private            & 226802             & 11th               &  7                 & Never-married      & Machine-op-inspct  & Own-child          & Black              & Male               &    0               & 0                  & 40                 & United-States      & <=50K.            \\\\\n",
       "\t 38                 & Private            &  89814             & HS-grad            &  9                 & Married-civ-spouse & Farming-fishing    & Husband            & White              & Male               &    0               & 0                  & 50                 & United-States      & <=50K.            \\\\\n",
       "\t 28                 & Local-gov          & 336951             & Assoc-acdm         & 12                 & Married-civ-spouse & Protective-serv    & Husband            & White              & Male               &    0               & 0                  & 40                 & United-States      & >50K.             \\\\\n",
       "\t 44                 & Private            & 160323             & Some-college       & 10                 & Married-civ-spouse & Machine-op-inspct  & Husband            & Black              & Male               & 7688               & 0                  & 40                 & United-States      & >50K.             \\\\\n",
       "\t 18                 & ?                  & 103497             & Some-college       & 10                 & Never-married      & ?                  & Own-child          & White              & Female             &    0               & 0                  & 30                 & United-States      & <=50K.            \\\\\n",
       "\t 34                 & Private            & 198693             & 10th               &  6                 & Never-married      & Other-service      & Not-in-family      & White              & Male               &    0               & 0                  & 30                 & United-States      & <=50K.            \\\\\n",
       "\\end{tabular}\n"
      ],
      "text/markdown": [
       "\n",
       "| age | workclass | fnlwgt | education | education_num | marital_status | occupation | relationship | race | sex | capital_gain | capital_loss | hours_per_week | native_country | salary |\n",
       "|---|---|---|---|---|---|---|---|---|---|---|---|---|---|---|\n",
       "| 25                 | Private            | 226802             | 11th               |  7                 | Never-married      | Machine-op-inspct  | Own-child          | Black              | Male               |    0               | 0                  | 40                 | United-States      | <=50K.             |\n",
       "| 38                 | Private            |  89814             | HS-grad            |  9                 | Married-civ-spouse | Farming-fishing    | Husband            | White              | Male               |    0               | 0                  | 50                 | United-States      | <=50K.             |\n",
       "| 28                 | Local-gov          | 336951             | Assoc-acdm         | 12                 | Married-civ-spouse | Protective-serv    | Husband            | White              | Male               |    0               | 0                  | 40                 | United-States      | >50K.              |\n",
       "| 44                 | Private            | 160323             | Some-college       | 10                 | Married-civ-spouse | Machine-op-inspct  | Husband            | Black              | Male               | 7688               | 0                  | 40                 | United-States      | >50K.              |\n",
       "| 18                 | ?                  | 103497             | Some-college       | 10                 | Never-married      | ?                  | Own-child          | White              | Female             |    0               | 0                  | 30                 | United-States      | <=50K.             |\n",
       "| 34                 | Private            | 198693             | 10th               |  6                 | Never-married      | Other-service      | Not-in-family      | White              | Male               |    0               | 0                  | 30                 | United-States      | <=50K.             |\n",
       "\n"
      ],
      "text/plain": [
       "  age workclass fnlwgt education    education_num marital_status    \n",
       "1 25  Private   226802 11th          7            Never-married     \n",
       "2 38  Private    89814 HS-grad       9            Married-civ-spouse\n",
       "3 28  Local-gov 336951 Assoc-acdm   12            Married-civ-spouse\n",
       "4 44  Private   160323 Some-college 10            Married-civ-spouse\n",
       "5 18  ?         103497 Some-college 10            Never-married     \n",
       "6 34  Private   198693 10th          6            Never-married     \n",
       "  occupation        relationship  race  sex    capital_gain capital_loss\n",
       "1 Machine-op-inspct Own-child     Black Male      0         0           \n",
       "2 Farming-fishing   Husband       White Male      0         0           \n",
       "3 Protective-serv   Husband       White Male      0         0           \n",
       "4 Machine-op-inspct Husband       Black Male   7688         0           \n",
       "5 ?                 Own-child     White Female    0         0           \n",
       "6 Other-service     Not-in-family White Male      0         0           \n",
       "  hours_per_week native_country salary\n",
       "1 40             United-States  <=50K.\n",
       "2 50             United-States  <=50K.\n",
       "3 40             United-States  >50K. \n",
       "4 40             United-States  >50K. \n",
       "5 30             United-States  <=50K.\n",
       "6 30             United-States  <=50K."
      ]
     },
     "metadata": {},
     "output_type": "display_data"
    }
   ],
   "source": [
    "head(testDf)"
   ]
  },
  {
   "cell_type": "code",
   "execution_count": null,
   "metadata": {},
   "outputs": [],
   "source": []
  }
 ],
 "metadata": {
  "kernelspec": {
   "display_name": "R",
   "language": "R",
   "name": "ir"
  },
  "language_info": {
   "codemirror_mode": "r",
   "file_extension": ".r",
   "mimetype": "text/x-r-source",
   "name": "R",
   "pygments_lexer": "r",
   "version": "3.6.1"
  }
 },
 "nbformat": 4,
 "nbformat_minor": 4
}
