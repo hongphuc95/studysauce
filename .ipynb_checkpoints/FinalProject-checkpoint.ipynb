{
 "cells": [
  {
   "cell_type": "markdown",
   "metadata": {},
   "source": [
    "# 1. Data Analysis"
   ]
  },
  {
   "cell_type": "code",
   "execution_count": 1,
   "metadata": {},
   "outputs": [],
   "source": [
    "#setwd(\"/Users/phucvu/R\")\n",
    "setwd(\"/home/phucvu/R\")"
   ]
  },
  {
   "cell_type": "code",
   "execution_count": 2,
   "metadata": {},
   "outputs": [],
   "source": [
    "df <- read.table(\"adult.data\", \n",
    "                 sep = ',', \n",
    "                 fill = FALSE, \n",
    "                 strip.white = TRUE)\n",
    "\n",
    "colnames(df) <- c(\"age\", \"workclass\", \"fnlwgt\", \"education\", \"education_num\", \"marital_status\", \n",
    "                 \"occupation\", \"relationship\", \"race\", \"sex\", \"capital_gain\", \"capital_loss\", \n",
    "                 \"hours_per_week\", \"native_country\", \"salary\")"
   ]
  },
  {
   "cell_type": "markdown",
   "metadata": {},
   "source": [
    "**Type de données de dataset**"
   ]
  },
  {
   "cell_type": "code",
   "execution_count": 3,
   "metadata": {},
   "outputs": [
    {
     "data": {
      "text/html": [
       "<dl class=dl-horizontal>\n",
       "\t<dt>age</dt>\n",
       "\t\t<dd>'integer'</dd>\n",
       "\t<dt>workclass</dt>\n",
       "\t\t<dd>'factor'</dd>\n",
       "\t<dt>fnlwgt</dt>\n",
       "\t\t<dd>'integer'</dd>\n",
       "\t<dt>education</dt>\n",
       "\t\t<dd>'factor'</dd>\n",
       "\t<dt>education_num</dt>\n",
       "\t\t<dd>'integer'</dd>\n",
       "\t<dt>marital_status</dt>\n",
       "\t\t<dd>'factor'</dd>\n",
       "\t<dt>occupation</dt>\n",
       "\t\t<dd>'factor'</dd>\n",
       "\t<dt>relationship</dt>\n",
       "\t\t<dd>'factor'</dd>\n",
       "\t<dt>race</dt>\n",
       "\t\t<dd>'factor'</dd>\n",
       "\t<dt>sex</dt>\n",
       "\t\t<dd>'factor'</dd>\n",
       "\t<dt>capital_gain</dt>\n",
       "\t\t<dd>'integer'</dd>\n",
       "\t<dt>capital_loss</dt>\n",
       "\t\t<dd>'integer'</dd>\n",
       "\t<dt>hours_per_week</dt>\n",
       "\t\t<dd>'integer'</dd>\n",
       "\t<dt>native_country</dt>\n",
       "\t\t<dd>'factor'</dd>\n",
       "\t<dt>salary</dt>\n",
       "\t\t<dd>'factor'</dd>\n",
       "</dl>\n"
      ],
      "text/latex": [
       "\\begin{description*}\n",
       "\\item[age] 'integer'\n",
       "\\item[workclass] 'factor'\n",
       "\\item[fnlwgt] 'integer'\n",
       "\\item[education] 'factor'\n",
       "\\item[education\\textbackslash{}\\_num] 'integer'\n",
       "\\item[marital\\textbackslash{}\\_status] 'factor'\n",
       "\\item[occupation] 'factor'\n",
       "\\item[relationship] 'factor'\n",
       "\\item[race] 'factor'\n",
       "\\item[sex] 'factor'\n",
       "\\item[capital\\textbackslash{}\\_gain] 'integer'\n",
       "\\item[capital\\textbackslash{}\\_loss] 'integer'\n",
       "\\item[hours\\textbackslash{}\\_per\\textbackslash{}\\_week] 'integer'\n",
       "\\item[native\\textbackslash{}\\_country] 'factor'\n",
       "\\item[salary] 'factor'\n",
       "\\end{description*}\n"
      ],
      "text/markdown": [
       "age\n",
       ":   'integer'workclass\n",
       ":   'factor'fnlwgt\n",
       ":   'integer'education\n",
       ":   'factor'education_num\n",
       ":   'integer'marital_status\n",
       ":   'factor'occupation\n",
       ":   'factor'relationship\n",
       ":   'factor'race\n",
       ":   'factor'sex\n",
       ":   'factor'capital_gain\n",
       ":   'integer'capital_loss\n",
       ":   'integer'hours_per_week\n",
       ":   'integer'native_country\n",
       ":   'factor'salary\n",
       ":   'factor'\n",
       "\n"
      ],
      "text/plain": [
       "           age      workclass         fnlwgt      education  education_num \n",
       "     \"integer\"       \"factor\"      \"integer\"       \"factor\"      \"integer\" \n",
       "marital_status     occupation   relationship           race            sex \n",
       "      \"factor\"       \"factor\"       \"factor\"       \"factor\"       \"factor\" \n",
       "  capital_gain   capital_loss hours_per_week native_country         salary \n",
       "     \"integer\"      \"integer\"      \"integer\"       \"factor\"       \"factor\" "
      ]
     },
     "metadata": {},
     "output_type": "display_data"
    }
   ],
   "source": [
    "sapply(df, class)"
   ]
  },
  {
   "cell_type": "code",
   "execution_count": 4,
   "metadata": {},
   "outputs": [
    {
     "data": {
      "text/html": [
       "<table>\n",
       "<thead><tr><th scope=col>age</th><th scope=col>workclass</th><th scope=col>fnlwgt</th><th scope=col>education</th><th scope=col>education_num</th><th scope=col>marital_status</th><th scope=col>occupation</th><th scope=col>relationship</th><th scope=col>race</th><th scope=col>sex</th><th scope=col>capital_gain</th><th scope=col>capital_loss</th><th scope=col>hours_per_week</th><th scope=col>native_country</th><th scope=col>salary</th></tr></thead>\n",
       "<tbody>\n",
       "\t<tr><td>39                                                        </td><td><span style=white-space:pre-wrap>State-gov       </span>  </td><td> 77516                                                    </td><td>Bachelors                                                 </td><td>13                                                        </td><td><span style=white-space:pre-wrap>Never-married     </span></td><td><span style=white-space:pre-wrap>Adm-clerical     </span> </td><td>Not-in-family                                             </td><td>White                                                     </td><td><span style=white-space:pre-wrap>Male  </span>            </td><td>2174                                                      </td><td>0                                                         </td><td>40                                                        </td><td>United-States                                             </td><td>&lt;=50K                                                  </td></tr>\n",
       "\t<tr><td>50                                                       </td><td>Self-emp-not-inc                                         </td><td> 83311                                                   </td><td>Bachelors                                                </td><td>13                                                       </td><td>Married-civ-spouse                                       </td><td><span style=white-space:pre-wrap>Exec-managerial  </span></td><td><span style=white-space:pre-wrap>Husband      </span>    </td><td>White                                                    </td><td><span style=white-space:pre-wrap>Male  </span>           </td><td><span style=white-space:pre-wrap>   0</span>             </td><td>0                                                        </td><td>13                                                       </td><td>United-States                                            </td><td>&lt;=50K                                                 </td></tr>\n",
       "\t<tr><td>38                                                        </td><td><span style=white-space:pre-wrap>Private         </span>  </td><td>215646                                                    </td><td><span style=white-space:pre-wrap>HS-grad  </span>         </td><td> 9                                                        </td><td><span style=white-space:pre-wrap>Divorced          </span></td><td>Handlers-cleaners                                         </td><td>Not-in-family                                             </td><td>White                                                     </td><td><span style=white-space:pre-wrap>Male  </span>            </td><td><span style=white-space:pre-wrap>   0</span>              </td><td>0                                                         </td><td>40                                                        </td><td>United-States                                             </td><td>&lt;=50K                                                  </td></tr>\n",
       "\t<tr><td>53                                                      </td><td><span style=white-space:pre-wrap>Private         </span></td><td>234721                                                  </td><td><span style=white-space:pre-wrap>11th     </span>       </td><td> 7                                                      </td><td>Married-civ-spouse                                      </td><td>Handlers-cleaners                                       </td><td><span style=white-space:pre-wrap>Husband      </span>   </td><td>Black                                                   </td><td><span style=white-space:pre-wrap>Male  </span>          </td><td><span style=white-space:pre-wrap>   0</span>            </td><td>0                                                       </td><td>40                                                      </td><td>United-States                                           </td><td>&lt;=50K                                                </td></tr>\n",
       "\t<tr><td>28                                                       </td><td><span style=white-space:pre-wrap>Private         </span> </td><td>338409                                                   </td><td>Bachelors                                                </td><td>13                                                       </td><td>Married-civ-spouse                                       </td><td><span style=white-space:pre-wrap>Prof-specialty   </span></td><td><span style=white-space:pre-wrap>Wife         </span>    </td><td>Black                                                    </td><td>Female                                                   </td><td><span style=white-space:pre-wrap>   0</span>             </td><td>0                                                        </td><td>40                                                       </td><td><span style=white-space:pre-wrap>Cuba         </span>    </td><td>&lt;=50K                                                 </td></tr>\n",
       "\t<tr><td>37                                                       </td><td><span style=white-space:pre-wrap>Private         </span> </td><td>284582                                                   </td><td><span style=white-space:pre-wrap>Masters  </span>        </td><td>14                                                       </td><td>Married-civ-spouse                                       </td><td><span style=white-space:pre-wrap>Exec-managerial  </span></td><td><span style=white-space:pre-wrap>Wife         </span>    </td><td>White                                                    </td><td>Female                                                   </td><td><span style=white-space:pre-wrap>   0</span>             </td><td>0                                                        </td><td>40                                                       </td><td>United-States                                            </td><td>&lt;=50K                                                 </td></tr>\n",
       "</tbody>\n",
       "</table>\n"
      ],
      "text/latex": [
       "\\begin{tabular}{r|lllllllllllllll}\n",
       " age & workclass & fnlwgt & education & education\\_num & marital\\_status & occupation & relationship & race & sex & capital\\_gain & capital\\_loss & hours\\_per\\_week & native\\_country & salary\\\\\n",
       "\\hline\n",
       "\t 39                 & State-gov          &  77516             & Bachelors          & 13                 & Never-married      & Adm-clerical       & Not-in-family      & White              & Male               & 2174               & 0                  & 40                 & United-States      & <=50K             \\\\\n",
       "\t 50                 & Self-emp-not-inc   &  83311             & Bachelors          & 13                 & Married-civ-spouse & Exec-managerial    & Husband            & White              & Male               &    0               & 0                  & 13                 & United-States      & <=50K             \\\\\n",
       "\t 38                 & Private            & 215646             & HS-grad            &  9                 & Divorced           & Handlers-cleaners  & Not-in-family      & White              & Male               &    0               & 0                  & 40                 & United-States      & <=50K             \\\\\n",
       "\t 53                 & Private            & 234721             & 11th               &  7                 & Married-civ-spouse & Handlers-cleaners  & Husband            & Black              & Male               &    0               & 0                  & 40                 & United-States      & <=50K             \\\\\n",
       "\t 28                 & Private            & 338409             & Bachelors          & 13                 & Married-civ-spouse & Prof-specialty     & Wife               & Black              & Female             &    0               & 0                  & 40                 & Cuba               & <=50K             \\\\\n",
       "\t 37                 & Private            & 284582             & Masters            & 14                 & Married-civ-spouse & Exec-managerial    & Wife               & White              & Female             &    0               & 0                  & 40                 & United-States      & <=50K             \\\\\n",
       "\\end{tabular}\n"
      ],
      "text/markdown": [
       "\n",
       "| age | workclass | fnlwgt | education | education_num | marital_status | occupation | relationship | race | sex | capital_gain | capital_loss | hours_per_week | native_country | salary |\n",
       "|---|---|---|---|---|---|---|---|---|---|---|---|---|---|---|\n",
       "| 39                 | State-gov          |  77516             | Bachelors          | 13                 | Never-married      | Adm-clerical       | Not-in-family      | White              | Male               | 2174               | 0                  | 40                 | United-States      | <=50K              |\n",
       "| 50                 | Self-emp-not-inc   |  83311             | Bachelors          | 13                 | Married-civ-spouse | Exec-managerial    | Husband            | White              | Male               |    0               | 0                  | 13                 | United-States      | <=50K              |\n",
       "| 38                 | Private            | 215646             | HS-grad            |  9                 | Divorced           | Handlers-cleaners  | Not-in-family      | White              | Male               |    0               | 0                  | 40                 | United-States      | <=50K              |\n",
       "| 53                 | Private            | 234721             | 11th               |  7                 | Married-civ-spouse | Handlers-cleaners  | Husband            | Black              | Male               |    0               | 0                  | 40                 | United-States      | <=50K              |\n",
       "| 28                 | Private            | 338409             | Bachelors          | 13                 | Married-civ-spouse | Prof-specialty     | Wife               | Black              | Female             |    0               | 0                  | 40                 | Cuba               | <=50K              |\n",
       "| 37                 | Private            | 284582             | Masters            | 14                 | Married-civ-spouse | Exec-managerial    | Wife               | White              | Female             |    0               | 0                  | 40                 | United-States      | <=50K              |\n",
       "\n"
      ],
      "text/plain": [
       "  age workclass        fnlwgt education education_num marital_status    \n",
       "1 39  State-gov         77516 Bachelors 13            Never-married     \n",
       "2 50  Self-emp-not-inc  83311 Bachelors 13            Married-civ-spouse\n",
       "3 38  Private          215646 HS-grad    9            Divorced          \n",
       "4 53  Private          234721 11th       7            Married-civ-spouse\n",
       "5 28  Private          338409 Bachelors 13            Married-civ-spouse\n",
       "6 37  Private          284582 Masters   14            Married-civ-spouse\n",
       "  occupation        relationship  race  sex    capital_gain capital_loss\n",
       "1 Adm-clerical      Not-in-family White Male   2174         0           \n",
       "2 Exec-managerial   Husband       White Male      0         0           \n",
       "3 Handlers-cleaners Not-in-family White Male      0         0           \n",
       "4 Handlers-cleaners Husband       Black Male      0         0           \n",
       "5 Prof-specialty    Wife          Black Female    0         0           \n",
       "6 Exec-managerial   Wife          White Female    0         0           \n",
       "  hours_per_week native_country salary\n",
       "1 40             United-States  <=50K \n",
       "2 13             United-States  <=50K \n",
       "3 40             United-States  <=50K \n",
       "4 40             United-States  <=50K \n",
       "5 40             Cuba           <=50K \n",
       "6 40             United-States  <=50K "
      ]
     },
     "metadata": {},
     "output_type": "display_data"
    }
   ],
   "source": [
    "head(df)"
   ]
  },
  {
   "cell_type": "code",
   "execution_count": 5,
   "metadata": {},
   "outputs": [
    {
     "name": "stdout",
     "output_type": "stream",
     "text": [
      "Element manqué dans le dataset:  0 \n"
     ]
    }
   ],
   "source": [
    "cat(\"Element manqué dans le dataset: \", sum(is.na(df)), \"\\n\")"
   ]
  },
  {
   "cell_type": "code",
   "execution_count": 6,
   "metadata": {},
   "outputs": [
    {
     "name": "stderr",
     "output_type": "stream",
     "text": [
      "Registered S3 methods overwritten by 'ggplot2':\n",
      "  method         from \n",
      "  [.quosures     rlang\n",
      "  c.quosures     rlang\n",
      "  print.quosures rlang\n",
      "Loading required package: lattice\n",
      "\n",
      "Attaching package: ‘reshape2’\n",
      "\n",
      "The following objects are masked from ‘package:data.table’:\n",
      "\n",
      "    dcast, melt\n",
      "\n",
      "\n",
      "Attaching package: ‘CatEncoders’\n",
      "\n",
      "The following object is masked from ‘package:base’:\n",
      "\n",
      "    transform\n",
      "\n"
     ]
    }
   ],
   "source": [
    "library(ggplot2)\n",
    "library(plyr)\n",
    "#library(dplyr)\n",
    "library(data.table)\n",
    "library(caret)\n",
    "library(reshape2)\n",
    "\n",
    "#Decision tree package\n",
    "library(rpart)\n",
    "library(rpart.plot)\n",
    "library(e1071)\n",
    "\n",
    "#Encoder\n",
    "library(CatEncoders)\n",
    "\n",
    "#Classification\n",
    "library(class)"
   ]
  },
  {
   "cell_type": "markdown",
   "metadata": {},
   "source": [
    "**Dimension de dataset**"
   ]
  },
  {
   "cell_type": "code",
   "execution_count": 7,
   "metadata": {},
   "outputs": [
    {
     "name": "stdout",
     "output_type": "stream",
     "text": [
      "Nombre de colonne, Nombre de lignes:  32561 15"
     ]
    }
   ],
   "source": [
    "cat(\"Nombre de colonne, Nombre de lignes: \", dim(df))"
   ]
  },
  {
   "cell_type": "code",
   "execution_count": 8,
   "metadata": {},
   "outputs": [
    {
     "name": "stdout",
     "output_type": "stream",
     "text": [
      "'data.frame':\t32561 obs. of  15 variables:\n",
      " $ age           : int  39 50 38 53 28 37 49 52 31 42 ...\n",
      " $ workclass     : Factor w/ 9 levels \"?\",\"Federal-gov\",..: 8 7 5 5 5 5 5 7 5 5 ...\n",
      " $ fnlwgt        : int  77516 83311 215646 234721 338409 284582 160187 209642 45781 159449 ...\n",
      " $ education     : Factor w/ 16 levels \"10th\",\"11th\",..: 10 10 12 2 10 13 7 12 13 10 ...\n",
      " $ education_num : int  13 13 9 7 13 14 5 9 14 13 ...\n",
      " $ marital_status: Factor w/ 7 levels \"Divorced\",\"Married-AF-spouse\",..: 5 3 1 3 3 3 4 3 5 3 ...\n",
      " $ occupation    : Factor w/ 15 levels \"?\",\"Adm-clerical\",..: 2 5 7 7 11 5 9 5 11 5 ...\n",
      " $ relationship  : Factor w/ 6 levels \"Husband\",\"Not-in-family\",..: 2 1 2 1 6 6 2 1 2 1 ...\n",
      " $ race          : Factor w/ 5 levels \"Amer-Indian-Eskimo\",..: 5 5 5 3 3 5 3 5 5 5 ...\n",
      " $ sex           : Factor w/ 2 levels \"Female\",\"Male\": 2 2 2 2 1 1 1 2 1 2 ...\n",
      " $ capital_gain  : int  2174 0 0 0 0 0 0 0 14084 5178 ...\n",
      " $ capital_loss  : int  0 0 0 0 0 0 0 0 0 0 ...\n",
      " $ hours_per_week: int  40 13 40 40 40 40 16 45 50 40 ...\n",
      " $ native_country: Factor w/ 42 levels \"?\",\"Cambodia\",..: 40 40 40 40 6 40 24 40 40 40 ...\n",
      " $ salary        : Factor w/ 2 levels \"<=50K\",\">50K\": 1 1 1 1 1 1 1 2 2 2 ...\n"
     ]
    }
   ],
   "source": [
    "str(df)"
   ]
  },
  {
   "cell_type": "markdown",
   "metadata": {},
   "source": [
    "Le dataset contient 9 varaibles catérogique et 6 variables numériques\n",
    "\n",
    "income est la variable ciblée"
   ]
  },
  {
   "cell_type": "markdown",
   "metadata": {},
   "source": [
    "## 1.1 Caractéristiques statistique de dataset"
   ]
  },
  {
   "cell_type": "code",
   "execution_count": 9,
   "metadata": {},
   "outputs": [
    {
     "data": {
      "text/plain": [
       "      age                   workclass         fnlwgt       \n",
       " Min.   :17.00   Private         :22696   Min.   :  12285  \n",
       " 1st Qu.:28.00   Self-emp-not-inc: 2541   1st Qu.: 117827  \n",
       " Median :37.00   Local-gov       : 2093   Median : 178356  \n",
       " Mean   :38.58   ?               : 1836   Mean   : 189778  \n",
       " 3rd Qu.:48.00   State-gov       : 1298   3rd Qu.: 237051  \n",
       " Max.   :90.00   Self-emp-inc    : 1116   Max.   :1484705  \n",
       "                 (Other)         :  981                    \n",
       "        education     education_num                 marital_status \n",
       " HS-grad     :10501   Min.   : 1.00   Divorced             : 4443  \n",
       " Some-college: 7291   1st Qu.: 9.00   Married-AF-spouse    :   23  \n",
       " Bachelors   : 5355   Median :10.00   Married-civ-spouse   :14976  \n",
       " Masters     : 1723   Mean   :10.08   Married-spouse-absent:  418  \n",
       " Assoc-voc   : 1382   3rd Qu.:12.00   Never-married        :10683  \n",
       " 11th        : 1175   Max.   :16.00   Separated            : 1025  \n",
       " (Other)     : 5134                   Widowed              :  993  \n",
       "           occupation           relationship                   race      \n",
       " Prof-specialty :4140   Husband       :13193   Amer-Indian-Eskimo:  311  \n",
       " Craft-repair   :4099   Not-in-family : 8305   Asian-Pac-Islander: 1039  \n",
       " Exec-managerial:4066   Other-relative:  981   Black             : 3124  \n",
       " Adm-clerical   :3770   Own-child     : 5068   Other             :  271  \n",
       " Sales          :3650   Unmarried     : 3446   White             :27816  \n",
       " Other-service  :3295   Wife          : 1568                             \n",
       " (Other)        :9541                                                    \n",
       "     sex         capital_gain    capital_loss    hours_per_week \n",
       " Female:10771   Min.   :    0   Min.   :   0.0   Min.   : 1.00  \n",
       " Male  :21790   1st Qu.:    0   1st Qu.:   0.0   1st Qu.:40.00  \n",
       "                Median :    0   Median :   0.0   Median :40.00  \n",
       "                Mean   : 1078   Mean   :  87.3   Mean   :40.44  \n",
       "                3rd Qu.:    0   3rd Qu.:   0.0   3rd Qu.:45.00  \n",
       "                Max.   :99999   Max.   :4356.0   Max.   :99.00  \n",
       "                                                                \n",
       "       native_country    salary     \n",
       " United-States:29170   <=50K:24720  \n",
       " Mexico       :  643   >50K : 7841  \n",
       " ?            :  583                \n",
       " Philippines  :  198                \n",
       " Germany      :  137                \n",
       " Canada       :  121                \n",
       " (Other)      : 1709                "
      ]
     },
     "metadata": {},
     "output_type": "display_data"
    }
   ],
   "source": [
    "summary(df)"
   ]
  },
  {
   "cell_type": "markdown",
   "metadata": {},
   "source": [
    "**Nombre de valeur null dans toutes les colonnes**"
   ]
  },
  {
   "cell_type": "code",
   "execution_count": 10,
   "metadata": {},
   "outputs": [
    {
     "data": {
      "text/html": [
       "<dl class=dl-horizontal>\n",
       "\t<dt>age</dt>\n",
       "\t\t<dd>0</dd>\n",
       "\t<dt>workclass</dt>\n",
       "\t\t<dd>0</dd>\n",
       "\t<dt>fnlwgt</dt>\n",
       "\t\t<dd>0</dd>\n",
       "\t<dt>education</dt>\n",
       "\t\t<dd>0</dd>\n",
       "\t<dt>education_num</dt>\n",
       "\t\t<dd>0</dd>\n",
       "\t<dt>marital_status</dt>\n",
       "\t\t<dd>0</dd>\n",
       "\t<dt>occupation</dt>\n",
       "\t\t<dd>0</dd>\n",
       "\t<dt>relationship</dt>\n",
       "\t\t<dd>0</dd>\n",
       "\t<dt>race</dt>\n",
       "\t\t<dd>0</dd>\n",
       "\t<dt>sex</dt>\n",
       "\t\t<dd>0</dd>\n",
       "\t<dt>capital_gain</dt>\n",
       "\t\t<dd>0</dd>\n",
       "\t<dt>capital_loss</dt>\n",
       "\t\t<dd>0</dd>\n",
       "\t<dt>hours_per_week</dt>\n",
       "\t\t<dd>0</dd>\n",
       "\t<dt>native_country</dt>\n",
       "\t\t<dd>0</dd>\n",
       "\t<dt>salary</dt>\n",
       "\t\t<dd>0</dd>\n",
       "</dl>\n"
      ],
      "text/latex": [
       "\\begin{description*}\n",
       "\\item[age] 0\n",
       "\\item[workclass] 0\n",
       "\\item[fnlwgt] 0\n",
       "\\item[education] 0\n",
       "\\item[education\\textbackslash{}\\_num] 0\n",
       "\\item[marital\\textbackslash{}\\_status] 0\n",
       "\\item[occupation] 0\n",
       "\\item[relationship] 0\n",
       "\\item[race] 0\n",
       "\\item[sex] 0\n",
       "\\item[capital\\textbackslash{}\\_gain] 0\n",
       "\\item[capital\\textbackslash{}\\_loss] 0\n",
       "\\item[hours\\textbackslash{}\\_per\\textbackslash{}\\_week] 0\n",
       "\\item[native\\textbackslash{}\\_country] 0\n",
       "\\item[salary] 0\n",
       "\\end{description*}\n"
      ],
      "text/markdown": [
       "age\n",
       ":   0workclass\n",
       ":   0fnlwgt\n",
       ":   0education\n",
       ":   0education_num\n",
       ":   0marital_status\n",
       ":   0occupation\n",
       ":   0relationship\n",
       ":   0race\n",
       ":   0sex\n",
       ":   0capital_gain\n",
       ":   0capital_loss\n",
       ":   0hours_per_week\n",
       ":   0native_country\n",
       ":   0salary\n",
       ":   0\n",
       "\n"
      ],
      "text/plain": [
       "           age      workclass         fnlwgt      education  education_num \n",
       "             0              0              0              0              0 \n",
       "marital_status     occupation   relationship           race            sex \n",
       "             0              0              0              0              0 \n",
       "  capital_gain   capital_loss hours_per_week native_country         salary \n",
       "             0              0              0              0              0 "
      ]
     },
     "metadata": {},
     "output_type": "display_data"
    }
   ],
   "source": [
    "colSums(is.na(df)) ##TODO"
   ]
  },
  {
   "cell_type": "markdown",
   "metadata": {},
   "source": [
    "## 1.2 Explorer les variables catégoriques"
   ]
  },
  {
   "cell_type": "markdown",
   "metadata": {},
   "source": [
    "**Extraire des variables catéroriques**"
   ]
  },
  {
   "cell_type": "code",
   "execution_count": 11,
   "metadata": {},
   "outputs": [],
   "source": [
    "categorical <- vector()\n",
    "for (i in colnames(df)){\n",
    "    if (is.factor(df[[i]])) {\n",
    "        categorical <- c(categorical, i)\n",
    "    }  \n",
    "}"
   ]
  },
  {
   "cell_type": "code",
   "execution_count": 12,
   "metadata": {},
   "outputs": [
    {
     "data": {
      "text/html": [
       "<ol class=list-inline>\n",
       "\t<li>'workclass'</li>\n",
       "\t<li>'education'</li>\n",
       "\t<li>'marital_status'</li>\n",
       "\t<li>'occupation'</li>\n",
       "\t<li>'relationship'</li>\n",
       "\t<li>'race'</li>\n",
       "\t<li>'sex'</li>\n",
       "\t<li>'native_country'</li>\n",
       "\t<li>'salary'</li>\n",
       "</ol>\n"
      ],
      "text/latex": [
       "\\begin{enumerate*}\n",
       "\\item 'workclass'\n",
       "\\item 'education'\n",
       "\\item 'marital\\_status'\n",
       "\\item 'occupation'\n",
       "\\item 'relationship'\n",
       "\\item 'race'\n",
       "\\item 'sex'\n",
       "\\item 'native\\_country'\n",
       "\\item 'salary'\n",
       "\\end{enumerate*}\n"
      ],
      "text/markdown": [
       "1. 'workclass'\n",
       "2. 'education'\n",
       "3. 'marital_status'\n",
       "4. 'occupation'\n",
       "5. 'relationship'\n",
       "6. 'race'\n",
       "7. 'sex'\n",
       "8. 'native_country'\n",
       "9. 'salary'\n",
       "\n",
       "\n"
      ],
      "text/plain": [
       "[1] \"workclass\"      \"education\"      \"marital_status\" \"occupation\"    \n",
       "[5] \"relationship\"   \"race\"           \"sex\"            \"native_country\"\n",
       "[9] \"salary\"        "
      ]
     },
     "metadata": {},
     "output_type": "display_data"
    }
   ],
   "source": [
    "categorical"
   ]
  },
  {
   "cell_type": "markdown",
   "metadata": {},
   "source": [
    "**Explorer la varaible salary**"
   ]
  },
  {
   "cell_type": "code",
   "execution_count": 13,
   "metadata": {},
   "outputs": [
    {
     "data": {
      "text/html": [
       "0"
      ],
      "text/latex": [
       "0"
      ],
      "text/markdown": [
       "0"
      ],
      "text/plain": [
       "[1] 0"
      ]
     },
     "metadata": {},
     "output_type": "display_data"
    }
   ],
   "source": [
    "sum(is.na(df$salary))"
   ]
  },
  {
   "cell_type": "markdown",
   "metadata": {},
   "source": [
    "Il n'y a aucun de valeur null dans la variable ciblée income"
   ]
  },
  {
   "cell_type": "code",
   "execution_count": 14,
   "metadata": {},
   "outputs": [
    {
     "data": {
      "text/html": [
       "<ol class=list-inline>\n",
       "\t<li>&lt;=50K</li>\n",
       "\t<li>&gt;50K</li>\n",
       "</ol>\n",
       "\n",
       "<details>\n",
       "\t<summary style=display:list-item;cursor:pointer>\n",
       "\t\t<strong>Levels</strong>:\n",
       "\t</summary>\n",
       "\t<ol class=list-inline>\n",
       "\t\t<li>'&lt;=50K'</li>\n",
       "\t\t<li>'&gt;50K'</li>\n",
       "\t</ol>\n",
       "</details>"
      ],
      "text/latex": [
       "\\begin{enumerate*}\n",
       "\\item <=50K\n",
       "\\item >50K\n",
       "\\end{enumerate*}\n",
       "\n",
       "\\emph{Levels}: \\begin{enumerate*}\n",
       "\\item '<=50K'\n",
       "\\item '>50K'\n",
       "\\end{enumerate*}\n"
      ],
      "text/markdown": [
       "1. &lt;=50K\n",
       "2. &gt;50K\n",
       "\n",
       "\n",
       "\n",
       "**Levels**: 1. '&lt;=50K'\n",
       "2. '&gt;50K'\n",
       "\n",
       "\n"
      ],
      "text/plain": [
       "[1] <=50K >50K \n",
       "Levels: <=50K >50K"
      ]
     },
     "metadata": {},
     "output_type": "display_data"
    }
   ],
   "source": [
    "unique(df$salary)"
   ]
  },
  {
   "cell_type": "markdown",
   "metadata": {},
   "source": [
    "Les deux valeurs uniques présentées dans la variable salary est <= 50K et >50K"
   ]
  },
  {
   "cell_type": "code",
   "execution_count": 15,
   "metadata": {},
   "outputs": [
    {
     "data": {
      "text/html": [
       "<table>\n",
       "<thead><tr><th scope=col>x</th><th scope=col>freq</th></tr></thead>\n",
       "<tbody>\n",
       "\t<tr><td>&lt;=50K</td><td>24720   </td></tr>\n",
       "\t<tr><td>&gt;50K </td><td> 7841   </td></tr>\n",
       "</tbody>\n",
       "</table>\n"
      ],
      "text/latex": [
       "\\begin{tabular}{r|ll}\n",
       " x & freq\\\\\n",
       "\\hline\n",
       "\t <=50K & 24720\\\\\n",
       "\t >50K  &  7841\\\\\n",
       "\\end{tabular}\n"
      ],
      "text/markdown": [
       "\n",
       "| x | freq |\n",
       "|---|---|\n",
       "| <=50K | 24720 |\n",
       "| >50K  |  7841 |\n",
       "\n"
      ],
      "text/plain": [
       "  x     freq \n",
       "1 <=50K 24720\n",
       "2 >50K   7841"
      ]
     },
     "metadata": {},
     "output_type": "display_data"
    }
   ],
   "source": [
    "count(df$salary)"
   ]
  },
  {
   "cell_type": "code",
   "execution_count": 16,
   "metadata": {},
   "outputs": [
    {
     "data": {
      "image/png": "[encoded data removed]",
      "text/plain": [
       "plot without title"
      ]
     },
     "metadata": {},
     "output_type": "display_data"
    }
   ],
   "source": [
    "ggplot(df, aes(x=salary)) + geom_bar(stat=\"count\") + ggtitle(\"Distribution de la salaire\")"
   ]
  },
  {
   "cell_type": "markdown",
   "metadata": {},
   "source": [
    "**Visualisation de salary par rapport à la variable sex**"
   ]
  },
  {
   "cell_type": "code",
   "execution_count": 17,
   "metadata": {},
   "outputs": [
    {
     "data": {
      "image/png": "[encoded data removed]",
      "text/plain": [
       "plot without title"
      ]
     },
     "metadata": {},
     "output_type": "display_data"
    }
   ],
   "source": [
    "ggplot(df, aes(x=salary, fill=sex)) + \n",
    "        geom_bar(stat=\"count\", position=position_dodge()) + \n",
    "        ggtitle(\"Distribution de la salaire/sex\")"
   ]
  },
  {
   "cell_type": "markdown",
   "metadata": {},
   "source": [
    "On peut constater que les hommes gagnent plus que les femmes dans toutes les catégories"
   ]
  },
  {
   "cell_type": "markdown",
   "metadata": {},
   "source": [
    "**Visualisation de salary par rapport à la variable race**"
   ]
  },
  {
   "cell_type": "code",
   "execution_count": 18,
   "metadata": {},
   "outputs": [
    {
     "data": {
      "image/png": "[encoded data removed]",
      "text/plain": [
       "plot without title"
      ]
     },
     "metadata": {},
     "output_type": "display_data"
    }
   ],
   "source": [
    "ggplot(df, aes(x=salary, fill=race)) + \n",
    "        geom_bar(stat=\"count\", position=position_dodge()) + \n",
    "        ggtitle(\"Distribution de la salaire/race\")"
   ]
  },
  {
   "cell_type": "markdown",
   "metadata": {},
   "source": [
    "Les blancs gagent significativement plus que les autres races"
   ]
  },
  {
   "cell_type": "markdown",
   "metadata": {},
   "source": [
    "**Explorer la variable workclass**"
   ]
  },
  {
   "cell_type": "code",
   "execution_count": 19,
   "metadata": {},
   "outputs": [
    {
     "data": {
      "text/html": [
       "<ol class=list-inline>\n",
       "\t<li>State-gov</li>\n",
       "\t<li>Self-emp-not-inc</li>\n",
       "\t<li>Private</li>\n",
       "\t<li>Federal-gov</li>\n",
       "\t<li>Local-gov</li>\n",
       "\t<li>?</li>\n",
       "\t<li>Self-emp-inc</li>\n",
       "\t<li>Without-pay</li>\n",
       "\t<li>Never-worked</li>\n",
       "</ol>\n",
       "\n",
       "<details>\n",
       "\t<summary style=display:list-item;cursor:pointer>\n",
       "\t\t<strong>Levels</strong>:\n",
       "\t</summary>\n",
       "\t<ol class=list-inline>\n",
       "\t\t<li>'?'</li>\n",
       "\t\t<li>'Federal-gov'</li>\n",
       "\t\t<li>'Local-gov'</li>\n",
       "\t\t<li>'Never-worked'</li>\n",
       "\t\t<li>'Private'</li>\n",
       "\t\t<li>'Self-emp-inc'</li>\n",
       "\t\t<li>'Self-emp-not-inc'</li>\n",
       "\t\t<li>'State-gov'</li>\n",
       "\t\t<li>'Without-pay'</li>\n",
       "\t</ol>\n",
       "</details>"
      ],
      "text/latex": [
       "\\begin{enumerate*}\n",
       "\\item State-gov\n",
       "\\item Self-emp-not-inc\n",
       "\\item Private\n",
       "\\item Federal-gov\n",
       "\\item Local-gov\n",
       "\\item ?\n",
       "\\item Self-emp-inc\n",
       "\\item Without-pay\n",
       "\\item Never-worked\n",
       "\\end{enumerate*}\n",
       "\n",
       "\\emph{Levels}: \\begin{enumerate*}\n",
       "\\item '?'\n",
       "\\item 'Federal-gov'\n",
       "\\item 'Local-gov'\n",
       "\\item 'Never-worked'\n",
       "\\item 'Private'\n",
       "\\item 'Self-emp-inc'\n",
       "\\item 'Self-emp-not-inc'\n",
       "\\item 'State-gov'\n",
       "\\item 'Without-pay'\n",
       "\\end{enumerate*}\n"
      ],
      "text/markdown": [
       "1. State-gov\n",
       "2. Self-emp-not-inc\n",
       "3. Private\n",
       "4. Federal-gov\n",
       "5. Local-gov\n",
       "6. ?\n",
       "7. Self-emp-inc\n",
       "8. Without-pay\n",
       "9. Never-worked\n",
       "\n",
       "\n",
       "\n",
       "**Levels**: 1. '?'\n",
       "2. 'Federal-gov'\n",
       "3. 'Local-gov'\n",
       "4. 'Never-worked'\n",
       "5. 'Private'\n",
       "6. 'Self-emp-inc'\n",
       "7. 'Self-emp-not-inc'\n",
       "8. 'State-gov'\n",
       "9. 'Without-pay'\n",
       "\n",
       "\n"
      ],
      "text/plain": [
       "[1] State-gov        Self-emp-not-inc Private          Federal-gov     \n",
       "[5] Local-gov        ?                Self-emp-inc     Without-pay     \n",
       "[9] Never-worked    \n",
       "9 Levels: ? Federal-gov Local-gov Never-worked Private ... Without-pay"
      ]
     },
     "metadata": {},
     "output_type": "display_data"
    }
   ],
   "source": [
    "unique(df$workclass)"
   ]
  },
  {
   "cell_type": "code",
   "execution_count": 20,
   "metadata": {},
   "outputs": [
    {
     "data": {
      "text/html": [
       "<table>\n",
       "<thead><tr><th scope=col>x</th><th scope=col>freq</th></tr></thead>\n",
       "<tbody>\n",
       "\t<tr><td>?               </td><td> 1836           </td></tr>\n",
       "\t<tr><td>Federal-gov     </td><td>  960           </td></tr>\n",
       "\t<tr><td>Local-gov       </td><td> 2093           </td></tr>\n",
       "\t<tr><td>Never-worked    </td><td>    7           </td></tr>\n",
       "\t<tr><td>Private         </td><td>22696           </td></tr>\n",
       "\t<tr><td>Self-emp-inc    </td><td> 1116           </td></tr>\n",
       "\t<tr><td>Self-emp-not-inc</td><td> 2541           </td></tr>\n",
       "\t<tr><td>State-gov       </td><td> 1298           </td></tr>\n",
       "\t<tr><td>Without-pay     </td><td>   14           </td></tr>\n",
       "</tbody>\n",
       "</table>\n"
      ],
      "text/latex": [
       "\\begin{tabular}{r|ll}\n",
       " x & freq\\\\\n",
       "\\hline\n",
       "\t ?                &  1836           \\\\\n",
       "\t Federal-gov      &   960           \\\\\n",
       "\t Local-gov        &  2093           \\\\\n",
       "\t Never-worked     &     7           \\\\\n",
       "\t Private          & 22696           \\\\\n",
       "\t Self-emp-inc     &  1116           \\\\\n",
       "\t Self-emp-not-inc &  2541           \\\\\n",
       "\t State-gov        &  1298           \\\\\n",
       "\t Without-pay      &    14           \\\\\n",
       "\\end{tabular}\n"
      ],
      "text/markdown": [
       "\n",
       "| x | freq |\n",
       "|---|---|\n",
       "| ?                |  1836            |\n",
       "| Federal-gov      |   960            |\n",
       "| Local-gov        |  2093            |\n",
       "| Never-worked     |     7            |\n",
       "| Private          | 22696            |\n",
       "| Self-emp-inc     |  1116            |\n",
       "| Self-emp-not-inc |  2541            |\n",
       "| State-gov        |  1298            |\n",
       "| Without-pay      |    14            |\n",
       "\n"
      ],
      "text/plain": [
       "  x                freq \n",
       "1 ?                 1836\n",
       "2 Federal-gov        960\n",
       "3 Local-gov         2093\n",
       "4 Never-worked         7\n",
       "5 Private          22696\n",
       "6 Self-emp-inc      1116\n",
       "7 Self-emp-not-inc  2541\n",
       "8 State-gov         1298\n",
       "9 Without-pay         14"
      ]
     },
     "metadata": {},
     "output_type": "display_data"
    }
   ],
   "source": [
    "count(df$workclass)"
   ]
  },
  {
   "cell_type": "markdown",
   "metadata": {},
   "source": [
    "On peut constater qu'il y a 1836 valeurs marqués ? dans la variable workclass. On remplace donc ces valeurs ? par la valeur NaN"
   ]
  },
  {
   "cell_type": "code",
   "execution_count": 21,
   "metadata": {},
   "outputs": [],
   "source": [
    "df$workclass[ df$workclass == \"?\" ] <- NA\n",
    "df$workclass = factor(df$workclass)"
   ]
  },
  {
   "cell_type": "code",
   "execution_count": 22,
   "metadata": {},
   "outputs": [
    {
     "data": {
      "text/html": [
       "<table>\n",
       "<thead><tr><th scope=col>x</th><th scope=col>freq</th></tr></thead>\n",
       "<tbody>\n",
       "\t<tr><td>Federal-gov     </td><td>  960           </td></tr>\n",
       "\t<tr><td>Local-gov       </td><td> 2093           </td></tr>\n",
       "\t<tr><td>Never-worked    </td><td>    7           </td></tr>\n",
       "\t<tr><td>Private         </td><td>22696           </td></tr>\n",
       "\t<tr><td>Self-emp-inc    </td><td> 1116           </td></tr>\n",
       "\t<tr><td>Self-emp-not-inc</td><td> 2541           </td></tr>\n",
       "\t<tr><td>State-gov       </td><td> 1298           </td></tr>\n",
       "\t<tr><td>Without-pay     </td><td>   14           </td></tr>\n",
       "\t<tr><td>NA              </td><td> 1836           </td></tr>\n",
       "</tbody>\n",
       "</table>\n"
      ],
      "text/latex": [
       "\\begin{tabular}{r|ll}\n",
       " x & freq\\\\\n",
       "\\hline\n",
       "\t Federal-gov      &   960           \\\\\n",
       "\t Local-gov        &  2093           \\\\\n",
       "\t Never-worked     &     7           \\\\\n",
       "\t Private          & 22696           \\\\\n",
       "\t Self-emp-inc     &  1116           \\\\\n",
       "\t Self-emp-not-inc &  2541           \\\\\n",
       "\t State-gov        &  1298           \\\\\n",
       "\t Without-pay      &    14           \\\\\n",
       "\t NA               &  1836           \\\\\n",
       "\\end{tabular}\n"
      ],
      "text/markdown": [
       "\n",
       "| x | freq |\n",
       "|---|---|\n",
       "| Federal-gov      |   960            |\n",
       "| Local-gov        |  2093            |\n",
       "| Never-worked     |     7            |\n",
       "| Private          | 22696            |\n",
       "| Self-emp-inc     |  1116            |\n",
       "| Self-emp-not-inc |  2541            |\n",
       "| State-gov        |  1298            |\n",
       "| Without-pay      |    14            |\n",
       "| NA               |  1836            |\n",
       "\n"
      ],
      "text/plain": [
       "  x                freq \n",
       "1 Federal-gov        960\n",
       "2 Local-gov         2093\n",
       "3 Never-worked         7\n",
       "4 Private          22696\n",
       "5 Self-emp-inc      1116\n",
       "6 Self-emp-not-inc  2541\n",
       "7 State-gov         1298\n",
       "8 Without-pay         14\n",
       "9 NA                1836"
      ]
     },
     "metadata": {},
     "output_type": "display_data"
    }
   ],
   "source": [
    "count(df$workclass)"
   ]
  },
  {
   "cell_type": "markdown",
   "metadata": {},
   "source": [
    "**Visualiser la variable workclass**"
   ]
  },
  {
   "cell_type": "code",
   "execution_count": 23,
   "metadata": {},
   "outputs": [
    {
     "data": {
      "image/png": "[encoded data removed]",
      "text/plain": [
       "plot without title"
      ]
     },
     "metadata": {},
     "output_type": "display_data"
    }
   ],
   "source": [
    "ggplot(df, aes(x=workclass)) + \n",
    "        geom_bar(stat=\"count\") + \n",
    "        ggtitle(\"Distribution de la variable workclass\")"
   ]
  },
  {
   "cell_type": "markdown",
   "metadata": {},
   "source": [
    "Il y a énormément de travailleurs privés qu'aux autres catégories employeurs"
   ]
  },
  {
   "cell_type": "markdown",
   "metadata": {},
   "source": [
    "**Visualisation de salary par rapport à la variable workclass**"
   ]
  },
  {
   "cell_type": "code",
   "execution_count": 24,
   "metadata": {},
   "outputs": [
    {
     "data": {
      "image/png": "[encoded data removed]",
      "text/plain": [
       "plot without title"
      ]
     },
     "metadata": {},
     "output_type": "display_data"
    }
   ],
   "source": [
    "ggplot(df, aes(x=salary, fill=workclass)) + \n",
    "        geom_bar(stat=\"count\", position=position_dodge()) + \n",
    "        ggtitle(\"Distribution de la salaire/workclass\")"
   ]
  },
  {
   "cell_type": "markdown",
   "metadata": {},
   "source": [
    "Les employeurs gagent au-dessous de 50K dans la plupart de catégories sauf la class privé"
   ]
  },
  {
   "cell_type": "markdown",
   "metadata": {},
   "source": [
    "**Explorer la variable occupation**"
   ]
  },
  {
   "cell_type": "code",
   "execution_count": 25,
   "metadata": {},
   "outputs": [
    {
     "data": {
      "text/html": [
       "<ol class=list-inline>\n",
       "\t<li>Adm-clerical</li>\n",
       "\t<li>Exec-managerial</li>\n",
       "\t<li>Handlers-cleaners</li>\n",
       "\t<li>Prof-specialty</li>\n",
       "\t<li>Other-service</li>\n",
       "\t<li>Sales</li>\n",
       "\t<li>Craft-repair</li>\n",
       "\t<li>Transport-moving</li>\n",
       "\t<li>Farming-fishing</li>\n",
       "\t<li>Machine-op-inspct</li>\n",
       "\t<li>Tech-support</li>\n",
       "\t<li>?</li>\n",
       "\t<li>Protective-serv</li>\n",
       "\t<li>Armed-Forces</li>\n",
       "\t<li>Priv-house-serv</li>\n",
       "</ol>\n",
       "\n",
       "<details>\n",
       "\t<summary style=display:list-item;cursor:pointer>\n",
       "\t\t<strong>Levels</strong>:\n",
       "\t</summary>\n",
       "\t<ol class=list-inline>\n",
       "\t\t<li>'?'</li>\n",
       "\t\t<li>'Adm-clerical'</li>\n",
       "\t\t<li>'Armed-Forces'</li>\n",
       "\t\t<li>'Craft-repair'</li>\n",
       "\t\t<li>'Exec-managerial'</li>\n",
       "\t\t<li>'Farming-fishing'</li>\n",
       "\t\t<li>'Handlers-cleaners'</li>\n",
       "\t\t<li>'Machine-op-inspct'</li>\n",
       "\t\t<li>'Other-service'</li>\n",
       "\t\t<li>'Priv-house-serv'</li>\n",
       "\t\t<li>'Prof-specialty'</li>\n",
       "\t\t<li>'Protective-serv'</li>\n",
       "\t\t<li>'Sales'</li>\n",
       "\t\t<li>'Tech-support'</li>\n",
       "\t\t<li>'Transport-moving'</li>\n",
       "\t</ol>\n",
       "</details>"
      ],
      "text/latex": [
       "\\begin{enumerate*}\n",
       "\\item Adm-clerical\n",
       "\\item Exec-managerial\n",
       "\\item Handlers-cleaners\n",
       "\\item Prof-specialty\n",
       "\\item Other-service\n",
       "\\item Sales\n",
       "\\item Craft-repair\n",
       "\\item Transport-moving\n",
       "\\item Farming-fishing\n",
       "\\item Machine-op-inspct\n",
       "\\item Tech-support\n",
       "\\item ?\n",
       "\\item Protective-serv\n",
       "\\item Armed-Forces\n",
       "\\item Priv-house-serv\n",
       "\\end{enumerate*}\n",
       "\n",
       "\\emph{Levels}: \\begin{enumerate*}\n",
       "\\item '?'\n",
       "\\item 'Adm-clerical'\n",
       "\\item 'Armed-Forces'\n",
       "\\item 'Craft-repair'\n",
       "\\item 'Exec-managerial'\n",
       "\\item 'Farming-fishing'\n",
       "\\item 'Handlers-cleaners'\n",
       "\\item 'Machine-op-inspct'\n",
       "\\item 'Other-service'\n",
       "\\item 'Priv-house-serv'\n",
       "\\item 'Prof-specialty'\n",
       "\\item 'Protective-serv'\n",
       "\\item 'Sales'\n",
       "\\item 'Tech-support'\n",
       "\\item 'Transport-moving'\n",
       "\\end{enumerate*}\n"
      ],
      "text/markdown": [
       "1. Adm-clerical\n",
       "2. Exec-managerial\n",
       "3. Handlers-cleaners\n",
       "4. Prof-specialty\n",
       "5. Other-service\n",
       "6. Sales\n",
       "7. Craft-repair\n",
       "8. Transport-moving\n",
       "9. Farming-fishing\n",
       "10. Machine-op-inspct\n",
       "11. Tech-support\n",
       "12. ?\n",
       "13. Protective-serv\n",
       "14. Armed-Forces\n",
       "15. Priv-house-serv\n",
       "\n",
       "\n",
       "\n",
       "**Levels**: 1. '?'\n",
       "2. 'Adm-clerical'\n",
       "3. 'Armed-Forces'\n",
       "4. 'Craft-repair'\n",
       "5. 'Exec-managerial'\n",
       "6. 'Farming-fishing'\n",
       "7. 'Handlers-cleaners'\n",
       "8. 'Machine-op-inspct'\n",
       "9. 'Other-service'\n",
       "10. 'Priv-house-serv'\n",
       "11. 'Prof-specialty'\n",
       "12. 'Protective-serv'\n",
       "13. 'Sales'\n",
       "14. 'Tech-support'\n",
       "15. 'Transport-moving'\n",
       "\n",
       "\n"
      ],
      "text/plain": [
       " [1] Adm-clerical      Exec-managerial   Handlers-cleaners Prof-specialty   \n",
       " [5] Other-service     Sales             Craft-repair      Transport-moving \n",
       " [9] Farming-fishing   Machine-op-inspct Tech-support      ?                \n",
       "[13] Protective-serv   Armed-Forces      Priv-house-serv  \n",
       "15 Levels: ? Adm-clerical Armed-Forces Craft-repair ... Transport-moving"
      ]
     },
     "metadata": {},
     "output_type": "display_data"
    }
   ],
   "source": [
    "unique(df$occupation)"
   ]
  },
  {
   "cell_type": "code",
   "execution_count": 26,
   "metadata": {},
   "outputs": [],
   "source": [
    "df$occupation[ df$occupation == \"?\" ] <- NA\n",
    "df$occupation = factor(df$occupation)"
   ]
  },
  {
   "cell_type": "code",
   "execution_count": 27,
   "metadata": {},
   "outputs": [
    {
     "data": {
      "text/html": [
       "<table>\n",
       "<thead><tr><th scope=col>x</th><th scope=col>freq</th></tr></thead>\n",
       "<tbody>\n",
       "\t<tr><td>Adm-clerical     </td><td>3770             </td></tr>\n",
       "\t<tr><td>Armed-Forces     </td><td>   9             </td></tr>\n",
       "\t<tr><td>Craft-repair     </td><td>4099             </td></tr>\n",
       "\t<tr><td>Exec-managerial  </td><td>4066             </td></tr>\n",
       "\t<tr><td>Farming-fishing  </td><td> 994             </td></tr>\n",
       "\t<tr><td>Handlers-cleaners</td><td>1370             </td></tr>\n",
       "\t<tr><td>Machine-op-inspct</td><td>2002             </td></tr>\n",
       "\t<tr><td>Other-service    </td><td>3295             </td></tr>\n",
       "\t<tr><td>Priv-house-serv  </td><td> 149             </td></tr>\n",
       "\t<tr><td>Prof-specialty   </td><td>4140             </td></tr>\n",
       "\t<tr><td>Protective-serv  </td><td> 649             </td></tr>\n",
       "\t<tr><td>Sales            </td><td>3650             </td></tr>\n",
       "\t<tr><td>Tech-support     </td><td> 928             </td></tr>\n",
       "\t<tr><td>Transport-moving </td><td>1597             </td></tr>\n",
       "\t<tr><td>NA               </td><td>1843             </td></tr>\n",
       "</tbody>\n",
       "</table>\n"
      ],
      "text/latex": [
       "\\begin{tabular}{r|ll}\n",
       " x & freq\\\\\n",
       "\\hline\n",
       "\t Adm-clerical      & 3770             \\\\\n",
       "\t Armed-Forces      &    9             \\\\\n",
       "\t Craft-repair      & 4099             \\\\\n",
       "\t Exec-managerial   & 4066             \\\\\n",
       "\t Farming-fishing   &  994             \\\\\n",
       "\t Handlers-cleaners & 1370             \\\\\n",
       "\t Machine-op-inspct & 2002             \\\\\n",
       "\t Other-service     & 3295             \\\\\n",
       "\t Priv-house-serv   &  149             \\\\\n",
       "\t Prof-specialty    & 4140             \\\\\n",
       "\t Protective-serv   &  649             \\\\\n",
       "\t Sales             & 3650             \\\\\n",
       "\t Tech-support      &  928             \\\\\n",
       "\t Transport-moving  & 1597             \\\\\n",
       "\t NA                & 1843             \\\\\n",
       "\\end{tabular}\n"
      ],
      "text/markdown": [
       "\n",
       "| x | freq |\n",
       "|---|---|\n",
       "| Adm-clerical      | 3770              |\n",
       "| Armed-Forces      |    9              |\n",
       "| Craft-repair      | 4099              |\n",
       "| Exec-managerial   | 4066              |\n",
       "| Farming-fishing   |  994              |\n",
       "| Handlers-cleaners | 1370              |\n",
       "| Machine-op-inspct | 2002              |\n",
       "| Other-service     | 3295              |\n",
       "| Priv-house-serv   |  149              |\n",
       "| Prof-specialty    | 4140              |\n",
       "| Protective-serv   |  649              |\n",
       "| Sales             | 3650              |\n",
       "| Tech-support      |  928              |\n",
       "| Transport-moving  | 1597              |\n",
       "| NA                | 1843              |\n",
       "\n"
      ],
      "text/plain": [
       "   x                 freq\n",
       "1  Adm-clerical      3770\n",
       "2  Armed-Forces         9\n",
       "3  Craft-repair      4099\n",
       "4  Exec-managerial   4066\n",
       "5  Farming-fishing    994\n",
       "6  Handlers-cleaners 1370\n",
       "7  Machine-op-inspct 2002\n",
       "8  Other-service     3295\n",
       "9  Priv-house-serv    149\n",
       "10 Prof-specialty    4140\n",
       "11 Protective-serv    649\n",
       "12 Sales             3650\n",
       "13 Tech-support       928\n",
       "14 Transport-moving  1597\n",
       "15 NA                1843"
      ]
     },
     "metadata": {},
     "output_type": "display_data"
    }
   ],
   "source": [
    "count(df$occupation)"
   ]
  },
  {
   "cell_type": "markdown",
   "metadata": {},
   "source": [
    "**Visualiser la variable occupation**"
   ]
  },
  {
   "cell_type": "code",
   "execution_count": 28,
   "metadata": {},
   "outputs": [
    {
     "data": {
      "image/png": "[encoded data removed]",
      "text/plain": [
       "plot without title"
      ]
     },
     "metadata": {},
     "output_type": "display_data"
    }
   ],
   "source": [
    "ggplot(df, aes(x=occupation)) + \n",
    "        geom_bar(stat=\"count\") + \n",
    "        ggtitle(\"Distribution de la variable occupation\")"
   ]
  },
  {
   "cell_type": "markdown",
   "metadata": {},
   "source": [
    "**Explorer la variable native country**"
   ]
  },
  {
   "cell_type": "code",
   "execution_count": 29,
   "metadata": {},
   "outputs": [
    {
     "data": {
      "text/html": [
       "<ol class=list-inline>\n",
       "\t<li>United-States</li>\n",
       "\t<li>Cuba</li>\n",
       "\t<li>Jamaica</li>\n",
       "\t<li>India</li>\n",
       "\t<li>?</li>\n",
       "\t<li>Mexico</li>\n",
       "\t<li>South</li>\n",
       "\t<li>Puerto-Rico</li>\n",
       "\t<li>Honduras</li>\n",
       "\t<li>England</li>\n",
       "\t<li>Canada</li>\n",
       "\t<li>Germany</li>\n",
       "\t<li>Iran</li>\n",
       "\t<li>Philippines</li>\n",
       "\t<li>Italy</li>\n",
       "\t<li>Poland</li>\n",
       "\t<li>Columbia</li>\n",
       "\t<li>Cambodia</li>\n",
       "\t<li>Thailand</li>\n",
       "\t<li>Ecuador</li>\n",
       "\t<li>Laos</li>\n",
       "\t<li>Taiwan</li>\n",
       "\t<li>Haiti</li>\n",
       "\t<li>Portugal</li>\n",
       "\t<li>Dominican-Republic</li>\n",
       "\t<li>El-Salvador</li>\n",
       "\t<li>France</li>\n",
       "\t<li>Guatemala</li>\n",
       "\t<li>China</li>\n",
       "\t<li>Japan</li>\n",
       "\t<li>Yugoslavia</li>\n",
       "\t<li>Peru</li>\n",
       "\t<li>Outlying-US(Guam-USVI-etc)</li>\n",
       "\t<li>Scotland</li>\n",
       "\t<li>Trinadad&amp;Tobago</li>\n",
       "\t<li>Greece</li>\n",
       "\t<li>Nicaragua</li>\n",
       "\t<li>Vietnam</li>\n",
       "\t<li>Hong</li>\n",
       "\t<li>Ireland</li>\n",
       "\t<li>Hungary</li>\n",
       "\t<li>Holand-Netherlands</li>\n",
       "</ol>\n",
       "\n",
       "<details>\n",
       "\t<summary style=display:list-item;cursor:pointer>\n",
       "\t\t<strong>Levels</strong>:\n",
       "\t</summary>\n",
       "\t<ol class=list-inline>\n",
       "\t\t<li>'?'</li>\n",
       "\t\t<li>'Cambodia'</li>\n",
       "\t\t<li>'Canada'</li>\n",
       "\t\t<li>'China'</li>\n",
       "\t\t<li>'Columbia'</li>\n",
       "\t\t<li>'Cuba'</li>\n",
       "\t\t<li>'Dominican-Republic'</li>\n",
       "\t\t<li>'Ecuador'</li>\n",
       "\t\t<li>'El-Salvador'</li>\n",
       "\t\t<li>'England'</li>\n",
       "\t\t<li>'France'</li>\n",
       "\t\t<li>'Germany'</li>\n",
       "\t\t<li>'Greece'</li>\n",
       "\t\t<li>'Guatemala'</li>\n",
       "\t\t<li>'Haiti'</li>\n",
       "\t\t<li>'Holand-Netherlands'</li>\n",
       "\t\t<li>'Honduras'</li>\n",
       "\t\t<li>'Hong'</li>\n",
       "\t\t<li>'Hungary'</li>\n",
       "\t\t<li>'India'</li>\n",
       "\t\t<li>'Iran'</li>\n",
       "\t\t<li>'Ireland'</li>\n",
       "\t\t<li>'Italy'</li>\n",
       "\t\t<li>'Jamaica'</li>\n",
       "\t\t<li>'Japan'</li>\n",
       "\t\t<li>'Laos'</li>\n",
       "\t\t<li>'Mexico'</li>\n",
       "\t\t<li>'Nicaragua'</li>\n",
       "\t\t<li>'Outlying-US(Guam-USVI-etc)'</li>\n",
       "\t\t<li>'Peru'</li>\n",
       "\t\t<li>'Philippines'</li>\n",
       "\t\t<li>'Poland'</li>\n",
       "\t\t<li>'Portugal'</li>\n",
       "\t\t<li>'Puerto-Rico'</li>\n",
       "\t\t<li>'Scotland'</li>\n",
       "\t\t<li>'South'</li>\n",
       "\t\t<li>'Taiwan'</li>\n",
       "\t\t<li>'Thailand'</li>\n",
       "\t\t<li>'Trinadad&amp;Tobago'</li>\n",
       "\t\t<li>'United-States'</li>\n",
       "\t\t<li>'Vietnam'</li>\n",
       "\t\t<li>'Yugoslavia'</li>\n",
       "\t</ol>\n",
       "</details>"
      ],
      "text/latex": [
       "\\begin{enumerate*}\n",
       "\\item United-States\n",
       "\\item Cuba\n",
       "\\item Jamaica\n",
       "\\item India\n",
       "\\item ?\n",
       "\\item Mexico\n",
       "\\item South\n",
       "\\item Puerto-Rico\n",
       "\\item Honduras\n",
       "\\item England\n",
       "\\item Canada\n",
       "\\item Germany\n",
       "\\item Iran\n",
       "\\item Philippines\n",
       "\\item Italy\n",
       "\\item Poland\n",
       "\\item Columbia\n",
       "\\item Cambodia\n",
       "\\item Thailand\n",
       "\\item Ecuador\n",
       "\\item Laos\n",
       "\\item Taiwan\n",
       "\\item Haiti\n",
       "\\item Portugal\n",
       "\\item Dominican-Republic\n",
       "\\item El-Salvador\n",
       "\\item France\n",
       "\\item Guatemala\n",
       "\\item China\n",
       "\\item Japan\n",
       "\\item Yugoslavia\n",
       "\\item Peru\n",
       "\\item Outlying-US(Guam-USVI-etc)\n",
       "\\item Scotland\n",
       "\\item Trinadad\\&Tobago\n",
       "\\item Greece\n",
       "\\item Nicaragua\n",
       "\\item Vietnam\n",
       "\\item Hong\n",
       "\\item Ireland\n",
       "\\item Hungary\n",
       "\\item Holand-Netherlands\n",
       "\\end{enumerate*}\n",
       "\n",
       "\\emph{Levels}: \\begin{enumerate*}\n",
       "\\item '?'\n",
       "\\item 'Cambodia'\n",
       "\\item 'Canada'\n",
       "\\item 'China'\n",
       "\\item 'Columbia'\n",
       "\\item 'Cuba'\n",
       "\\item 'Dominican-Republic'\n",
       "\\item 'Ecuador'\n",
       "\\item 'El-Salvador'\n",
       "\\item 'England'\n",
       "\\item 'France'\n",
       "\\item 'Germany'\n",
       "\\item 'Greece'\n",
       "\\item 'Guatemala'\n",
       "\\item 'Haiti'\n",
       "\\item 'Holand-Netherlands'\n",
       "\\item 'Honduras'\n",
       "\\item 'Hong'\n",
       "\\item 'Hungary'\n",
       "\\item 'India'\n",
       "\\item 'Iran'\n",
       "\\item 'Ireland'\n",
       "\\item 'Italy'\n",
       "\\item 'Jamaica'\n",
       "\\item 'Japan'\n",
       "\\item 'Laos'\n",
       "\\item 'Mexico'\n",
       "\\item 'Nicaragua'\n",
       "\\item 'Outlying-US(Guam-USVI-etc)'\n",
       "\\item 'Peru'\n",
       "\\item 'Philippines'\n",
       "\\item 'Poland'\n",
       "\\item 'Portugal'\n",
       "\\item 'Puerto-Rico'\n",
       "\\item 'Scotland'\n",
       "\\item 'South'\n",
       "\\item 'Taiwan'\n",
       "\\item 'Thailand'\n",
       "\\item 'Trinadad\\&Tobago'\n",
       "\\item 'United-States'\n",
       "\\item 'Vietnam'\n",
       "\\item 'Yugoslavia'\n",
       "\\end{enumerate*}\n"
      ],
      "text/markdown": [
       "1. United-States\n",
       "2. Cuba\n",
       "3. Jamaica\n",
       "4. India\n",
       "5. ?\n",
       "6. Mexico\n",
       "7. South\n",
       "8. Puerto-Rico\n",
       "9. Honduras\n",
       "10. England\n",
       "11. Canada\n",
       "12. Germany\n",
       "13. Iran\n",
       "14. Philippines\n",
       "15. Italy\n",
       "16. Poland\n",
       "17. Columbia\n",
       "18. Cambodia\n",
       "19. Thailand\n",
       "20. Ecuador\n",
       "21. Laos\n",
       "22. Taiwan\n",
       "23. Haiti\n",
       "24. Portugal\n",
       "25. Dominican-Republic\n",
       "26. El-Salvador\n",
       "27. France\n",
       "28. Guatemala\n",
       "29. China\n",
       "30. Japan\n",
       "31. Yugoslavia\n",
       "32. Peru\n",
       "33. Outlying-US(Guam-USVI-etc)\n",
       "34. Scotland\n",
       "35. Trinadad&amp;Tobago\n",
       "36. Greece\n",
       "37. Nicaragua\n",
       "38. Vietnam\n",
       "39. Hong\n",
       "40. Ireland\n",
       "41. Hungary\n",
       "42. Holand-Netherlands\n",
       "\n",
       "\n",
       "\n",
       "**Levels**: 1. '?'\n",
       "2. 'Cambodia'\n",
       "3. 'Canada'\n",
       "4. 'China'\n",
       "5. 'Columbia'\n",
       "6. 'Cuba'\n",
       "7. 'Dominican-Republic'\n",
       "8. 'Ecuador'\n",
       "9. 'El-Salvador'\n",
       "10. 'England'\n",
       "11. 'France'\n",
       "12. 'Germany'\n",
       "13. 'Greece'\n",
       "14. 'Guatemala'\n",
       "15. 'Haiti'\n",
       "16. 'Holand-Netherlands'\n",
       "17. 'Honduras'\n",
       "18. 'Hong'\n",
       "19. 'Hungary'\n",
       "20. 'India'\n",
       "21. 'Iran'\n",
       "22. 'Ireland'\n",
       "23. 'Italy'\n",
       "24. 'Jamaica'\n",
       "25. 'Japan'\n",
       "26. 'Laos'\n",
       "27. 'Mexico'\n",
       "28. 'Nicaragua'\n",
       "29. 'Outlying-US(Guam-USVI-etc)'\n",
       "30. 'Peru'\n",
       "31. 'Philippines'\n",
       "32. 'Poland'\n",
       "33. 'Portugal'\n",
       "34. 'Puerto-Rico'\n",
       "35. 'Scotland'\n",
       "36. 'South'\n",
       "37. 'Taiwan'\n",
       "38. 'Thailand'\n",
       "39. 'Trinadad&amp;Tobago'\n",
       "40. 'United-States'\n",
       "41. 'Vietnam'\n",
       "42. 'Yugoslavia'\n",
       "\n",
       "\n"
      ],
      "text/plain": [
       " [1] United-States              Cuba                      \n",
       " [3] Jamaica                    India                     \n",
       " [5] ?                          Mexico                    \n",
       " [7] South                      Puerto-Rico               \n",
       " [9] Honduras                   England                   \n",
       "[11] Canada                     Germany                   \n",
       "[13] Iran                       Philippines               \n",
       "[15] Italy                      Poland                    \n",
       "[17] Columbia                   Cambodia                  \n",
       "[19] Thailand                   Ecuador                   \n",
       "[21] Laos                       Taiwan                    \n",
       "[23] Haiti                      Portugal                  \n",
       "[25] Dominican-Republic         El-Salvador               \n",
       "[27] France                     Guatemala                 \n",
       "[29] China                      Japan                     \n",
       "[31] Yugoslavia                 Peru                      \n",
       "[33] Outlying-US(Guam-USVI-etc) Scotland                  \n",
       "[35] Trinadad&Tobago            Greece                    \n",
       "[37] Nicaragua                  Vietnam                   \n",
       "[39] Hong                       Ireland                   \n",
       "[41] Hungary                    Holand-Netherlands        \n",
       "42 Levels: ? Cambodia Canada China Columbia Cuba Dominican-Republic ... Yugoslavia"
      ]
     },
     "metadata": {},
     "output_type": "display_data"
    }
   ],
   "source": [
    "unique(df$native_country)"
   ]
  },
  {
   "cell_type": "code",
   "execution_count": 30,
   "metadata": {},
   "outputs": [],
   "source": [
    "df$native_country[df$native_country == \"?\"] <- NA\n",
    "df$native_country = factor(df$native_country)"
   ]
  },
  {
   "cell_type": "code",
   "execution_count": 31,
   "metadata": {},
   "outputs": [
    {
     "data": {
      "text/html": [
       "<dl class=dl-horizontal>\n",
       "\t<dt>Cambodia</dt>\n",
       "\t\t<dd>19</dd>\n",
       "\t<dt>Canada</dt>\n",
       "\t\t<dd>121</dd>\n",
       "\t<dt>China</dt>\n",
       "\t\t<dd>75</dd>\n",
       "\t<dt>Columbia</dt>\n",
       "\t\t<dd>59</dd>\n",
       "\t<dt>Cuba</dt>\n",
       "\t\t<dd>95</dd>\n",
       "\t<dt>Dominican-Republic</dt>\n",
       "\t\t<dd>70</dd>\n",
       "\t<dt>Ecuador</dt>\n",
       "\t\t<dd>28</dd>\n",
       "\t<dt>El-Salvador</dt>\n",
       "\t\t<dd>106</dd>\n",
       "\t<dt>England</dt>\n",
       "\t\t<dd>90</dd>\n",
       "\t<dt>France</dt>\n",
       "\t\t<dd>29</dd>\n",
       "\t<dt>Germany</dt>\n",
       "\t\t<dd>137</dd>\n",
       "\t<dt>Greece</dt>\n",
       "\t\t<dd>29</dd>\n",
       "\t<dt>Guatemala</dt>\n",
       "\t\t<dd>64</dd>\n",
       "\t<dt>Haiti</dt>\n",
       "\t\t<dd>44</dd>\n",
       "\t<dt>Holand-Netherlands</dt>\n",
       "\t\t<dd>1</dd>\n",
       "\t<dt>Honduras</dt>\n",
       "\t\t<dd>13</dd>\n",
       "\t<dt>Hong</dt>\n",
       "\t\t<dd>20</dd>\n",
       "\t<dt>Hungary</dt>\n",
       "\t\t<dd>13</dd>\n",
       "\t<dt>India</dt>\n",
       "\t\t<dd>100</dd>\n",
       "\t<dt>Iran</dt>\n",
       "\t\t<dd>43</dd>\n",
       "\t<dt>Ireland</dt>\n",
       "\t\t<dd>24</dd>\n",
       "\t<dt>Italy</dt>\n",
       "\t\t<dd>73</dd>\n",
       "\t<dt>Jamaica</dt>\n",
       "\t\t<dd>81</dd>\n",
       "\t<dt>Japan</dt>\n",
       "\t\t<dd>62</dd>\n",
       "\t<dt>Laos</dt>\n",
       "\t\t<dd>18</dd>\n",
       "\t<dt>Mexico</dt>\n",
       "\t\t<dd>643</dd>\n",
       "\t<dt>Nicaragua</dt>\n",
       "\t\t<dd>34</dd>\n",
       "\t<dt>Outlying-US(Guam-USVI-etc)</dt>\n",
       "\t\t<dd>14</dd>\n",
       "\t<dt>Peru</dt>\n",
       "\t\t<dd>31</dd>\n",
       "\t<dt>Philippines</dt>\n",
       "\t\t<dd>198</dd>\n",
       "\t<dt>Poland</dt>\n",
       "\t\t<dd>60</dd>\n",
       "\t<dt>Portugal</dt>\n",
       "\t\t<dd>37</dd>\n",
       "\t<dt>Puerto-Rico</dt>\n",
       "\t\t<dd>114</dd>\n",
       "\t<dt>Scotland</dt>\n",
       "\t\t<dd>12</dd>\n",
       "\t<dt>South</dt>\n",
       "\t\t<dd>80</dd>\n",
       "\t<dt>Taiwan</dt>\n",
       "\t\t<dd>51</dd>\n",
       "\t<dt>Thailand</dt>\n",
       "\t\t<dd>18</dd>\n",
       "\t<dt>Trinadad&amp;Tobago</dt>\n",
       "\t\t<dd>19</dd>\n",
       "\t<dt>United-States</dt>\n",
       "\t\t<dd>29170</dd>\n",
       "\t<dt>Vietnam</dt>\n",
       "\t\t<dd>67</dd>\n",
       "\t<dt>Yugoslavia</dt>\n",
       "\t\t<dd>16</dd>\n",
       "\t<dt>NA's</dt>\n",
       "\t\t<dd>583</dd>\n",
       "</dl>\n"
      ],
      "text/latex": [
       "\\begin{description*}\n",
       "\\item[Cambodia] 19\n",
       "\\item[Canada] 121\n",
       "\\item[China] 75\n",
       "\\item[Columbia] 59\n",
       "\\item[Cuba] 95\n",
       "\\item[Dominican-Republic] 70\n",
       "\\item[Ecuador] 28\n",
       "\\item[El-Salvador] 106\n",
       "\\item[England] 90\n",
       "\\item[France] 29\n",
       "\\item[Germany] 137\n",
       "\\item[Greece] 29\n",
       "\\item[Guatemala] 64\n",
       "\\item[Haiti] 44\n",
       "\\item[Holand-Netherlands] 1\n",
       "\\item[Honduras] 13\n",
       "\\item[Hong] 20\n",
       "\\item[Hungary] 13\n",
       "\\item[India] 100\n",
       "\\item[Iran] 43\n",
       "\\item[Ireland] 24\n",
       "\\item[Italy] 73\n",
       "\\item[Jamaica] 81\n",
       "\\item[Japan] 62\n",
       "\\item[Laos] 18\n",
       "\\item[Mexico] 643\n",
       "\\item[Nicaragua] 34\n",
       "\\item[Outlying-US(Guam-USVI-etc)] 14\n",
       "\\item[Peru] 31\n",
       "\\item[Philippines] 198\n",
       "\\item[Poland] 60\n",
       "\\item[Portugal] 37\n",
       "\\item[Puerto-Rico] 114\n",
       "\\item[Scotland] 12\n",
       "\\item[South] 80\n",
       "\\item[Taiwan] 51\n",
       "\\item[Thailand] 18\n",
       "\\item[Trinadad\\textbackslash{}\\&Tobago] 19\n",
       "\\item[United-States] 29170\n",
       "\\item[Vietnam] 67\n",
       "\\item[Yugoslavia] 16\n",
       "\\item[NA's] 583\n",
       "\\end{description*}\n"
      ],
      "text/markdown": [
       "Cambodia\n",
       ":   19Canada\n",
       ":   121China\n",
       ":   75Columbia\n",
       ":   59Cuba\n",
       ":   95Dominican-Republic\n",
       ":   70Ecuador\n",
       ":   28El-Salvador\n",
       ":   106England\n",
       ":   90France\n",
       ":   29Germany\n",
       ":   137Greece\n",
       ":   29Guatemala\n",
       ":   64Haiti\n",
       ":   44Holand-Netherlands\n",
       ":   1Honduras\n",
       ":   13Hong\n",
       ":   20Hungary\n",
       ":   13India\n",
       ":   100Iran\n",
       ":   43Ireland\n",
       ":   24Italy\n",
       ":   73Jamaica\n",
       ":   81Japan\n",
       ":   62Laos\n",
       ":   18Mexico\n",
       ":   643Nicaragua\n",
       ":   34Outlying-US(Guam-USVI-etc)\n",
       ":   14Peru\n",
       ":   31Philippines\n",
       ":   198Poland\n",
       ":   60Portugal\n",
       ":   37Puerto-Rico\n",
       ":   114Scotland\n",
       ":   12South\n",
       ":   80Taiwan\n",
       ":   51Thailand\n",
       ":   18Trinadad&amp;amp;Tobago\n",
       ":   19United-States\n",
       ":   29170Vietnam\n",
       ":   67Yugoslavia\n",
       ":   16NA's\n",
       ":   583\n",
       "\n"
      ],
      "text/plain": [
       "                  Cambodia                     Canada \n",
       "                        19                        121 \n",
       "                     China                   Columbia \n",
       "                        75                         59 \n",
       "                      Cuba         Dominican-Republic \n",
       "                        95                         70 \n",
       "                   Ecuador                El-Salvador \n",
       "                        28                        106 \n",
       "                   England                     France \n",
       "                        90                         29 \n",
       "                   Germany                     Greece \n",
       "                       137                         29 \n",
       "                 Guatemala                      Haiti \n",
       "                        64                         44 \n",
       "        Holand-Netherlands                   Honduras \n",
       "                         1                         13 \n",
       "                      Hong                    Hungary \n",
       "                        20                         13 \n",
       "                     India                       Iran \n",
       "                       100                         43 \n",
       "                   Ireland                      Italy \n",
       "                        24                         73 \n",
       "                   Jamaica                      Japan \n",
       "                        81                         62 \n",
       "                      Laos                     Mexico \n",
       "                        18                        643 \n",
       "                 Nicaragua Outlying-US(Guam-USVI-etc) \n",
       "                        34                         14 \n",
       "                      Peru                Philippines \n",
       "                        31                        198 \n",
       "                    Poland                   Portugal \n",
       "                        60                         37 \n",
       "               Puerto-Rico                   Scotland \n",
       "                       114                         12 \n",
       "                     South                     Taiwan \n",
       "                        80                         51 \n",
       "                  Thailand            Trinadad&Tobago \n",
       "                        18                         19 \n",
       "             United-States                    Vietnam \n",
       "                     29170                         67 \n",
       "                Yugoslavia                       NA's \n",
       "                        16                        583 "
      ]
     },
     "metadata": {},
     "output_type": "display_data"
    }
   ],
   "source": [
    "summary(df$native_country)"
   ]
  },
  {
   "cell_type": "markdown",
   "metadata": {},
   "source": [
    "**Visualiser la variable native_country**"
   ]
  },
  {
   "cell_type": "code",
   "execution_count": 32,
   "metadata": {},
   "outputs": [
    {
     "data": {
      "image/png": "[encoded data removed]",
      "text/plain": [
       "plot without title"
      ]
     },
     "metadata": {},
     "output_type": "display_data"
    }
   ],
   "source": [
    "ggplot(df, aes(x=native_country)) + \n",
    "        geom_bar(stat=\"count\") + \n",
    "        ggtitle(\"Distribution de la variable native_country\")"
   ]
  },
  {
   "cell_type": "markdown",
   "metadata": {},
   "source": [
    "Les Etat-Unis sont occupés une grande partie parmi les valeurs pour la variable native_country. Ceci peut amener à un résultat biasé lors de la création de modèle"
   ]
  },
  {
   "cell_type": "markdown",
   "metadata": {},
   "source": [
    "## 1.3 Explorer les variables numériques"
   ]
  },
  {
   "cell_type": "markdown",
   "metadata": {},
   "source": [
    "**Extraire des variables numériques**"
   ]
  },
  {
   "cell_type": "code",
   "execution_count": 33,
   "metadata": {},
   "outputs": [],
   "source": [
    "numerical <- vector()\n",
    "for (i in colnames(df)){\n",
    "    if (is.numeric(df[[i]])) {\n",
    "        numerical <- c(numerical, i)\n",
    "    }  \n",
    "}"
   ]
  },
  {
   "cell_type": "code",
   "execution_count": 34,
   "metadata": {},
   "outputs": [
    {
     "data": {
      "text/html": [
       "<ol class=list-inline>\n",
       "\t<li>'age'</li>\n",
       "\t<li>'fnlwgt'</li>\n",
       "\t<li>'education_num'</li>\n",
       "\t<li>'capital_gain'</li>\n",
       "\t<li>'capital_loss'</li>\n",
       "\t<li>'hours_per_week'</li>\n",
       "</ol>\n"
      ],
      "text/latex": [
       "\\begin{enumerate*}\n",
       "\\item 'age'\n",
       "\\item 'fnlwgt'\n",
       "\\item 'education\\_num'\n",
       "\\item 'capital\\_gain'\n",
       "\\item 'capital\\_loss'\n",
       "\\item 'hours\\_per\\_week'\n",
       "\\end{enumerate*}\n"
      ],
      "text/markdown": [
       "1. 'age'\n",
       "2. 'fnlwgt'\n",
       "3. 'education_num'\n",
       "4. 'capital_gain'\n",
       "5. 'capital_loss'\n",
       "6. 'hours_per_week'\n",
       "\n",
       "\n"
      ],
      "text/plain": [
       "[1] \"age\"            \"fnlwgt\"         \"education_num\"  \"capital_gain\"  \n",
       "[5] \"capital_loss\"   \"hours_per_week\""
      ]
     },
     "metadata": {},
     "output_type": "display_data"
    }
   ],
   "source": [
    "numerical"
   ]
  },
  {
   "cell_type": "code",
   "execution_count": 35,
   "metadata": {},
   "outputs": [
    {
     "data": {
      "text/html": [
       "<table>\n",
       "<thead><tr><th scope=col>age</th><th scope=col>fnlwgt</th><th scope=col>education_num</th><th scope=col>capital_gain</th><th scope=col>capital_loss</th><th scope=col>hours_per_week</th></tr></thead>\n",
       "<tbody>\n",
       "\t<tr><td>39    </td><td> 77516</td><td>13    </td><td>2174  </td><td>0     </td><td>40    </td></tr>\n",
       "\t<tr><td>50    </td><td> 83311</td><td>13    </td><td>   0  </td><td>0     </td><td>13    </td></tr>\n",
       "\t<tr><td>38    </td><td>215646</td><td> 9    </td><td>   0  </td><td>0     </td><td>40    </td></tr>\n",
       "\t<tr><td>53    </td><td>234721</td><td> 7    </td><td>   0  </td><td>0     </td><td>40    </td></tr>\n",
       "\t<tr><td>28    </td><td>338409</td><td>13    </td><td>   0  </td><td>0     </td><td>40    </td></tr>\n",
       "\t<tr><td>37    </td><td>284582</td><td>14    </td><td>   0  </td><td>0     </td><td>40    </td></tr>\n",
       "</tbody>\n",
       "</table>\n"
      ],
      "text/latex": [
       "\\begin{tabular}{r|llllll}\n",
       " age & fnlwgt & education\\_num & capital\\_gain & capital\\_loss & hours\\_per\\_week\\\\\n",
       "\\hline\n",
       "\t 39     &  77516 & 13     & 2174   & 0      & 40    \\\\\n",
       "\t 50     &  83311 & 13     &    0   & 0      & 13    \\\\\n",
       "\t 38     & 215646 &  9     &    0   & 0      & 40    \\\\\n",
       "\t 53     & 234721 &  7     &    0   & 0      & 40    \\\\\n",
       "\t 28     & 338409 & 13     &    0   & 0      & 40    \\\\\n",
       "\t 37     & 284582 & 14     &    0   & 0      & 40    \\\\\n",
       "\\end{tabular}\n"
      ],
      "text/markdown": [
       "\n",
       "| age | fnlwgt | education_num | capital_gain | capital_loss | hours_per_week |\n",
       "|---|---|---|---|---|---|\n",
       "| 39     |  77516 | 13     | 2174   | 0      | 40     |\n",
       "| 50     |  83311 | 13     |    0   | 0      | 13     |\n",
       "| 38     | 215646 |  9     |    0   | 0      | 40     |\n",
       "| 53     | 234721 |  7     |    0   | 0      | 40     |\n",
       "| 28     | 338409 | 13     |    0   | 0      | 40     |\n",
       "| 37     | 284582 | 14     |    0   | 0      | 40     |\n",
       "\n"
      ],
      "text/plain": [
       "  age fnlwgt education_num capital_gain capital_loss hours_per_week\n",
       "1 39   77516 13            2174         0            40            \n",
       "2 50   83311 13               0         0            13            \n",
       "3 38  215646  9               0         0            40            \n",
       "4 53  234721  7               0         0            40            \n",
       "5 28  338409 13               0         0            40            \n",
       "6 37  284582 14               0         0            40            "
      ]
     },
     "metadata": {},
     "output_type": "display_data"
    }
   ],
   "source": [
    "head(df[,numerical])"
   ]
  },
  {
   "cell_type": "code",
   "execution_count": 36,
   "metadata": {},
   "outputs": [
    {
     "data": {
      "text/html": [
       "<dl class=dl-horizontal>\n",
       "\t<dt>age</dt>\n",
       "\t\t<dd>0</dd>\n",
       "\t<dt>fnlwgt</dt>\n",
       "\t\t<dd>0</dd>\n",
       "\t<dt>education_num</dt>\n",
       "\t\t<dd>0</dd>\n",
       "\t<dt>capital_gain</dt>\n",
       "\t\t<dd>0</dd>\n",
       "\t<dt>capital_loss</dt>\n",
       "\t\t<dd>0</dd>\n",
       "\t<dt>hours_per_week</dt>\n",
       "\t\t<dd>0</dd>\n",
       "</dl>\n"
      ],
      "text/latex": [
       "\\begin{description*}\n",
       "\\item[age] 0\n",
       "\\item[fnlwgt] 0\n",
       "\\item[education\\textbackslash{}\\_num] 0\n",
       "\\item[capital\\textbackslash{}\\_gain] 0\n",
       "\\item[capital\\textbackslash{}\\_loss] 0\n",
       "\\item[hours\\textbackslash{}\\_per\\textbackslash{}\\_week] 0\n",
       "\\end{description*}\n"
      ],
      "text/markdown": [
       "age\n",
       ":   0fnlwgt\n",
       ":   0education_num\n",
       ":   0capital_gain\n",
       ":   0capital_loss\n",
       ":   0hours_per_week\n",
       ":   0\n",
       "\n"
      ],
      "text/plain": [
       "           age         fnlwgt  education_num   capital_gain   capital_loss \n",
       "             0              0              0              0              0 \n",
       "hours_per_week \n",
       "             0 "
      ]
     },
     "metadata": {},
     "output_type": "display_data"
    }
   ],
   "source": [
    "colSums(is.na(df[,numerical])) ##TODO"
   ]
  },
  {
   "cell_type": "markdown",
   "metadata": {},
   "source": [
    "**Explorer la variable age**"
   ]
  },
  {
   "cell_type": "code",
   "execution_count": 37,
   "metadata": {},
   "outputs": [
    {
     "data": {
      "text/html": [
       "73"
      ],
      "text/latex": [
       "73"
      ],
      "text/markdown": [
       "73"
      ],
      "text/plain": [
       "[1] 73"
      ]
     },
     "metadata": {},
     "output_type": "display_data"
    }
   ],
   "source": [
    "length(unique(df$age))"
   ]
  },
  {
   "cell_type": "markdown",
   "metadata": {},
   "source": [
    "**Visualiser la varibale age**"
   ]
  },
  {
   "cell_type": "code",
   "execution_count": 38,
   "metadata": {},
   "outputs": [
    {
     "data": {
      "image/png": "[encoded data removed]",
      "text/plain": [
       "plot without title"
      ]
     },
     "metadata": {},
     "output_type": "display_data"
    }
   ],
   "source": [
    "ggplot(df, aes(x=age)) + \n",
    "    geom_histogram(aes(y=..density..),      # Histogram with density instead of count on y-axis\n",
    "                   bins=10, fill=\"white\", color=\"blue\") +\n",
    "    geom_density(alpha=.2) + # Overlay with transparent density plot\n",
    "    ggtitle(\"Distribution de la variable age\")"
   ]
  },
  {
   "cell_type": "markdown",
   "metadata": {},
   "source": [
    "**Détecter les outliers dans la variable age**"
   ]
  },
  {
   "cell_type": "code",
   "execution_count": 39,
   "metadata": {},
   "outputs": [],
   "source": [
    "##TODO"
   ]
  },
  {
   "cell_type": "markdown",
   "metadata": {},
   "source": [
    "**Visualisation de salary par rapport à la variable age**"
   ]
  },
  {
   "cell_type": "code",
   "execution_count": 40,
   "metadata": {},
   "outputs": [
    {
     "data": {
      "image/png": "[encoded data removed]",
      "text/plain": [
       "plot without title"
      ]
     },
     "metadata": {},
     "output_type": "display_data"
    }
   ],
   "source": [
    "ggplot(df, aes(x=salary, y=age)) + \n",
    "  geom_boxplot() + \n",
    "    ggtitle(\"Distribution de la variable age/salary\")"
   ]
  },
  {
   "cell_type": "markdown",
   "metadata": {},
   "source": [
    "Les jeunes gagnent moins que les personnes agées"
   ]
  },
  {
   "cell_type": "markdown",
   "metadata": {},
   "source": [
    "**Visualisation de salary par rapport à la variable sex**"
   ]
  },
  {
   "cell_type": "code",
   "execution_count": 41,
   "metadata": {},
   "outputs": [
    {
     "data": {
      "image/png": "[encoded data removed]",
      "text/plain": [
       "plot without title"
      ]
     },
     "metadata": {},
     "output_type": "display_data"
    }
   ],
   "source": [
    "ggplot(df, aes(x=salary, y=age, fill=sex)) + \n",
    "  geom_boxplot( position=position_dodge()) + \n",
    "    ggtitle(\"Distribution de la variable salary/sex/age\")"
   ]
  },
  {
   "cell_type": "markdown",
   "metadata": {},
   "source": [
    "# 2. Feature Engineering"
   ]
  },
  {
   "cell_type": "markdown",
   "metadata": {},
   "source": [
    "## 2.1 Remplissage de données manquées"
   ]
  },
  {
   "cell_type": "code",
   "execution_count": 42,
   "metadata": {},
   "outputs": [],
   "source": [
    "df$native_country[is.na(df$native_country)] <- names(which.max(table(df$native_country)))\n",
    "df$workclass[is.na(df$workclass)] <- names(which.max(table(df$workclass)))\n",
    "df$occupation[is.na(df$occupation)] <- names(which.max(table(df$occupation)))\n",
    "\n",
    "#df = na.omit(df)"
   ]
  },
  {
   "cell_type": "markdown",
   "metadata": {},
   "source": [
    "## 2.2 Label encoding"
   ]
  },
  {
   "cell_type": "code",
   "execution_count": 43,
   "metadata": {},
   "outputs": [],
   "source": [
    "newDF <- df"
   ]
  },
  {
   "cell_type": "code",
   "execution_count": 44,
   "metadata": {},
   "outputs": [],
   "source": [
    "for (i in categorical) {\n",
    "    enc <- LabelEncoder.fit(df[[i]])\n",
    "    newDF[[i]] <- transform(enc, df[[i]])\n",
    "}"
   ]
  },
  {
   "cell_type": "code",
   "execution_count": 45,
   "metadata": {},
   "outputs": [
    {
     "data": {
      "text/html": [
       "<table>\n",
       "<thead><tr><th scope=col>age</th><th scope=col>workclass</th><th scope=col>fnlwgt</th><th scope=col>education</th><th scope=col>education_num</th><th scope=col>marital_status</th><th scope=col>occupation</th><th scope=col>relationship</th><th scope=col>race</th><th scope=col>sex</th><th scope=col>capital_gain</th><th scope=col>capital_loss</th><th scope=col>hours_per_week</th><th scope=col>native_country</th><th scope=col>salary</th></tr></thead>\n",
       "<tbody>\n",
       "\t<tr><td>39    </td><td>7     </td><td> 77516</td><td>10    </td><td>13    </td><td>5     </td><td> 1    </td><td>2     </td><td>5     </td><td>2     </td><td>2174  </td><td>0     </td><td>40    </td><td>39    </td><td>1     </td></tr>\n",
       "\t<tr><td>50    </td><td>6     </td><td> 83311</td><td>10    </td><td>13    </td><td>3     </td><td> 4    </td><td>1     </td><td>5     </td><td>2     </td><td>   0  </td><td>0     </td><td>13    </td><td>39    </td><td>1     </td></tr>\n",
       "\t<tr><td>38    </td><td>4     </td><td>215646</td><td>12    </td><td> 9    </td><td>1     </td><td> 6    </td><td>2     </td><td>5     </td><td>2     </td><td>   0  </td><td>0     </td><td>40    </td><td>39    </td><td>1     </td></tr>\n",
       "\t<tr><td>53    </td><td>4     </td><td>234721</td><td> 2    </td><td> 7    </td><td>3     </td><td> 6    </td><td>1     </td><td>3     </td><td>2     </td><td>   0  </td><td>0     </td><td>40    </td><td>39    </td><td>1     </td></tr>\n",
       "\t<tr><td>28    </td><td>4     </td><td>338409</td><td>10    </td><td>13    </td><td>3     </td><td>10    </td><td>6     </td><td>3     </td><td>1     </td><td>   0  </td><td>0     </td><td>40    </td><td> 5    </td><td>1     </td></tr>\n",
       "\t<tr><td>37    </td><td>4     </td><td>284582</td><td>13    </td><td>14    </td><td>3     </td><td> 4    </td><td>6     </td><td>5     </td><td>1     </td><td>   0  </td><td>0     </td><td>40    </td><td>39    </td><td>1     </td></tr>\n",
       "</tbody>\n",
       "</table>\n"
      ],
      "text/latex": [
       "\\begin{tabular}{r|lllllllllllllll}\n",
       " age & workclass & fnlwgt & education & education\\_num & marital\\_status & occupation & relationship & race & sex & capital\\_gain & capital\\_loss & hours\\_per\\_week & native\\_country & salary\\\\\n",
       "\\hline\n",
       "\t 39     & 7      &  77516 & 10     & 13     & 5      &  1     & 2      & 5      & 2      & 2174   & 0      & 40     & 39     & 1     \\\\\n",
       "\t 50     & 6      &  83311 & 10     & 13     & 3      &  4     & 1      & 5      & 2      &    0   & 0      & 13     & 39     & 1     \\\\\n",
       "\t 38     & 4      & 215646 & 12     &  9     & 1      &  6     & 2      & 5      & 2      &    0   & 0      & 40     & 39     & 1     \\\\\n",
       "\t 53     & 4      & 234721 &  2     &  7     & 3      &  6     & 1      & 3      & 2      &    0   & 0      & 40     & 39     & 1     \\\\\n",
       "\t 28     & 4      & 338409 & 10     & 13     & 3      & 10     & 6      & 3      & 1      &    0   & 0      & 40     &  5     & 1     \\\\\n",
       "\t 37     & 4      & 284582 & 13     & 14     & 3      &  4     & 6      & 5      & 1      &    0   & 0      & 40     & 39     & 1     \\\\\n",
       "\\end{tabular}\n"
      ],
      "text/markdown": [
       "\n",
       "| age | workclass | fnlwgt | education | education_num | marital_status | occupation | relationship | race | sex | capital_gain | capital_loss | hours_per_week | native_country | salary |\n",
       "|---|---|---|---|---|---|---|---|---|---|---|---|---|---|---|\n",
       "| 39     | 7      |  77516 | 10     | 13     | 5      |  1     | 2      | 5      | 2      | 2174   | 0      | 40     | 39     | 1      |\n",
       "| 50     | 6      |  83311 | 10     | 13     | 3      |  4     | 1      | 5      | 2      |    0   | 0      | 13     | 39     | 1      |\n",
       "| 38     | 4      | 215646 | 12     |  9     | 1      |  6     | 2      | 5      | 2      |    0   | 0      | 40     | 39     | 1      |\n",
       "| 53     | 4      | 234721 |  2     |  7     | 3      |  6     | 1      | 3      | 2      |    0   | 0      | 40     | 39     | 1      |\n",
       "| 28     | 4      | 338409 | 10     | 13     | 3      | 10     | 6      | 3      | 1      |    0   | 0      | 40     |  5     | 1      |\n",
       "| 37     | 4      | 284582 | 13     | 14     | 3      |  4     | 6      | 5      | 1      |    0   | 0      | 40     | 39     | 1      |\n",
       "\n"
      ],
      "text/plain": [
       "  age workclass fnlwgt education education_num marital_status occupation\n",
       "1 39  7          77516 10        13            5               1        \n",
       "2 50  6          83311 10        13            3               4        \n",
       "3 38  4         215646 12         9            1               6        \n",
       "4 53  4         234721  2         7            3               6        \n",
       "5 28  4         338409 10        13            3              10        \n",
       "6 37  4         284582 13        14            3               4        \n",
       "  relationship race sex capital_gain capital_loss hours_per_week native_country\n",
       "1 2            5    2   2174         0            40             39            \n",
       "2 1            5    2      0         0            13             39            \n",
       "3 2            5    2      0         0            40             39            \n",
       "4 1            3    2      0         0            40             39            \n",
       "5 6            3    1      0         0            40              5            \n",
       "6 6            5    1      0         0            40             39            \n",
       "  salary\n",
       "1 1     \n",
       "2 1     \n",
       "3 1     \n",
       "4 1     \n",
       "5 1     \n",
       "6 1     "
      ]
     },
     "metadata": {},
     "output_type": "display_data"
    }
   ],
   "source": [
    "head(newDF)"
   ]
  },
  {
   "cell_type": "markdown",
   "metadata": {},
   "source": [
    "## 2.3 Corrélation"
   ]
  },
  {
   "cell_type": "code",
   "execution_count": 46,
   "metadata": {},
   "outputs": [],
   "source": [
    "#Creation de la matrice corrélation\n",
    "newDF <- round(cor(newDF),2)\n",
    "\n",
    "#Melt data to bring the correlation values in two axis\n",
    "melted_data <- melt(newDF)\n",
    "#head(melted_data)"
   ]
  },
  {
   "cell_type": "code",
   "execution_count": 47,
   "metadata": {},
   "outputs": [
    {
     "data": {
      "image/png": "[encoded data removed]",
      "text/plain": [
       "plot without title"
      ]
     },
     "metadata": {},
     "output_type": "display_data"
    }
   ],
   "source": [
    "ggheatmap = ggplot(melted_data, aes(Var2, Var1, fill = value)) + geom_tile(color = \"white\") + scale_fill_gradient2(low = \"blue\", high = \"red\", mid = \"white\", midpoint = 0, limit = c(-1, 1), space = \"Lab\", name = \"Pearson\\nCorrelation\") + theme_minimal() + coord_fixed()\n",
    "ggheatmap + geom_text(aes(Var2, Var1, label = value), color = \"black\", size = 2) + theme(axis.title.x = element_blank(), axis.title.y = element_blank())"
   ]
  },
  {
   "cell_type": "markdown",
   "metadata": {},
   "source": [
    "Comme on peut voir dans la visualisation heatmap les deux variables education et educations_num sont fortement corrélées, on avait le meme phénomène pour le couple de variable relationship et martial_status. Par conséquent, on pourra enlever les variables relationship et education. Il est préférable de garder les variables numériques pour contruire le modèle"
   ]
  },
  {
   "cell_type": "code",
   "execution_count": 48,
   "metadata": {},
   "outputs": [],
   "source": [
    "df = subset(df, select = -c(relationship, education))"
   ]
  },
  {
   "cell_type": "code",
   "execution_count": 49,
   "metadata": {},
   "outputs": [],
   "source": [
    "categorical <- categorical[categorical != \"relationship\"]\n",
    "categorical <- categorical[categorical != \"education\"]\n",
    "\n",
    "#Splitter la cible\n",
    "#categorical <- categorical[categorical != \"salary\"]"
   ]
  },
  {
   "cell_type": "code",
   "execution_count": 50,
   "metadata": {},
   "outputs": [],
   "source": [
    "testDf <- df"
   ]
  },
  {
   "cell_type": "code",
   "execution_count": 51,
   "metadata": {},
   "outputs": [],
   "source": [
    "#testDf$age <- discretize(testDf$age, breaks = 3, method = \"interval\")\n",
    "#testDf$capital_gain <- discretize(testDf$capital_gain, breaks = 20,  method = \"interval\")"
   ]
  },
  {
   "cell_type": "markdown",
   "metadata": {},
   "source": [
    "## 2.4 Coupage de données train/test"
   ]
  },
  {
   "cell_type": "code",
   "execution_count": 52,
   "metadata": {},
   "outputs": [],
   "source": [
    "# Random sample indexes\n",
    "train_index <- sample(1:nrow(testDf), 0.7 * nrow(testDf))\n",
    "test_index <- setdiff(1:nrow(testDf), train_index)\n",
    "\n",
    "# Build X_train, y_train, X_test, y_test\n",
    "X_train <- testDf[train_index, -13]\n",
    "y_train <- testDf[train_index, \"salary\"]\n",
    "\n",
    "X_test <- testDf[test_index, -13]\n",
    "y_test <- testDf[test_index, \"salary\"]"
   ]
  },
  {
   "cell_type": "code",
   "execution_count": 53,
   "metadata": {},
   "outputs": [
    {
     "data": {
      "text/html": [
       "<ol class=list-inline>\n",
       "\t<li>22792</li>\n",
       "\t<li>12</li>\n",
       "</ol>\n"
      ],
      "text/latex": [
       "\\begin{enumerate*}\n",
       "\\item 22792\n",
       "\\item 12\n",
       "\\end{enumerate*}\n"
      ],
      "text/markdown": [
       "1. 22792\n",
       "2. 12\n",
       "\n",
       "\n"
      ],
      "text/plain": [
       "[1] 22792    12"
      ]
     },
     "metadata": {},
     "output_type": "display_data"
    }
   ],
   "source": [
    "dim(X_train)"
   ]
  },
  {
   "cell_type": "code",
   "execution_count": 54,
   "metadata": {},
   "outputs": [
    {
     "data": {
      "text/html": [
       "<ol class=list-inline>\n",
       "\t<li>9769</li>\n",
       "\t<li>12</li>\n",
       "</ol>\n"
      ],
      "text/latex": [
       "\\begin{enumerate*}\n",
       "\\item 9769\n",
       "\\item 12\n",
       "\\end{enumerate*}\n"
      ],
      "text/markdown": [
       "1. 9769\n",
       "2. 12\n",
       "\n",
       "\n"
      ],
      "text/plain": [
       "[1] 9769   12"
      ]
     },
     "metadata": {},
     "output_type": "display_data"
    }
   ],
   "source": [
    "dim(X_test)"
   ]
  },
  {
   "cell_type": "code",
   "execution_count": 55,
   "metadata": {},
   "outputs": [
    {
     "data": {
      "text/html": [
       "<ol class=list-inline>\n",
       "\t<li>22792</li>\n",
       "\t<li>12</li>\n",
       "</ol>\n"
      ],
      "text/latex": [
       "\\begin{enumerate*}\n",
       "\\item 22792\n",
       "\\item 12\n",
       "\\end{enumerate*}\n"
      ],
      "text/markdown": [
       "1. 22792\n",
       "2. 12\n",
       "\n",
       "\n"
      ],
      "text/plain": [
       "[1] 22792    12"
      ]
     },
     "metadata": {},
     "output_type": "display_data"
    }
   ],
   "source": [
    "#encoder <- dummyVars(\" ~ .\", data=X_train)\n",
    "#encoder <- one_hot(X_train, cols = \"auto\")\n",
    "#X_train <- data.frame(predict(encoder, newdata = X_train)) \n",
    "dim(X_train)"
   ]
  },
  {
   "cell_type": "code",
   "execution_count": 56,
   "metadata": {},
   "outputs": [
    {
     "data": {
      "text/html": [
       "<ol class=list-inline>\n",
       "\t<li>9769</li>\n",
       "\t<li>12</li>\n",
       "</ol>\n"
      ],
      "text/latex": [
       "\\begin{enumerate*}\n",
       "\\item 9769\n",
       "\\item 12\n",
       "\\end{enumerate*}\n"
      ],
      "text/markdown": [
       "1. 9769\n",
       "2. 12\n",
       "\n",
       "\n"
      ],
      "text/plain": [
       "[1] 9769   12"
      ]
     },
     "metadata": {},
     "output_type": "display_data"
    }
   ],
   "source": [
    "#encoder <- dummyVars(\" ~ .\", data=X_test)\n",
    "#X_test <- data.frame(predict(encoder, newdata = X_test)) \n",
    "dim(X_test)"
   ]
  },
  {
   "cell_type": "markdown",
   "metadata": {},
   "source": [
    "# 3. Arbre de décision"
   ]
  },
  {
   "cell_type": "markdown",
   "metadata": {},
   "source": [
    "## 3.1 Arbre standard"
   ]
  },
  {
   "cell_type": "markdown",
   "metadata": {},
   "source": [
    "**Fonctionne de prédiction**"
   ]
  },
  {
   "cell_type": "code",
   "execution_count": 57,
   "metadata": {},
   "outputs": [],
   "source": [
    "predictData <- function(model, feature_test, target_test) {\n",
    "    pred <- predict(model, feature_test, type = \"class\")\n",
    "    mc <- table(target_test, pred)\n",
    "    return(mc)\n",
    "}\n",
    "\n",
    "buildMC <- function(table, colNames, rowNames) {\n",
    "    colLeft <- c(table[1,1], table[2,1])\n",
    "    colRight <- c(table[1,2], table[2,2])\n",
    "    mc <- data.frame(colLeft, colRight, row.names=rowNames)\n",
    "    colnames(mc) <- colNames \n",
    "    return (mc)\n",
    "}\n",
    "\n",
    "statMC <- function(mc) {\n",
    "    accuracy <- sum(diag(mc)/(sum(rowSums(mc)))) * 100\n",
    "    sensitivity <- mc[1,1]/(mc[1,1] + mc[2,1]) #Precision\n",
    "    specificity <- mc[2,2]/(mc[1,2] + mc[2,2])\n",
    "    recall <- mc[1,1]/(mc[1,1] + mc[1,2]) #True positive\n",
    "    false_positive <- mc[2,1]/(mc[2,1] + mc[2,2])\n",
    "    \n",
    "    true_negative <- mc[2,2]/(mc[2,1] + mc[2,2])\n",
    "    arithmetic_mean <- (recall + true_negative)/2\n",
    "    geometric_mean <- sqrt(recall * true_negative)\n",
    "    \n",
    "    cat(\"Accuracy: \", accuracy, \"\\n\")\n",
    "    cat(\"Sensitivity: \", sensitivity, \"\\n\") #Precision nombre de positive bien classifié\n",
    "    cat(\"Specificity: \", specificity, \"\\n\") #nombre de négative bien classifié\n",
    "    cat(\"Recall: \", recall, \"\\n\")\n",
    "    cat(\"True Negative: \", true_negative, \"\\n\")\n",
    "    cat(\"False Positive: \", false_positive, \"\\n\")\n",
    "    cat(\"Arithmetic Mean: \", arithmetic_mean, \"\\n\")\n",
    "    cat(\"Geometric Mean: \", geometric_mean, \"\\n\")\n",
    "    \n",
    "    info <- c(false_positive, recall)\n",
    "    return(info)\n",
    "}"
   ]
  },
  {
   "cell_type": "code",
   "execution_count": 58,
   "metadata": {},
   "outputs": [
    {
     "data": {
      "image/png": "[encoded data removed]",
      "text/plain": [
       "plot without title"
      ]
     },
     "metadata": {},
     "output_type": "display_data"
    }
   ],
   "source": [
    "treeModel <- rpart(y_train~., data=X_train, method=\"class\")\n",
    "#treePredict <- predict(treeModel, X_test, type = \"class\")\n",
    "#confusionMatrix(y_test, treePredict)\n",
    "rpart.plot(treeModel)"
   ]
  },
  {
   "cell_type": "code",
   "execution_count": 59,
   "metadata": {},
   "outputs": [
    {
     "name": "stdout",
     "output_type": "stream",
     "text": [
      "Accuracy:  84,55318 \n",
      "Sensitivity:  0,8612738 \n",
      "Specificity:  0,7635092 \n",
      "Recall:  0,9499394 \n",
      "True Negative:  0,5136869 \n",
      "False Positive:  0,4863131 \n",
      "Arithmetic Mean:  0,7318132 \n",
      "Geometric Mean:  0,6985495 \n"
     ]
    }
   ],
   "source": [
    "validate_test <- predictData(treeModel, X_test, y_test)\n",
    "\n",
    "mc <- validate_test\n",
    "infoTreeBase <- statMC(mc)"
   ]
  },
  {
   "cell_type": "markdown",
   "metadata": {},
   "source": [
    "## 3.2 Tunnning Modèle"
   ]
  },
  {
   "cell_type": "markdown",
   "metadata": {},
   "source": [
    "**Pre-Pruning**"
   ]
  },
  {
   "cell_type": "code",
   "execution_count": 60,
   "metadata": {},
   "outputs": [],
   "source": [
    "treeModelPre <- rpart(y_train~., data = X_train, method = \"class\", \n",
    "                   control = rpart.control(cp = 0, maxdepth = 8,minsplit = 100))"
   ]
  },
  {
   "cell_type": "code",
   "execution_count": 61,
   "metadata": {},
   "outputs": [
    {
     "name": "stdout",
     "output_type": "stream",
     "text": [
      "Accuracy:  84,55318 \n",
      "Sensitivity:  0,8612738 \n",
      "Specificity:  0,7635092 \n",
      "Recall:  0,9499394 \n",
      "True Negative:  0,5136869 \n",
      "False Positive:  0,4863131 \n",
      "Arithmetic Mean:  0,7318132 \n",
      "Geometric Mean:  0,6985495 \n"
     ]
    }
   ],
   "source": [
    "validate_test_pre <- predictData(treeModelPre, X_test, y_test)\n",
    "\n",
    "mc <- validate_test\n",
    "infoTreePre <- statMC(mc)"
   ]
  },
  {
   "cell_type": "markdown",
   "metadata": {},
   "source": [
    "**Post pruning**"
   ]
  },
  {
   "cell_type": "code",
   "execution_count": 62,
   "metadata": {},
   "outputs": [],
   "source": [
    "treeModelPost <- prune(treeModel, cp = 0.0084 )"
   ]
  },
  {
   "cell_type": "code",
   "execution_count": 63,
   "metadata": {},
   "outputs": [
    {
     "name": "stdout",
     "output_type": "stream",
     "text": [
      "Accuracy:  84,55318 \n",
      "Sensitivity:  0,8612738 \n",
      "Specificity:  0,7635092 \n",
      "Recall:  0,9499394 \n",
      "True Negative:  0,5136869 \n",
      "False Positive:  0,4863131 \n",
      "Arithmetic Mean:  0,7318132 \n",
      "Geometric Mean:  0,6985495 \n"
     ]
    }
   ],
   "source": [
    "validate_test_post <- predictData(treeModelPost, X_test, y_test)\n",
    "\n",
    "mc <- validate_test_post\n",
    "infoTreePost <- statMC(mc)"
   ]
  },
  {
   "cell_type": "markdown",
   "metadata": {},
   "source": [
    "# 4. Random Forest"
   ]
  },
  {
   "cell_type": "code",
   "execution_count": 64,
   "metadata": {},
   "outputs": [
    {
     "name": "stderr",
     "output_type": "stream",
     "text": [
      "randomForest 4.6-14\n",
      "Type rfNews() to see new features/changes/bug fixes.\n",
      "\n",
      "Attaching package: ‘randomForest’\n",
      "\n",
      "The following object is masked from ‘package:ggplot2’:\n",
      "\n",
      "    margin\n",
      "\n"
     ]
    }
   ],
   "source": [
    "library(randomForest)"
   ]
  },
  {
   "cell_type": "code",
   "execution_count": 65,
   "metadata": {},
   "outputs": [],
   "source": [
    "modelRF = randomForest(y_train~., data = X_train, importance = TRUE)"
   ]
  },
  {
   "cell_type": "code",
   "execution_count": 66,
   "metadata": {},
   "outputs": [
    {
     "name": "stdout",
     "output_type": "stream",
     "text": [
      "\n",
      "Call:\n",
      " randomForest(formula = y_train ~ ., data = X_train, importance = TRUE) \n",
      "               Type of random forest: classification\n",
      "                     Number of trees: 500\n",
      "No. of variables tried at each split: 3\n",
      "\n",
      "        OOB estimate of  error rate: 13,81%\n",
      "Confusion matrix:\n",
      "      <=50K >50K class.error\n",
      "<=50K 16128 1161  0,06715252\n",
      ">50K   1987 3516  0,36107578\n"
     ]
    }
   ],
   "source": [
    "print(modelRF)"
   ]
  },
  {
   "cell_type": "code",
   "execution_count": 67,
   "metadata": {},
   "outputs": [
    {
     "name": "stdout",
     "output_type": "stream",
     "text": [
      "Accuracy:  86,40598 \n",
      "Sensitivity:  0,8898684 \n",
      "Specificity:  0,7600412 \n",
      "Recall:  0,9372897 \n",
      "True Negative:  0,6313088 \n",
      "False Positive:  0,3686912 \n",
      "Arithmetic Mean:  0,7842993 \n",
      "Geometric Mean:  0,7692329 \n"
     ]
    }
   ],
   "source": [
    "validate_test <- predictData(modelRF, X_test, y_test)\n",
    "\n",
    "mc <- validate_test\n",
    "infoRF <- statMC(mc)"
   ]
  },
  {
   "cell_type": "markdown",
   "metadata": {},
   "source": [
    "# 5. K Nearest Neighbor"
   ]
  },
  {
   "cell_type": "markdown",
   "metadata": {},
   "source": [
    "**Encoding des variables catégoriques**"
   ]
  },
  {
   "cell_type": "code",
   "execution_count": 68,
   "metadata": {},
   "outputs": [],
   "source": [
    "#encoder <- dummyVars(~workclass + marital_status + occupation + race + sex + native_country + age + fnlwgt + education_num + capital_gain + capital_loss + hours_per_week, data=X_train)\n",
    "encoder <- dummyVars(~., data = X_train)\n",
    "X_train_test <- data.frame(predict(encoder, newdata = X_train)) \n",
    "X_test_test <- data.frame(predict(encoder, newdata = X_test)) "
   ]
  },
  {
   "cell_type": "code",
   "execution_count": 69,
   "metadata": {},
   "outputs": [],
   "source": [
    "# Min-Max Scaling function\n",
    "MinMaxScaling <- function(x){\n",
    "  return((x-min(x))/(max(x)-min(x)))\n",
    "}"
   ]
  },
  {
   "cell_type": "code",
   "execution_count": 70,
   "metadata": {},
   "outputs": [],
   "source": [
    "for (i in numerical) {\n",
    "    #print(X_train_test[[i]])\n",
    "    X_train_test[[i]] <- MinMaxScaling(X_train_test[[i]])\n",
    "}"
   ]
  },
  {
   "cell_type": "code",
   "execution_count": 71,
   "metadata": {},
   "outputs": [
    {
     "name": "stdout",
     "output_type": "stream",
     "text": [
      "Accuracy:  76,58921 \n",
      "Sensitivity:  1 \n",
      "Specificity:  0,02181352 \n",
      "Recall:  0,7646635 \n",
      "True Negative:  1 \n",
      "False Positive:  0 \n",
      "Arithmetic Mean:  0,8823318 \n",
      "Geometric Mean:  0,8744504 \n"
     ]
    }
   ],
   "source": [
    "pr <- knn(X_train_test,X_test_test,cl=y_train,k=10)\n",
    " \n",
    "##create confusion matrix\n",
    "tab <- table(pr,y_test)\n",
    "\n",
    "##this function divides the correct predictions by total number of predictions that tell us how accurate teh model is.\n",
    "infoKNN <- statMC(tab)"
   ]
  },
  {
   "cell_type": "markdown",
   "metadata": {},
   "source": [
    "# 6. Tester le modèle"
   ]
  },
  {
   "cell_type": "code",
   "execution_count": 73,
   "metadata": {},
   "outputs": [],
   "source": [
    "valDf <- read.table(\"adult.test\", \n",
    "                 sep = ',', \n",
    "                 fill = FALSE, \n",
    "                 strip.white = TRUE)\n",
    "\n",
    "colnames(valDf) <- c(\"age\", \"workclass\", \"fnlwgt\", \"education\", \"education_num\", \"marital_status\", \n",
    "                 \"occupation\", \"relationship\", \"race\", \"sex\", \"capital_gain\", \"capital_loss\", \n",
    "                 \"hours_per_week\", \"native_country\", \"salary\")"
   ]
  },
  {
   "cell_type": "code",
   "execution_count": 74,
   "metadata": {},
   "outputs": [
    {
     "data": {
      "text/html": [
       "<table>\n",
       "<thead><tr><th scope=col>age</th><th scope=col>workclass</th><th scope=col>fnlwgt</th><th scope=col>education</th><th scope=col>education_num</th><th scope=col>marital_status</th><th scope=col>occupation</th><th scope=col>relationship</th><th scope=col>race</th><th scope=col>sex</th><th scope=col>capital_gain</th><th scope=col>capital_loss</th><th scope=col>hours_per_week</th><th scope=col>native_country</th><th scope=col>salary</th></tr></thead>\n",
       "<tbody>\n",
       "\t<tr><td>25                                                        </td><td><span style=white-space:pre-wrap>Private  </span>         </td><td>226802                                                    </td><td><span style=white-space:pre-wrap>11th        </span>      </td><td> 7                                                        </td><td><span style=white-space:pre-wrap>Never-married     </span></td><td>Machine-op-inspct                                         </td><td><span style=white-space:pre-wrap>Own-child    </span>     </td><td>Black                                                     </td><td><span style=white-space:pre-wrap>Male  </span>            </td><td><span style=white-space:pre-wrap>   0</span>              </td><td>0                                                         </td><td>40                                                        </td><td>United-States                                             </td><td>&lt;=50K.                                                 </td></tr>\n",
       "\t<tr><td>38                                                       </td><td><span style=white-space:pre-wrap>Private  </span>        </td><td> 89814                                                   </td><td><span style=white-space:pre-wrap>HS-grad     </span>     </td><td> 9                                                       </td><td>Married-civ-spouse                                       </td><td><span style=white-space:pre-wrap>Farming-fishing  </span></td><td><span style=white-space:pre-wrap>Husband      </span>    </td><td>White                                                    </td><td><span style=white-space:pre-wrap>Male  </span>           </td><td><span style=white-space:pre-wrap>   0</span>             </td><td>0                                                        </td><td>50                                                       </td><td>United-States                                            </td><td>&lt;=50K.                                                </td></tr>\n",
       "\t<tr><td>28                                                       </td><td>Local-gov                                                </td><td>336951                                                   </td><td><span style=white-space:pre-wrap>Assoc-acdm  </span>     </td><td>12                                                       </td><td>Married-civ-spouse                                       </td><td><span style=white-space:pre-wrap>Protective-serv  </span></td><td><span style=white-space:pre-wrap>Husband      </span>    </td><td>White                                                    </td><td><span style=white-space:pre-wrap>Male  </span>           </td><td><span style=white-space:pre-wrap>   0</span>             </td><td>0                                                        </td><td>40                                                       </td><td>United-States                                            </td><td>&gt;50K.                                                 </td></tr>\n",
       "\t<tr><td>44                                                   </td><td><span style=white-space:pre-wrap>Private  </span>    </td><td>160323                                               </td><td>Some-college                                         </td><td>10                                                   </td><td>Married-civ-spouse                                   </td><td>Machine-op-inspct                                    </td><td><span style=white-space:pre-wrap>Husband      </span></td><td>Black                                                </td><td><span style=white-space:pre-wrap>Male  </span>       </td><td>7688                                                 </td><td>0                                                    </td><td>40                                                   </td><td>United-States                                        </td><td>&gt;50K.                                             </td></tr>\n",
       "\t<tr><td>18                                                        </td><td><span style=white-space:pre-wrap>?        </span>         </td><td>103497                                                    </td><td>Some-college                                              </td><td>10                                                        </td><td><span style=white-space:pre-wrap>Never-married     </span></td><td><span style=white-space:pre-wrap>?                </span> </td><td><span style=white-space:pre-wrap>Own-child    </span>     </td><td>White                                                     </td><td>Female                                                    </td><td><span style=white-space:pre-wrap>   0</span>              </td><td>0                                                         </td><td>30                                                        </td><td>United-States                                             </td><td>&lt;=50K.                                                 </td></tr>\n",
       "\t<tr><td>34                                                        </td><td><span style=white-space:pre-wrap>Private  </span>         </td><td>198693                                                    </td><td><span style=white-space:pre-wrap>10th        </span>      </td><td> 6                                                        </td><td><span style=white-space:pre-wrap>Never-married     </span></td><td><span style=white-space:pre-wrap>Other-service    </span> </td><td>Not-in-family                                             </td><td>White                                                     </td><td><span style=white-space:pre-wrap>Male  </span>            </td><td><span style=white-space:pre-wrap>   0</span>              </td><td>0                                                         </td><td>30                                                        </td><td>United-States                                             </td><td>&lt;=50K.                                                 </td></tr>\n",
       "</tbody>\n",
       "</table>\n"
      ],
      "text/latex": [
       "\\begin{tabular}{r|lllllllllllllll}\n",
       " age & workclass & fnlwgt & education & education\\_num & marital\\_status & occupation & relationship & race & sex & capital\\_gain & capital\\_loss & hours\\_per\\_week & native\\_country & salary\\\\\n",
       "\\hline\n",
       "\t 25                 & Private            & 226802             & 11th               &  7                 & Never-married      & Machine-op-inspct  & Own-child          & Black              & Male               &    0               & 0                  & 40                 & United-States      & <=50K.            \\\\\n",
       "\t 38                 & Private            &  89814             & HS-grad            &  9                 & Married-civ-spouse & Farming-fishing    & Husband            & White              & Male               &    0               & 0                  & 50                 & United-States      & <=50K.            \\\\\n",
       "\t 28                 & Local-gov          & 336951             & Assoc-acdm         & 12                 & Married-civ-spouse & Protective-serv    & Husband            & White              & Male               &    0               & 0                  & 40                 & United-States      & >50K.             \\\\\n",
       "\t 44                 & Private            & 160323             & Some-college       & 10                 & Married-civ-spouse & Machine-op-inspct  & Husband            & Black              & Male               & 7688               & 0                  & 40                 & United-States      & >50K.             \\\\\n",
       "\t 18                 & ?                  & 103497             & Some-college       & 10                 & Never-married      & ?                  & Own-child          & White              & Female             &    0               & 0                  & 30                 & United-States      & <=50K.            \\\\\n",
       "\t 34                 & Private            & 198693             & 10th               &  6                 & Never-married      & Other-service      & Not-in-family      & White              & Male               &    0               & 0                  & 30                 & United-States      & <=50K.            \\\\\n",
       "\\end{tabular}\n"
      ],
      "text/markdown": [
       "\n",
       "| age | workclass | fnlwgt | education | education_num | marital_status | occupation | relationship | race | sex | capital_gain | capital_loss | hours_per_week | native_country | salary |\n",
       "|---|---|---|---|---|---|---|---|---|---|---|---|---|---|---|\n",
       "| 25                 | Private            | 226802             | 11th               |  7                 | Never-married      | Machine-op-inspct  | Own-child          | Black              | Male               |    0               | 0                  | 40                 | United-States      | <=50K.             |\n",
       "| 38                 | Private            |  89814             | HS-grad            |  9                 | Married-civ-spouse | Farming-fishing    | Husband            | White              | Male               |    0               | 0                  | 50                 | United-States      | <=50K.             |\n",
       "| 28                 | Local-gov          | 336951             | Assoc-acdm         | 12                 | Married-civ-spouse | Protective-serv    | Husband            | White              | Male               |    0               | 0                  | 40                 | United-States      | >50K.              |\n",
       "| 44                 | Private            | 160323             | Some-college       | 10                 | Married-civ-spouse | Machine-op-inspct  | Husband            | Black              | Male               | 7688               | 0                  | 40                 | United-States      | >50K.              |\n",
       "| 18                 | ?                  | 103497             | Some-college       | 10                 | Never-married      | ?                  | Own-child          | White              | Female             |    0               | 0                  | 30                 | United-States      | <=50K.             |\n",
       "| 34                 | Private            | 198693             | 10th               |  6                 | Never-married      | Other-service      | Not-in-family      | White              | Male               |    0               | 0                  | 30                 | United-States      | <=50K.             |\n",
       "\n"
      ],
      "text/plain": [
       "  age workclass fnlwgt education    education_num marital_status    \n",
       "1 25  Private   226802 11th          7            Never-married     \n",
       "2 38  Private    89814 HS-grad       9            Married-civ-spouse\n",
       "3 28  Local-gov 336951 Assoc-acdm   12            Married-civ-spouse\n",
       "4 44  Private   160323 Some-college 10            Married-civ-spouse\n",
       "5 18  ?         103497 Some-college 10            Never-married     \n",
       "6 34  Private   198693 10th          6            Never-married     \n",
       "  occupation        relationship  race  sex    capital_gain capital_loss\n",
       "1 Machine-op-inspct Own-child     Black Male      0         0           \n",
       "2 Farming-fishing   Husband       White Male      0         0           \n",
       "3 Protective-serv   Husband       White Male      0         0           \n",
       "4 Machine-op-inspct Husband       Black Male   7688         0           \n",
       "5 ?                 Own-child     White Female    0         0           \n",
       "6 Other-service     Not-in-family White Male      0         0           \n",
       "  hours_per_week native_country salary\n",
       "1 40             United-States  <=50K.\n",
       "2 50             United-States  <=50K.\n",
       "3 40             United-States  >50K. \n",
       "4 40             United-States  >50K. \n",
       "5 30             United-States  <=50K.\n",
       "6 30             United-States  <=50K."
      ]
     },
     "metadata": {},
     "output_type": "display_data"
    }
   ],
   "source": [
    "head(valDf)"
   ]
  },
  {
   "cell_type": "code",
   "execution_count": 75,
   "metadata": {},
   "outputs": [
    {
     "name": "stdout",
     "output_type": "stream",
     "text": [
      "'data.frame':\t16281 obs. of  15 variables:\n",
      " $ age           : int  25 38 28 44 18 34 29 63 24 55 ...\n",
      " $ workclass     : Factor w/ 9 levels \"?\",\"Federal-gov\",..: 5 5 3 5 1 5 1 7 5 5 ...\n",
      " $ fnlwgt        : int  226802 89814 336951 160323 103497 198693 227026 104626 369667 104996 ...\n",
      " $ education     : Factor w/ 16 levels \"10th\",\"11th\",..: 2 12 8 16 16 1 12 15 16 6 ...\n",
      " $ education_num : int  7 9 12 10 10 6 9 15 10 4 ...\n",
      " $ marital_status: Factor w/ 7 levels \"Divorced\",\"Married-AF-spouse\",..: 5 3 3 3 5 5 5 3 5 3 ...\n",
      " $ occupation    : Factor w/ 15 levels \"?\",\"Adm-clerical\",..: 8 6 12 8 1 9 1 11 9 4 ...\n",
      " $ relationship  : Factor w/ 6 levels \"Husband\",\"Not-in-family\",..: 4 1 1 1 4 2 5 1 5 1 ...\n",
      " $ race          : Factor w/ 5 levels \"Amer-Indian-Eskimo\",..: 3 5 5 3 5 5 3 5 5 5 ...\n",
      " $ sex           : Factor w/ 2 levels \"Female\",\"Male\": 2 2 2 2 1 2 2 2 1 2 ...\n",
      " $ capital_gain  : int  0 0 0 7688 0 0 0 3103 0 0 ...\n",
      " $ capital_loss  : int  0 0 0 0 0 0 0 0 0 0 ...\n",
      " $ hours_per_week: int  40 50 40 40 30 30 40 32 40 10 ...\n",
      " $ native_country: Factor w/ 41 levels \"?\",\"Cambodia\",..: 39 39 39 39 39 39 39 39 39 39 ...\n",
      " $ salary        : Factor w/ 2 levels \"<=50K.\",\">50K.\": 1 1 2 2 1 1 1 2 1 1 ...\n"
     ]
    }
   ],
   "source": [
    "str(valDf)"
   ]
  },
  {
   "cell_type": "code",
   "execution_count": 76,
   "metadata": {},
   "outputs": [
    {
     "name": "stdout",
     "output_type": "stream",
     "text": [
      "Element manqué dans le dataset:  0 \n"
     ]
    }
   ],
   "source": [
    "cat(\"Element manqué dans le dataset: \", sum(is.na(valDf)), \"\\n\")"
   ]
  },
  {
   "cell_type": "code",
   "execution_count": 77,
   "metadata": {},
   "outputs": [],
   "source": [
    "valDf$workclass[ valDf$workclass == \"?\" ] <- NA\n",
    "valDf$workclass = factor(valDf$workclass)"
   ]
  },
  {
   "cell_type": "code",
   "execution_count": 78,
   "metadata": {},
   "outputs": [],
   "source": [
    "valDf$occupation[ valDf$occupation == \"?\" ] <- NA\n",
    "valDf$occupation = factor(valDf$occupation)"
   ]
  },
  {
   "cell_type": "code",
   "execution_count": 79,
   "metadata": {},
   "outputs": [],
   "source": [
    "valDf$native_country[ valDf$native_country == \"?\" ] <- NA\n",
    "valDf$native_country = factor(valDf$native_country)"
   ]
  },
  {
   "cell_type": "code",
   "execution_count": 80,
   "metadata": {},
   "outputs": [
    {
     "data": {
      "text/html": [
       "<dl class=dl-horizontal>\n",
       "\t<dt>age</dt>\n",
       "\t\t<dd>0</dd>\n",
       "\t<dt>workclass</dt>\n",
       "\t\t<dd>963</dd>\n",
       "\t<dt>fnlwgt</dt>\n",
       "\t\t<dd>0</dd>\n",
       "\t<dt>education</dt>\n",
       "\t\t<dd>0</dd>\n",
       "\t<dt>education_num</dt>\n",
       "\t\t<dd>0</dd>\n",
       "\t<dt>marital_status</dt>\n",
       "\t\t<dd>0</dd>\n",
       "\t<dt>occupation</dt>\n",
       "\t\t<dd>966</dd>\n",
       "\t<dt>relationship</dt>\n",
       "\t\t<dd>0</dd>\n",
       "\t<dt>race</dt>\n",
       "\t\t<dd>0</dd>\n",
       "\t<dt>sex</dt>\n",
       "\t\t<dd>0</dd>\n",
       "\t<dt>capital_gain</dt>\n",
       "\t\t<dd>0</dd>\n",
       "\t<dt>capital_loss</dt>\n",
       "\t\t<dd>0</dd>\n",
       "\t<dt>hours_per_week</dt>\n",
       "\t\t<dd>0</dd>\n",
       "\t<dt>native_country</dt>\n",
       "\t\t<dd>274</dd>\n",
       "\t<dt>salary</dt>\n",
       "\t\t<dd>0</dd>\n",
       "</dl>\n"
      ],
      "text/latex": [
       "\\begin{description*}\n",
       "\\item[age] 0\n",
       "\\item[workclass] 963\n",
       "\\item[fnlwgt] 0\n",
       "\\item[education] 0\n",
       "\\item[education\\textbackslash{}\\_num] 0\n",
       "\\item[marital\\textbackslash{}\\_status] 0\n",
       "\\item[occupation] 966\n",
       "\\item[relationship] 0\n",
       "\\item[race] 0\n",
       "\\item[sex] 0\n",
       "\\item[capital\\textbackslash{}\\_gain] 0\n",
       "\\item[capital\\textbackslash{}\\_loss] 0\n",
       "\\item[hours\\textbackslash{}\\_per\\textbackslash{}\\_week] 0\n",
       "\\item[native\\textbackslash{}\\_country] 274\n",
       "\\item[salary] 0\n",
       "\\end{description*}\n"
      ],
      "text/markdown": [
       "age\n",
       ":   0workclass\n",
       ":   963fnlwgt\n",
       ":   0education\n",
       ":   0education_num\n",
       ":   0marital_status\n",
       ":   0occupation\n",
       ":   966relationship\n",
       ":   0race\n",
       ":   0sex\n",
       ":   0capital_gain\n",
       ":   0capital_loss\n",
       ":   0hours_per_week\n",
       ":   0native_country\n",
       ":   274salary\n",
       ":   0\n",
       "\n"
      ],
      "text/plain": [
       "           age      workclass         fnlwgt      education  education_num \n",
       "             0            963              0              0              0 \n",
       "marital_status     occupation   relationship           race            sex \n",
       "             0            966              0              0              0 \n",
       "  capital_gain   capital_loss hours_per_week native_country         salary \n",
       "             0              0              0            274              0 "
      ]
     },
     "metadata": {},
     "output_type": "display_data"
    }
   ],
   "source": [
    "colSums(is.na(valDf))"
   ]
  },
  {
   "cell_type": "code",
   "execution_count": 81,
   "metadata": {},
   "outputs": [],
   "source": [
    "#Supprimer les données null dans le dataset (OPTIONELLE)"
   ]
  },
  {
   "cell_type": "code",
   "execution_count": 82,
   "metadata": {},
   "outputs": [
    {
     "name": "stdout",
     "output_type": "stream",
     "text": [
      "Taille de dataset avant la suppresion  16281 15 \n"
     ]
    }
   ],
   "source": [
    "cat(\"Taille de dataset avant la suppresion \", dim(valDf), \"\\n\")"
   ]
  },
  {
   "cell_type": "code",
   "execution_count": 83,
   "metadata": {},
   "outputs": [],
   "source": [
    "valDf = na.omit(valDf)"
   ]
  },
  {
   "cell_type": "code",
   "execution_count": 84,
   "metadata": {},
   "outputs": [
    {
     "name": "stdout",
     "output_type": "stream",
     "text": [
      "Taille de dataset apres la suppresion  15060 15 \n"
     ]
    }
   ],
   "source": [
    "cat(\"Taille de dataset apres la suppresion \", dim(valDf), \"\\n\")"
   ]
  },
  {
   "cell_type": "code",
   "execution_count": 85,
   "metadata": {},
   "outputs": [],
   "source": [
    "valDf$native_country[is.na(valDf$native_country)] <- names(which.max(table(valDf$native_country)))\n",
    "valDf$workclass[is.na(valDf$workclass)] <- names(which.max(table(valDf$workclass)))\n",
    "valDf$occupation[is.na(valDf$occupation)] <- names(which.max(table(valDf$occupation)))"
   ]
  },
  {
   "cell_type": "code",
   "execution_count": 86,
   "metadata": {},
   "outputs": [],
   "source": [
    "valDf = subset(valDf, select = -c(relationship, education))"
   ]
  },
  {
   "cell_type": "code",
   "execution_count": 87,
   "metadata": {},
   "outputs": [
    {
     "data": {
      "text/html": [
       "<table>\n",
       "<thead><tr><th></th><th scope=col>age</th><th scope=col>workclass</th><th scope=col>fnlwgt</th><th scope=col>education_num</th><th scope=col>marital_status</th><th scope=col>occupation</th><th scope=col>race</th><th scope=col>sex</th><th scope=col>capital_gain</th><th scope=col>capital_loss</th><th scope=col>hours_per_week</th><th scope=col>native_country</th><th scope=col>salary</th></tr></thead>\n",
       "<tbody>\n",
       "\t<tr><th scope=row>1</th><td>25                                                        </td><td><span style=white-space:pre-wrap>Private         </span>  </td><td>226802                                                    </td><td> 7                                                        </td><td><span style=white-space:pre-wrap>Never-married     </span></td><td>Machine-op-inspct                                         </td><td>Black                                                     </td><td>Male                                                      </td><td><span style=white-space:pre-wrap>   0</span>              </td><td>0                                                         </td><td>40                                                        </td><td>United-States                                             </td><td>&lt;=50K.                                                 </td></tr>\n",
       "\t<tr><th scope=row>2</th><td>38                                                       </td><td><span style=white-space:pre-wrap>Private         </span> </td><td> 89814                                                   </td><td> 9                                                       </td><td>Married-civ-spouse                                       </td><td><span style=white-space:pre-wrap>Farming-fishing  </span></td><td>White                                                    </td><td>Male                                                     </td><td><span style=white-space:pre-wrap>   0</span>             </td><td>0                                                        </td><td>50                                                       </td><td>United-States                                            </td><td>&lt;=50K.                                                </td></tr>\n",
       "\t<tr><th scope=row>3</th><td>28                                                       </td><td><span style=white-space:pre-wrap>Local-gov       </span> </td><td>336951                                                   </td><td>12                                                       </td><td>Married-civ-spouse                                       </td><td><span style=white-space:pre-wrap>Protective-serv  </span></td><td>White                                                    </td><td>Male                                                     </td><td><span style=white-space:pre-wrap>   0</span>             </td><td>0                                                        </td><td>40                                                       </td><td>United-States                                            </td><td>&gt;50K.                                                 </td></tr>\n",
       "\t<tr><th scope=row>4</th><td>44                                                      </td><td><span style=white-space:pre-wrap>Private         </span></td><td>160323                                                  </td><td>10                                                      </td><td>Married-civ-spouse                                      </td><td>Machine-op-inspct                                       </td><td>Black                                                   </td><td>Male                                                    </td><td>7688                                                    </td><td>0                                                       </td><td>40                                                      </td><td>United-States                                           </td><td>&gt;50K.                                                </td></tr>\n",
       "\t<tr><th scope=row>6</th><td>34                                                        </td><td><span style=white-space:pre-wrap>Private         </span>  </td><td>198693                                                    </td><td> 6                                                        </td><td><span style=white-space:pre-wrap>Never-married     </span></td><td><span style=white-space:pre-wrap>Other-service    </span> </td><td>White                                                     </td><td>Male                                                      </td><td><span style=white-space:pre-wrap>   0</span>              </td><td>0                                                         </td><td>30                                                        </td><td>United-States                                             </td><td>&lt;=50K.                                                 </td></tr>\n",
       "\t<tr><th scope=row>8</th><td>63                                                       </td><td>Self-emp-not-inc                                         </td><td>104626                                                   </td><td>15                                                       </td><td>Married-civ-spouse                                       </td><td><span style=white-space:pre-wrap>Prof-specialty   </span></td><td>White                                                    </td><td>Male                                                     </td><td>3103                                                     </td><td>0                                                        </td><td>32                                                       </td><td>United-States                                            </td><td>&gt;50K.                                                 </td></tr>\n",
       "</tbody>\n",
       "</table>\n"
      ],
      "text/latex": [
       "\\begin{tabular}{r|lllllllllllll}\n",
       "  & age & workclass & fnlwgt & education\\_num & marital\\_status & occupation & race & sex & capital\\_gain & capital\\_loss & hours\\_per\\_week & native\\_country & salary\\\\\n",
       "\\hline\n",
       "\t1 & 25                 & Private            & 226802             &  7                 & Never-married      & Machine-op-inspct  & Black              & Male               &    0               & 0                  & 40                 & United-States      & <=50K.            \\\\\n",
       "\t2 & 38                 & Private            &  89814             &  9                 & Married-civ-spouse & Farming-fishing    & White              & Male               &    0               & 0                  & 50                 & United-States      & <=50K.            \\\\\n",
       "\t3 & 28                 & Local-gov          & 336951             & 12                 & Married-civ-spouse & Protective-serv    & White              & Male               &    0               & 0                  & 40                 & United-States      & >50K.             \\\\\n",
       "\t4 & 44                 & Private            & 160323             & 10                 & Married-civ-spouse & Machine-op-inspct  & Black              & Male               & 7688               & 0                  & 40                 & United-States      & >50K.             \\\\\n",
       "\t6 & 34                 & Private            & 198693             &  6                 & Never-married      & Other-service      & White              & Male               &    0               & 0                  & 30                 & United-States      & <=50K.            \\\\\n",
       "\t8 & 63                 & Self-emp-not-inc   & 104626             & 15                 & Married-civ-spouse & Prof-specialty     & White              & Male               & 3103               & 0                  & 32                 & United-States      & >50K.             \\\\\n",
       "\\end{tabular}\n"
      ],
      "text/markdown": [
       "\n",
       "| <!--/--> | age | workclass | fnlwgt | education_num | marital_status | occupation | race | sex | capital_gain | capital_loss | hours_per_week | native_country | salary |\n",
       "|---|---|---|---|---|---|---|---|---|---|---|---|---|---|\n",
       "| 1 | 25                 | Private            | 226802             |  7                 | Never-married      | Machine-op-inspct  | Black              | Male               |    0               | 0                  | 40                 | United-States      | <=50K.             |\n",
       "| 2 | 38                 | Private            |  89814             |  9                 | Married-civ-spouse | Farming-fishing    | White              | Male               |    0               | 0                  | 50                 | United-States      | <=50K.             |\n",
       "| 3 | 28                 | Local-gov          | 336951             | 12                 | Married-civ-spouse | Protective-serv    | White              | Male               |    0               | 0                  | 40                 | United-States      | >50K.              |\n",
       "| 4 | 44                 | Private            | 160323             | 10                 | Married-civ-spouse | Machine-op-inspct  | Black              | Male               | 7688               | 0                  | 40                 | United-States      | >50K.              |\n",
       "| 6 | 34                 | Private            | 198693             |  6                 | Never-married      | Other-service      | White              | Male               |    0               | 0                  | 30                 | United-States      | <=50K.             |\n",
       "| 8 | 63                 | Self-emp-not-inc   | 104626             | 15                 | Married-civ-spouse | Prof-specialty     | White              | Male               | 3103               | 0                  | 32                 | United-States      | >50K.              |\n",
       "\n"
      ],
      "text/plain": [
       "  age workclass        fnlwgt education_num marital_status    \n",
       "1 25  Private          226802  7            Never-married     \n",
       "2 38  Private           89814  9            Married-civ-spouse\n",
       "3 28  Local-gov        336951 12            Married-civ-spouse\n",
       "4 44  Private          160323 10            Married-civ-spouse\n",
       "6 34  Private          198693  6            Never-married     \n",
       "8 63  Self-emp-not-inc 104626 15            Married-civ-spouse\n",
       "  occupation        race  sex  capital_gain capital_loss hours_per_week\n",
       "1 Machine-op-inspct Black Male    0         0            40            \n",
       "2 Farming-fishing   White Male    0         0            50            \n",
       "3 Protective-serv   White Male    0         0            40            \n",
       "4 Machine-op-inspct Black Male 7688         0            40            \n",
       "6 Other-service     White Male    0         0            30            \n",
       "8 Prof-specialty    White Male 3103         0            32            \n",
       "  native_country salary\n",
       "1 United-States  <=50K.\n",
       "2 United-States  <=50K.\n",
       "3 United-States  >50K. \n",
       "4 United-States  >50K. \n",
       "6 United-States  <=50K.\n",
       "8 United-States  >50K. "
      ]
     },
     "metadata": {},
     "output_type": "display_data"
    }
   ],
   "source": [
    "head(valDf)"
   ]
  },
  {
   "cell_type": "code",
   "execution_count": 88,
   "metadata": {},
   "outputs": [],
   "source": [
    "testDf <- valDf"
   ]
  },
  {
   "cell_type": "code",
   "execution_count": 89,
   "metadata": {},
   "outputs": [],
   "source": [
    "#testDf$age <- discretize(testDf$age, breaks = 3, method = \"interval\")\n",
    "#testDf$capital_gain <- discretize(testDf$capital_gain, breaks = 20,  method = \"interval\")"
   ]
  },
  {
   "cell_type": "code",
   "execution_count": 90,
   "metadata": {},
   "outputs": [
    {
     "data": {
      "text/html": [
       "<table>\n",
       "<thead><tr><th></th><th scope=col>age</th><th scope=col>workclass</th><th scope=col>fnlwgt</th><th scope=col>education_num</th><th scope=col>marital_status</th><th scope=col>occupation</th><th scope=col>race</th><th scope=col>sex</th><th scope=col>capital_gain</th><th scope=col>capital_loss</th><th scope=col>hours_per_week</th><th scope=col>native_country</th><th scope=col>salary</th></tr></thead>\n",
       "<tbody>\n",
       "\t<tr><th scope=row>1</th><td>25                                                        </td><td><span style=white-space:pre-wrap>Private         </span>  </td><td>226802                                                    </td><td> 7                                                        </td><td><span style=white-space:pre-wrap>Never-married     </span></td><td>Machine-op-inspct                                         </td><td>Black                                                     </td><td>Male                                                      </td><td><span style=white-space:pre-wrap>   0</span>              </td><td>0                                                         </td><td>40                                                        </td><td>United-States                                             </td><td>&lt;=50K.                                                 </td></tr>\n",
       "\t<tr><th scope=row>2</th><td>38                                                       </td><td><span style=white-space:pre-wrap>Private         </span> </td><td> 89814                                                   </td><td> 9                                                       </td><td>Married-civ-spouse                                       </td><td><span style=white-space:pre-wrap>Farming-fishing  </span></td><td>White                                                    </td><td>Male                                                     </td><td><span style=white-space:pre-wrap>   0</span>             </td><td>0                                                        </td><td>50                                                       </td><td>United-States                                            </td><td>&lt;=50K.                                                </td></tr>\n",
       "\t<tr><th scope=row>3</th><td>28                                                       </td><td><span style=white-space:pre-wrap>Local-gov       </span> </td><td>336951                                                   </td><td>12                                                       </td><td>Married-civ-spouse                                       </td><td><span style=white-space:pre-wrap>Protective-serv  </span></td><td>White                                                    </td><td>Male                                                     </td><td><span style=white-space:pre-wrap>   0</span>             </td><td>0                                                        </td><td>40                                                       </td><td>United-States                                            </td><td>&gt;50K.                                                 </td></tr>\n",
       "\t<tr><th scope=row>4</th><td>44                                                      </td><td><span style=white-space:pre-wrap>Private         </span></td><td>160323                                                  </td><td>10                                                      </td><td>Married-civ-spouse                                      </td><td>Machine-op-inspct                                       </td><td>Black                                                   </td><td>Male                                                    </td><td>7688                                                    </td><td>0                                                       </td><td>40                                                      </td><td>United-States                                           </td><td>&gt;50K.                                                </td></tr>\n",
       "\t<tr><th scope=row>6</th><td>34                                                        </td><td><span style=white-space:pre-wrap>Private         </span>  </td><td>198693                                                    </td><td> 6                                                        </td><td><span style=white-space:pre-wrap>Never-married     </span></td><td><span style=white-space:pre-wrap>Other-service    </span> </td><td>White                                                     </td><td>Male                                                      </td><td><span style=white-space:pre-wrap>   0</span>              </td><td>0                                                         </td><td>30                                                        </td><td>United-States                                             </td><td>&lt;=50K.                                                 </td></tr>\n",
       "\t<tr><th scope=row>8</th><td>63                                                       </td><td>Self-emp-not-inc                                         </td><td>104626                                                   </td><td>15                                                       </td><td>Married-civ-spouse                                       </td><td><span style=white-space:pre-wrap>Prof-specialty   </span></td><td>White                                                    </td><td>Male                                                     </td><td>3103                                                     </td><td>0                                                        </td><td>32                                                       </td><td>United-States                                            </td><td>&gt;50K.                                                 </td></tr>\n",
       "</tbody>\n",
       "</table>\n"
      ],
      "text/latex": [
       "\\begin{tabular}{r|lllllllllllll}\n",
       "  & age & workclass & fnlwgt & education\\_num & marital\\_status & occupation & race & sex & capital\\_gain & capital\\_loss & hours\\_per\\_week & native\\_country & salary\\\\\n",
       "\\hline\n",
       "\t1 & 25                 & Private            & 226802             &  7                 & Never-married      & Machine-op-inspct  & Black              & Male               &    0               & 0                  & 40                 & United-States      & <=50K.            \\\\\n",
       "\t2 & 38                 & Private            &  89814             &  9                 & Married-civ-spouse & Farming-fishing    & White              & Male               &    0               & 0                  & 50                 & United-States      & <=50K.            \\\\\n",
       "\t3 & 28                 & Local-gov          & 336951             & 12                 & Married-civ-spouse & Protective-serv    & White              & Male               &    0               & 0                  & 40                 & United-States      & >50K.             \\\\\n",
       "\t4 & 44                 & Private            & 160323             & 10                 & Married-civ-spouse & Machine-op-inspct  & Black              & Male               & 7688               & 0                  & 40                 & United-States      & >50K.             \\\\\n",
       "\t6 & 34                 & Private            & 198693             &  6                 & Never-married      & Other-service      & White              & Male               &    0               & 0                  & 30                 & United-States      & <=50K.            \\\\\n",
       "\t8 & 63                 & Self-emp-not-inc   & 104626             & 15                 & Married-civ-spouse & Prof-specialty     & White              & Male               & 3103               & 0                  & 32                 & United-States      & >50K.             \\\\\n",
       "\\end{tabular}\n"
      ],
      "text/markdown": [
       "\n",
       "| <!--/--> | age | workclass | fnlwgt | education_num | marital_status | occupation | race | sex | capital_gain | capital_loss | hours_per_week | native_country | salary |\n",
       "|---|---|---|---|---|---|---|---|---|---|---|---|---|---|\n",
       "| 1 | 25                 | Private            | 226802             |  7                 | Never-married      | Machine-op-inspct  | Black              | Male               |    0               | 0                  | 40                 | United-States      | <=50K.             |\n",
       "| 2 | 38                 | Private            |  89814             |  9                 | Married-civ-spouse | Farming-fishing    | White              | Male               |    0               | 0                  | 50                 | United-States      | <=50K.             |\n",
       "| 3 | 28                 | Local-gov          | 336951             | 12                 | Married-civ-spouse | Protective-serv    | White              | Male               |    0               | 0                  | 40                 | United-States      | >50K.              |\n",
       "| 4 | 44                 | Private            | 160323             | 10                 | Married-civ-spouse | Machine-op-inspct  | Black              | Male               | 7688               | 0                  | 40                 | United-States      | >50K.              |\n",
       "| 6 | 34                 | Private            | 198693             |  6                 | Never-married      | Other-service      | White              | Male               |    0               | 0                  | 30                 | United-States      | <=50K.             |\n",
       "| 8 | 63                 | Self-emp-not-inc   | 104626             | 15                 | Married-civ-spouse | Prof-specialty     | White              | Male               | 3103               | 0                  | 32                 | United-States      | >50K.              |\n",
       "\n"
      ],
      "text/plain": [
       "  age workclass        fnlwgt education_num marital_status    \n",
       "1 25  Private          226802  7            Never-married     \n",
       "2 38  Private           89814  9            Married-civ-spouse\n",
       "3 28  Local-gov        336951 12            Married-civ-spouse\n",
       "4 44  Private          160323 10            Married-civ-spouse\n",
       "6 34  Private          198693  6            Never-married     \n",
       "8 63  Self-emp-not-inc 104626 15            Married-civ-spouse\n",
       "  occupation        race  sex  capital_gain capital_loss hours_per_week\n",
       "1 Machine-op-inspct Black Male    0         0            40            \n",
       "2 Farming-fishing   White Male    0         0            50            \n",
       "3 Protective-serv   White Male    0         0            40            \n",
       "4 Machine-op-inspct Black Male 7688         0            40            \n",
       "6 Other-service     White Male    0         0            30            \n",
       "8 Prof-specialty    White Male 3103         0            32            \n",
       "  native_country salary\n",
       "1 United-States  <=50K.\n",
       "2 United-States  <=50K.\n",
       "3 United-States  >50K. \n",
       "4 United-States  >50K. \n",
       "6 United-States  <=50K.\n",
       "8 United-States  >50K. "
      ]
     },
     "metadata": {},
     "output_type": "display_data"
    }
   ],
   "source": [
    "head(testDf)"
   ]
  },
  {
   "cell_type": "code",
   "execution_count": 91,
   "metadata": {},
   "outputs": [],
   "source": [
    "X_validation <- testDf[, -13]\n",
    "y_validation <- testDf[, \"salary\"]"
   ]
  },
  {
   "cell_type": "code",
   "execution_count": 92,
   "metadata": {},
   "outputs": [
    {
     "data": {
      "text/html": [
       "<ol class=list-inline>\n",
       "\t<li>15060</li>\n",
       "\t<li>12</li>\n",
       "</ol>\n"
      ],
      "text/latex": [
       "\\begin{enumerate*}\n",
       "\\item 15060\n",
       "\\item 12\n",
       "\\end{enumerate*}\n"
      ],
      "text/markdown": [
       "1. 15060\n",
       "2. 12\n",
       "\n",
       "\n"
      ],
      "text/plain": [
       "[1] 15060    12"
      ]
     },
     "metadata": {},
     "output_type": "display_data"
    }
   ],
   "source": [
    "dim(X_validation)"
   ]
  },
  {
   "cell_type": "markdown",
   "metadata": {},
   "source": [
    "## 6.2 Arbre de décision"
   ]
  },
  {
   "cell_type": "code",
   "execution_count": 93,
   "metadata": {},
   "outputs": [
    {
     "name": "stdout",
     "output_type": "stream",
     "text": [
      "Accuracy:  83,93094 \n",
      "Sensitivity:  0,8548182 \n",
      "Specificity:  0,7599513 \n",
      "Recall:  0,9479754 \n",
      "True Negative:  0,5056757 \n",
      "False Positive:  0,4943243 \n",
      "Arithmetic Mean:  0,7268255 \n",
      "Geometric Mean:  0,6923641 \n"
     ]
    }
   ],
   "source": [
    "validate_test_set <- predictData(treeModel, X_validation, y_validation)\n",
    "mc <- validate_test_set\n",
    "infoDTVal <- statMC(mc)"
   ]
  },
  {
   "cell_type": "markdown",
   "metadata": {},
   "source": [
    "## 6.3 Random Forest"
   ]
  },
  {
   "cell_type": "code",
   "execution_count": 94,
   "metadata": {},
   "outputs": [],
   "source": [
    "for (i in colnames(X_train)) {\n",
    "    levels(X_validation[[i]]) <- levels(X_train[[i]])\n",
    "}"
   ]
  },
  {
   "cell_type": "code",
   "execution_count": 95,
   "metadata": {},
   "outputs": [
    {
     "name": "stdout",
     "output_type": "stream",
     "text": [
      "'data.frame':\t15060 obs. of  12 variables:\n",
      " $ age           : int  25 38 28 44 34 63 24 55 65 36 ...\n",
      " $ workclass     : Factor w/ 8 levels \"Federal-gov\",..: 4 4 2 4 4 6 4 4 4 1 ...\n",
      " $ fnlwgt        : int  226802 89814 336951 160323 198693 104626 369667 104996 184454 212465 ...\n",
      " $ education_num : int  7 9 12 10 6 15 10 4 9 13 ...\n",
      " $ marital_status: Factor w/ 7 levels \"Divorced\",\"Married-AF-spouse\",..: 5 3 3 3 5 3 5 3 3 3 ...\n",
      " $ occupation    : Factor w/ 14 levels \"Adm-clerical\",..: 7 5 11 7 8 10 8 3 7 1 ...\n",
      " $ race          : Factor w/ 5 levels \"Amer-Indian-Eskimo\",..: 3 5 5 3 5 5 5 5 5 5 ...\n",
      " $ sex           : Factor w/ 2 levels \"Female\",\"Male\": 2 2 2 2 2 2 1 2 2 2 ...\n",
      " $ capital_gain  : int  0 0 0 7688 0 3103 0 0 6418 0 ...\n",
      " $ capital_loss  : int  0 0 0 0 0 0 0 0 0 0 ...\n",
      " $ hours_per_week: int  40 50 40 40 30 32 40 10 40 40 ...\n",
      " $ native_country: Factor w/ 41 levels \"Cambodia\",\"Canada\",..: 38 38 38 38 38 38 38 38 38 38 ...\n"
     ]
    }
   ],
   "source": [
    "str(X_validation)"
   ]
  },
  {
   "cell_type": "code",
   "execution_count": 96,
   "metadata": {},
   "outputs": [
    {
     "name": "stdout",
     "output_type": "stream",
     "text": [
      "'data.frame':\t9769 obs. of  12 variables:\n",
      " $ age           : int  50 53 31 30 34 43 54 30 22 48 ...\n",
      " $ workclass     : Factor w/ 8 levels \"Federal-gov\",..: 6 4 4 7 4 6 4 1 7 4 ...\n",
      " $ fnlwgt        : int  83311 234721 45781 141297 245487 292175 180211 59951 311512 242406 ...\n",
      " $ education_num : int  13 7 14 13 4 14 10 10 10 7 ...\n",
      " $ marital_status: Factor w/ 7 levels \"Divorced\",\"Married-AF-spouse\",..: 3 3 5 3 3 1 3 3 3 5 ...\n",
      " $ occupation    : Factor w/ 14 levels \"Adm-clerical\",..: 4 6 10 10 14 4 10 1 8 7 ...\n",
      " $ race          : Factor w/ 5 levels \"Amer-Indian-Eskimo\",..: 5 3 5 2 1 5 2 5 3 5 ...\n",
      " $ sex           : Factor w/ 2 levels \"Female\",\"Male\": 2 2 1 2 2 1 2 2 2 2 ...\n",
      " $ capital_gain  : int  0 0 14084 0 0 0 0 0 0 0 ...\n",
      " $ capital_loss  : int  0 0 0 0 0 0 0 0 0 0 ...\n",
      " $ hours_per_week: int  13 40 50 40 45 45 60 40 15 40 ...\n",
      " $ native_country: Factor w/ 41 levels \"Cambodia\",\"Canada\",..: 39 39 39 19 26 39 35 39 39 33 ...\n"
     ]
    }
   ],
   "source": [
    "str(X_test)"
   ]
  },
  {
   "cell_type": "code",
   "execution_count": 97,
   "metadata": {},
   "outputs": [
    {
     "name": "stdout",
     "output_type": "stream",
     "text": [
      "Accuracy:  84,21647 \n",
      "Sensitivity:  0,9133155 \n",
      "Specificity:  0,6577629 \n",
      "Recall:  0,8736796 \n",
      "True Negative:  0,7454054 \n",
      "False Positive:  0,2545946 \n",
      "Arithmetic Mean:  0,8095425 \n",
      "Geometric Mean:  0,8069978 \n"
     ]
    }
   ],
   "source": [
    "validate_test_set <- predictData(modelRF, X_validation, y_validation)\n",
    "mc <- validate_test_set\n",
    "infoRFVal <- statMC(mc)"
   ]
  },
  {
   "cell_type": "markdown",
   "metadata": {},
   "source": [
    "## 6.4 KNN"
   ]
  },
  {
   "cell_type": "code",
   "execution_count": 98,
   "metadata": {},
   "outputs": [],
   "source": [
    "X_validation_test <- data.frame(predict(encoder, newdata = X_validation)) "
   ]
  },
  {
   "cell_type": "code",
   "execution_count": 99,
   "metadata": {},
   "outputs": [
    {
     "name": "stdout",
     "output_type": "stream",
     "text": [
      "Accuracy:  75,82337 \n",
      "Sensitivity:  1 \n",
      "Specificity:  0,01594595 \n",
      "Recall:  0,7572828 \n",
      "True Negative:  1 \n",
      "False Positive:  0 \n",
      "Arithmetic Mean:  0,8786414 \n",
      "Geometric Mean:  0,87022 \n"
     ]
    }
   ],
   "source": [
    "pr <- knn(X_train_test,X_validation_test,cl=y_train,k=3)\n",
    " \n",
    "##create confusion matrix\n",
    "tab <- table(pr,y_validation)\n",
    "\n",
    "##this function divides the correct predictions by total number of predictions that tell us how accurate teh model is.\n",
    "infoKNN <- statMC(tab)"
   ]
  },
  {
   "cell_type": "markdown",
   "metadata": {},
   "source": [
    "## Cross validation"
   ]
  },
  {
   "cell_type": "code",
   "execution_count": null,
   "metadata": {},
   "outputs": [],
   "source": [
    "encoder <- dummyVars(\" ~ .\", data=df[, names(df) != \"salary\"])\n",
    "dfCV <- data.frame(predict(encoder, newdata = df))\n",
    "dfCV$salary <- df$salary"
   ]
  },
  {
   "cell_type": "code",
   "execution_count": null,
   "metadata": {},
   "outputs": [],
   "source": [
    "head(dfCV)"
   ]
  },
  {
   "cell_type": "code",
   "execution_count": null,
   "metadata": {},
   "outputs": [],
   "source": [
    "train_control <- trainControl(method=\"cv\", number=10)\n",
    "# Fit Decision Tree\n",
    "model <- train(salary~., data=dfCV, trControl=train_control, method=\"rpart\")\n",
    "# Summarise Results\n",
    "print(model)"
   ]
  },
  {
   "cell_type": "code",
   "execution_count": null,
   "metadata": {},
   "outputs": [],
   "source": [
    "n <- nrow(dfCV) #Nb observations\n",
    "K <- 10 #10-validation croisée\n",
    "taille <- n%/%K #Taille chaque bloc\n",
    "set.seed(5) #Obtenir la meme séquence tout le temps\n",
    "alea <- runif(n) \n",
    "rang <- rank(alea)\n",
    "bloc <- (rang-1)%/%taille + 1#Numeroter de bloc\n",
    "bloc <- as.factor(bloc)\n",
    "print(summary(bloc))"
   ]
  },
  {
   "cell_type": "code",
   "execution_count": null,
   "metadata": {},
   "outputs": [],
   "source": [
    "class(bloc)"
   ]
  },
  {
   "cell_type": "code",
   "execution_count": null,
   "metadata": {},
   "outputs": [],
   "source": [
    "for (k in 1:K) {\n",
    "    treeModel <- rpart(salary~., data=dfCV[bloc != k], method=\"class\")\n",
    "    treePredict <- predict(treeModel, dfCV[bloc == k], type = \"class\")\n",
    "    matrixConfus <- table(dfCV$salary[bloc==k], treePredict)\n",
    "    mc\n",
    "    #rpart.plot(treeModel)\n",
    "}"
   ]
  },
  {
   "cell_type": "markdown",
   "metadata": {},
   "source": [
    "# AOC"
   ]
  },
  {
   "cell_type": "code",
   "execution_count": null,
   "metadata": {},
   "outputs": [],
   "source": [
    "dd1 <- data.frame(FP = infoDT[1], TP = infoDT[2])\n",
    "dd2 <- data.frame(FP = infoKNN[1], TP = infoKNN[2])"
   ]
  },
  {
   "cell_type": "code",
   "execution_count": null,
   "metadata": {},
   "outputs": [],
   "source": [
    "g <- ggplot() + \n",
    "  geom_line(data = dd1, aes(x = FP, y = TP, color = 'Decision Tree')) + \n",
    "  geom_line(data = dd2, aes(x = FP, y = TP, color = 'K-NN')) +\n",
    "  geom_segment(aes(x = 0, xend = 1, y = 0, yend = 1)) +\n",
    "  ggtitle('ROC Curve') + \n",
    "  labs(x = 'False Positive Rate', y = 'True Positive Rate') \n",
    "\n",
    "\n",
    "g +  scale_colour_manual(name = 'Classifier', values = c('Decision Tree'='#E69F00', \n",
    "                                               'K-NN'='#56B4E9'))"
   ]
  },
  {
   "cell_type": "code",
   "execution_count": null,
   "metadata": {},
   "outputs": [],
   "source": []
  }
 ],
 "metadata": {
  "kernelspec": {
   "display_name": "R",
   "language": "R",
   "name": "ir"
  },
  "language_info": {
   "codemirror_mode": "r",
   "file_extension": ".r",
   "mimetype": "text/x-r-source",
   "name": "R",
   "pygments_lexer": "r",
   "version": "3.6.1"
  }
 },
 "nbformat": 4,
 "nbformat_minor": 4
}
