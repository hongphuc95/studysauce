{
 "cells": [
  {
   "cell_type": "code",
   "execution_count": 1,
   "metadata": {},
   "outputs": [],
   "source": [
    "setwd(\"/home/phucvu/R\")"
   ]
  },
  {
   "cell_type": "code",
   "execution_count": 2,
   "metadata": {},
   "outputs": [],
   "source": [
    "file <- read.csv(\"adult.data\", \n",
    "                 header = FALSE, \n",
    "                 stringsAsFactors = FALSE, \n",
    "                 sep = \",\", \n",
    "                 strip.white = TRUE,\n",
    "                 na.strings = c(\"?\",\"NA\"))\n",
    "\n",
    "names(file) <- c(\"age\", \"workclass\", \"fnlwgt\", \"education\", \"education-num\", \"marital-status\", \n",
    "                 \"occupation\", \"relationship\", \"race\", \"sex\", \"capital-gain\", \"capital-loss\", \n",
    "                 \"hours-per-week\", \"native-country\", \"salary\")"
   ]
  },
  {
   "cell_type": "code",
   "execution_count": 3,
   "metadata": {},
   "outputs": [
    {
     "data": {
      "text/html": [
       "<table>\n",
       "<thead><tr><th scope=col>age</th><th scope=col>workclass</th><th scope=col>fnlwgt</th><th scope=col>education</th><th scope=col>education.num</th><th scope=col>marital.status</th><th scope=col>occupation</th><th scope=col>relationship</th><th scope=col>race</th><th scope=col>sex</th><th scope=col>capital.gain</th><th scope=col>capital.loss</th><th scope=col>hours.per.week</th><th scope=col>native.country</th><th scope=col>salary</th></tr></thead>\n",
       "<tbody>\n",
       "\t<tr><td>39                                                        </td><td><span style=white-space:pre-wrap>State-gov       </span>  </td><td>77516                                                     </td><td>Bachelors                                                 </td><td>13                                                        </td><td><span style=white-space:pre-wrap>Never-married     </span></td><td><span style=white-space:pre-wrap>Adm-clerical     </span> </td><td>Not-in-family                                             </td><td>White                                                     </td><td><span style=white-space:pre-wrap>Male  </span>            </td><td>2174                                                      </td><td>0                                                         </td><td>40                                                        </td><td>United-States                                             </td><td>&lt;=50K                                                  </td></tr>\n",
       "\t<tr><td>50                                                       </td><td>Self-emp-not-inc                                         </td><td>83311                                                    </td><td>Bachelors                                                </td><td>13                                                       </td><td>Married-civ-spouse                                       </td><td><span style=white-space:pre-wrap>Exec-managerial  </span></td><td><span style=white-space:pre-wrap>Husband      </span>    </td><td>White                                                    </td><td><span style=white-space:pre-wrap>Male  </span>           </td><td><span style=white-space:pre-wrap>0   </span>             </td><td>0                                                        </td><td>13                                                       </td><td>United-States                                            </td><td>&lt;=50K                                                 </td></tr>\n",
       "\t<tr><td>38                                                        </td><td><span style=white-space:pre-wrap>Private         </span>  </td><td>215646                                                    </td><td><span style=white-space:pre-wrap>HS-grad  </span>         </td><td>9                                                         </td><td><span style=white-space:pre-wrap>Divorced          </span></td><td>Handlers-cleaners                                         </td><td>Not-in-family                                             </td><td>White                                                     </td><td><span style=white-space:pre-wrap>Male  </span>            </td><td><span style=white-space:pre-wrap>0   </span>              </td><td>0                                                         </td><td>40                                                        </td><td>United-States                                             </td><td>&lt;=50K                                                  </td></tr>\n",
       "\t<tr><td>53                                                      </td><td><span style=white-space:pre-wrap>Private         </span></td><td>234721                                                  </td><td><span style=white-space:pre-wrap>11th     </span>       </td><td>7                                                       </td><td>Married-civ-spouse                                      </td><td>Handlers-cleaners                                       </td><td><span style=white-space:pre-wrap>Husband      </span>   </td><td>Black                                                   </td><td><span style=white-space:pre-wrap>Male  </span>          </td><td><span style=white-space:pre-wrap>0   </span>            </td><td>0                                                       </td><td>40                                                      </td><td>United-States                                           </td><td>&lt;=50K                                                </td></tr>\n",
       "\t<tr><td>28                                                       </td><td><span style=white-space:pre-wrap>Private         </span> </td><td>338409                                                   </td><td>Bachelors                                                </td><td>13                                                       </td><td>Married-civ-spouse                                       </td><td><span style=white-space:pre-wrap>Prof-specialty   </span></td><td><span style=white-space:pre-wrap>Wife         </span>    </td><td>Black                                                    </td><td>Female                                                   </td><td><span style=white-space:pre-wrap>0   </span>             </td><td>0                                                        </td><td>40                                                       </td><td><span style=white-space:pre-wrap>Cuba         </span>    </td><td>&lt;=50K                                                 </td></tr>\n",
       "\t<tr><td>37                                                       </td><td><span style=white-space:pre-wrap>Private         </span> </td><td>284582                                                   </td><td><span style=white-space:pre-wrap>Masters  </span>        </td><td>14                                                       </td><td>Married-civ-spouse                                       </td><td><span style=white-space:pre-wrap>Exec-managerial  </span></td><td><span style=white-space:pre-wrap>Wife         </span>    </td><td>White                                                    </td><td>Female                                                   </td><td><span style=white-space:pre-wrap>0   </span>             </td><td>0                                                        </td><td>40                                                       </td><td>United-States                                            </td><td>&lt;=50K                                                 </td></tr>\n",
       "</tbody>\n",
       "</table>\n"
      ],
      "text/latex": [
       "\\begin{tabular}{r|lllllllllllllll}\n",
       " age & workclass & fnlwgt & education & education.num & marital.status & occupation & relationship & race & sex & capital.gain & capital.loss & hours.per.week & native.country & salary\\\\\n",
       "\\hline\n",
       "\t 39                 & State-gov          & 77516              & Bachelors          & 13                 & Never-married      & Adm-clerical       & Not-in-family      & White              & Male               & 2174               & 0                  & 40                 & United-States      & <=50K             \\\\\n",
       "\t 50                 & Self-emp-not-inc   & 83311              & Bachelors          & 13                 & Married-civ-spouse & Exec-managerial    & Husband            & White              & Male               & 0                  & 0                  & 13                 & United-States      & <=50K             \\\\\n",
       "\t 38                 & Private            & 215646             & HS-grad            & 9                  & Divorced           & Handlers-cleaners  & Not-in-family      & White              & Male               & 0                  & 0                  & 40                 & United-States      & <=50K             \\\\\n",
       "\t 53                 & Private            & 234721             & 11th               & 7                  & Married-civ-spouse & Handlers-cleaners  & Husband            & Black              & Male               & 0                  & 0                  & 40                 & United-States      & <=50K             \\\\\n",
       "\t 28                 & Private            & 338409             & Bachelors          & 13                 & Married-civ-spouse & Prof-specialty     & Wife               & Black              & Female             & 0                  & 0                  & 40                 & Cuba               & <=50K             \\\\\n",
       "\t 37                 & Private            & 284582             & Masters            & 14                 & Married-civ-spouse & Exec-managerial    & Wife               & White              & Female             & 0                  & 0                  & 40                 & United-States      & <=50K             \\\\\n",
       "\\end{tabular}\n"
      ],
      "text/markdown": [
       "\n",
       "| age | workclass | fnlwgt | education | education.num | marital.status | occupation | relationship | race | sex | capital.gain | capital.loss | hours.per.week | native.country | salary |\n",
       "|---|---|---|---|---|---|---|---|---|---|---|---|---|---|---|\n",
       "| 39                 | State-gov          | 77516              | Bachelors          | 13                 | Never-married      | Adm-clerical       | Not-in-family      | White              | Male               | 2174               | 0                  | 40                 | United-States      | <=50K              |\n",
       "| 50                 | Self-emp-not-inc   | 83311              | Bachelors          | 13                 | Married-civ-spouse | Exec-managerial    | Husband            | White              | Male               | 0                  | 0                  | 13                 | United-States      | <=50K              |\n",
       "| 38                 | Private            | 215646             | HS-grad            | 9                  | Divorced           | Handlers-cleaners  | Not-in-family      | White              | Male               | 0                  | 0                  | 40                 | United-States      | <=50K              |\n",
       "| 53                 | Private            | 234721             | 11th               | 7                  | Married-civ-spouse | Handlers-cleaners  | Husband            | Black              | Male               | 0                  | 0                  | 40                 | United-States      | <=50K              |\n",
       "| 28                 | Private            | 338409             | Bachelors          | 13                 | Married-civ-spouse | Prof-specialty     | Wife               | Black              | Female             | 0                  | 0                  | 40                 | Cuba               | <=50K              |\n",
       "| 37                 | Private            | 284582             | Masters            | 14                 | Married-civ-spouse | Exec-managerial    | Wife               | White              | Female             | 0                  | 0                  | 40                 | United-States      | <=50K              |\n",
       "\n"
      ],
      "text/plain": [
       "  age workclass        fnlwgt education education.num marital.status    \n",
       "1 39  State-gov        77516  Bachelors 13            Never-married     \n",
       "2 50  Self-emp-not-inc 83311  Bachelors 13            Married-civ-spouse\n",
       "3 38  Private          215646 HS-grad   9             Divorced          \n",
       "4 53  Private          234721 11th      7             Married-civ-spouse\n",
       "5 28  Private          338409 Bachelors 13            Married-civ-spouse\n",
       "6 37  Private          284582 Masters   14            Married-civ-spouse\n",
       "  occupation        relationship  race  sex    capital.gain capital.loss\n",
       "1 Adm-clerical      Not-in-family White Male   2174         0           \n",
       "2 Exec-managerial   Husband       White Male   0            0           \n",
       "3 Handlers-cleaners Not-in-family White Male   0            0           \n",
       "4 Handlers-cleaners Husband       Black Male   0            0           \n",
       "5 Prof-specialty    Wife          Black Female 0            0           \n",
       "6 Exec-managerial   Wife          White Female 0            0           \n",
       "  hours.per.week native.country salary\n",
       "1 40             United-States  <=50K \n",
       "2 13             United-States  <=50K \n",
       "3 40             United-States  <=50K \n",
       "4 40             United-States  <=50K \n",
       "5 40             Cuba           <=50K \n",
       "6 40             United-States  <=50K "
      ]
     },
     "metadata": {},
     "output_type": "display_data"
    }
   ],
   "source": [
    "df <- data.frame(lapply(file, trimws))\n",
    "head(df)"
   ]
  },
  {
   "cell_type": "code",
   "execution_count": 4,
   "metadata": {},
   "outputs": [
    {
     "name": "stdout",
     "output_type": "stream",
     "text": [
      "Number of missing data in training set: 4262 \n"
     ]
    }
   ],
   "source": [
    "cat(\"Number of missing data in training set:\", sum(is.na(df)), \"\\n\")"
   ]
  },
  {
   "cell_type": "code",
   "execution_count": 5,
   "metadata": {},
   "outputs": [
    {
     "name": "stderr",
     "output_type": "stream",
     "text": [
      "Registered S3 methods overwritten by 'ggplot2':\n",
      "  method         from \n",
      "  [.quosures     rlang\n",
      "  c.quosures     rlang\n",
      "  print.quosures rlang\n"
     ]
    },
    {
     "data": {
      "image/png": "[encoded data removed]",
      "text/plain": [
       "Plot with title “Salaire Classification”"
      ]
     },
     "metadata": {},
     "output_type": "display_data"
    }
   ],
   "source": [
    "#Statistique de distribution de salaire\n",
    "library(ggplot2)\n",
    "barplot(table(df$salary),main=\"Salaire Classification\",col=\"blue\",ylab=\"Nb personnes\")"
   ]
  },
  {
   "cell_type": "code",
   "execution_count": 6,
   "metadata": {},
   "outputs": [
    {
     "data": {
      "text/plain": [
       "      age                   workclass         fnlwgt             education    \n",
       " 36     :  898   Private         :22696   123011 :   13   HS-grad     :10501  \n",
       " 31     :  888   Self-emp-not-inc: 2541   164190 :   13   Some-college: 7291  \n",
       " 34     :  886   Local-gov       : 2093   203488 :   13   Bachelors   : 5355  \n",
       " 23     :  877   State-gov       : 1298   113364 :   12   Masters     : 1723  \n",
       " 35     :  876   Self-emp-inc    : 1116   121124 :   12   Assoc-voc   : 1382  \n",
       " 33     :  875   (Other)         :  981   126675 :   12   11th        : 1175  \n",
       " (Other):27261   NA's            : 1836   (Other):32486   (Other)     : 5134  \n",
       " education.num                 marital.status            occupation   \n",
       " 9      :10501   Divorced             : 4443   Prof-specialty : 4140  \n",
       " 10     : 7291   Married-AF-spouse    :   23   Craft-repair   : 4099  \n",
       " 13     : 5355   Married-civ-spouse   :14976   Exec-managerial: 4066  \n",
       " 14     : 1723   Married-spouse-absent:  418   Adm-clerical   : 3770  \n",
       " 11     : 1382   Never-married        :10683   Sales          : 3650  \n",
       " 7      : 1175   Separated            : 1025   (Other)        :10993  \n",
       " (Other): 5134   Widowed              :  993   NA's           : 1843  \n",
       "         relationship                   race           sex       \n",
       " Husband       :13193   Amer-Indian-Eskimo:  311   Female:10771  \n",
       " Not-in-family : 8305   Asian-Pac-Islander: 1039   Male  :21790  \n",
       " Other-relative:  981   Black             : 3124                 \n",
       " Own-child     : 5068   Other             :  271                 \n",
       " Unmarried     : 3446   White             :27816                 \n",
       " Wife          : 1568                                            \n",
       "                                                                 \n",
       "  capital.gain    capital.loss   hours.per.week        native.country \n",
       " 0      :29849   0      :31042   40     :15217   United-States:29170  \n",
       " 15024  :  347   1902   :  202   50     : 2819   Mexico       :  643  \n",
       " 7688   :  284   1977   :  168   45     : 1824   Philippines  :  198  \n",
       " 7298   :  246   1887   :  159   60     : 1475   Germany      :  137  \n",
       " 99999  :  159   1485   :   51   35     : 1297   Canada       :  121  \n",
       " 3103   :   97   1848   :   51   20     : 1224   (Other)      : 1709  \n",
       " (Other): 1579   (Other):  888   (Other): 8705   NA's         :  583  \n",
       "   salary     \n",
       " <=50K:24720  \n",
       " >50K : 7841  \n",
       "              \n",
       "              \n",
       "              \n",
       "              \n",
       "              "
      ]
     },
     "metadata": {},
     "output_type": "display_data"
    }
   ],
   "source": [
    "#Resume de dataframe\n",
    "summary(df)"
   ]
  },
  {
   "cell_type": "code",
   "execution_count": 7,
   "metadata": {},
   "outputs": [
    {
     "data": {
      "text/html": [
       "<dl class=dl-horizontal>\n",
       "\t<dt>age</dt>\n",
       "\t\t<dd>0</dd>\n",
       "\t<dt>workclass</dt>\n",
       "\t\t<dd>1836</dd>\n",
       "\t<dt>fnlwgt</dt>\n",
       "\t\t<dd>0</dd>\n",
       "\t<dt>education</dt>\n",
       "\t\t<dd>0</dd>\n",
       "\t<dt>education.num</dt>\n",
       "\t\t<dd>0</dd>\n",
       "\t<dt>marital.status</dt>\n",
       "\t\t<dd>0</dd>\n",
       "\t<dt>occupation</dt>\n",
       "\t\t<dd>1843</dd>\n",
       "\t<dt>relationship</dt>\n",
       "\t\t<dd>0</dd>\n",
       "\t<dt>race</dt>\n",
       "\t\t<dd>0</dd>\n",
       "\t<dt>sex</dt>\n",
       "\t\t<dd>0</dd>\n",
       "\t<dt>capital.gain</dt>\n",
       "\t\t<dd>0</dd>\n",
       "\t<dt>capital.loss</dt>\n",
       "\t\t<dd>0</dd>\n",
       "\t<dt>hours.per.week</dt>\n",
       "\t\t<dd>0</dd>\n",
       "\t<dt>native.country</dt>\n",
       "\t\t<dd>583</dd>\n",
       "\t<dt>salary</dt>\n",
       "\t\t<dd>0</dd>\n",
       "</dl>\n"
      ],
      "text/latex": [
       "\\begin{description*}\n",
       "\\item[age] 0\n",
       "\\item[workclass] 1836\n",
       "\\item[fnlwgt] 0\n",
       "\\item[education] 0\n",
       "\\item[education.num] 0\n",
       "\\item[marital.status] 0\n",
       "\\item[occupation] 1843\n",
       "\\item[relationship] 0\n",
       "\\item[race] 0\n",
       "\\item[sex] 0\n",
       "\\item[capital.gain] 0\n",
       "\\item[capital.loss] 0\n",
       "\\item[hours.per.week] 0\n",
       "\\item[native.country] 583\n",
       "\\item[salary] 0\n",
       "\\end{description*}\n"
      ],
      "text/markdown": [
       "age\n",
       ":   0workclass\n",
       ":   1836fnlwgt\n",
       ":   0education\n",
       ":   0education.num\n",
       ":   0marital.status\n",
       ":   0occupation\n",
       ":   1843relationship\n",
       ":   0race\n",
       ":   0sex\n",
       ":   0capital.gain\n",
       ":   0capital.loss\n",
       ":   0hours.per.week\n",
       ":   0native.country\n",
       ":   583salary\n",
       ":   0\n",
       "\n"
      ],
      "text/plain": [
       "           age      workclass         fnlwgt      education  education.num \n",
       "             0           1836              0              0              0 \n",
       "marital.status     occupation   relationship           race            sex \n",
       "             0           1843              0              0              0 \n",
       "  capital.gain   capital.loss hours.per.week native.country         salary \n",
       "             0              0              0            583              0 "
      ]
     },
     "metadata": {},
     "output_type": "display_data"
    }
   ],
   "source": [
    "#Check for missing value\n",
    "colSums(is.na(df))"
   ]
  },
  {
   "cell_type": "markdown",
   "metadata": {},
   "source": [
    "# **Data Cleaning**"
   ]
  },
  {
   "cell_type": "markdown",
   "metadata": {},
   "source": [
    "## Regroupement Work Class"
   ]
  },
  {
   "cell_type": "code",
   "execution_count": 8,
   "metadata": {},
   "outputs": [
    {
     "data": {
      "text/plain": [
       "\n",
       "     Federal-gov        Local-gov     Never-worked          Private \n",
       "             960             2093                7            22696 \n",
       "    Self-emp-inc Self-emp-not-inc        State-gov      Without-pay \n",
       "            1116             2541             1298               14 "
      ]
     },
     "metadata": {},
     "output_type": "display_data"
    }
   ],
   "source": [
    "table(df$workclass)"
   ]
  },
  {
   "cell_type": "markdown",
   "metadata": {},
   "source": [
    "On regroupe les facteurs \\\n",
    "On remarque qu'il y a deux groupes particuliers Never-worked et Without-pay, on regroupera ces deux groupes en un groupe plus générale Unemployed (au chomage) \\\n",
    "Les groupes Federal-gov, Local-gov, State-gov sont de nature Governement, on les combine donc en une seul classe Governement \\\n",
    "Les autres groupes Self-emp-inc et Self-emp-not-inc sont des boulot en mode autonome, il vaut mieux qu'on regroupe ce genre en classe Self-employed"
   ]
  },
  {
   "cell_type": "code",
   "execution_count": 9,
   "metadata": {},
   "outputs": [
    {
     "data": {
      "text/plain": [
       "\n",
       "  Governement       Private Self-employed    Unemployed \n",
       "         4351         22696          3657            21 "
      ]
     },
     "metadata": {},
     "output_type": "display_data"
    }
   ],
   "source": [
    "#Convertir l'objet factor en character\n",
    "df$workclass <- as.character(df$workclass)\n",
    "\n",
    "#Combiner en Unemployed\n",
    "df$workclass[df$workclass == \"Never-worked\" | df$workclass == \"Without-pay\"] <- \"Unemployed\"\n",
    "\n",
    "#Combiner en Governement\n",
    "df$workclass[df$workclass == \"Federal-gov\" | df$workclass == \"Local-gov\" | df$workclass == \"State-gov\"] <- \"Governement\"\n",
    "\n",
    "#Combiner en Self-employed\n",
    "df$workclass[df$workclass == \"Self-emp-inc\" | df$workclass == \"Self-emp-not-inc\"] <- \"Self-employed\"\n",
    "\n",
    "table(df$workclass)"
   ]
  },
  {
   "cell_type": "markdown",
   "metadata": {},
   "source": [
    "## Regroupement Statut Marital"
   ]
  },
  {
   "cell_type": "code",
   "execution_count": 10,
   "metadata": {},
   "outputs": [
    {
     "data": {
      "text/plain": [
       "\n",
       "             Divorced     Married-AF-spouse    Married-civ-spouse \n",
       "                 4443                    23                 14976 \n",
       "Married-spouse-absent         Never-married             Separated \n",
       "                  418                 10683                  1025 \n",
       "              Widowed \n",
       "                  993 "
      ]
     },
     "metadata": {},
     "output_type": "display_data"
    }
   ],
   "source": [
    "table(df$marital.status)"
   ]
  },
  {
   "cell_type": "markdown",
   "metadata": {},
   "source": [
    "On peut réduire ces facteurs en 3 groupes\n",
    "- Married (Marié)\n",
    "- Not-Married (Non Marié)\n",
    "- Never-Married (Célibataire)"
   ]
  },
  {
   "cell_type": "code",
   "execution_count": 11,
   "metadata": {},
   "outputs": [
    {
     "data": {
      "text/plain": [
       "\n",
       "   Divorced     Married Not-Married     Widowed \n",
       "       5468       15417       10683         993 "
      ]
     },
     "metadata": {},
     "output_type": "display_data"
    }
   ],
   "source": [
    "df$marital.status <- as.character(df$marital.status)\n",
    "\n",
    "df$marital.status[df$marital.status == \"Married-AF-spouse\" |\n",
    "                       df$marital.status == \"Married-civ-spouse\" |\n",
    "                       df$marital.status == \"Married-spouse-absent\"] <- \"Married\"\n",
    "\n",
    "df$marital.status[df$marital.status == \"Divorced\" |\n",
    "                       df$marital.status == \"Separated\" ] <- \"Divorced\"\n",
    "\n",
    "df$marital.status[df$marital.status == \"Never-married\" ] <- \"Not-Married\"\n",
    "table(df$marital.status)"
   ]
  },
  {
   "cell_type": "markdown",
   "metadata": {},
   "source": [
    "Some of the variables are not self-explanatory. The continuous variable fnlwgt represents final weight, which is the number of units in the target population that the responding unit represents. The variable education_num stands for the number of years of education in total, which is a continuous representation of the discrete variable education. The variable relationship represents the responding unit’s role in the family. capital_gain and capital_loss are income from investment sources other than wage/salary.\n",
    "For simplicity of this analysis, the weighting factor is discarded. Total number of years of education can represent by the highest education level completed. Role in the family can be assessed from gender and marital status. Thus, the following 3 variables are deleted education, relationship, and fnlwgt."
   ]
  },
  {
   "cell_type": "code",
   "execution_count": 12,
   "metadata": {},
   "outputs": [],
   "source": [
    "df$educatoin <- NULL\n",
    "df$fnlwgt <- NULL\n",
    "df$relationship <- NULL\n",
    "df$capital.gain <- NULL\n",
    "df $capital.loss <- NULL"
   ]
  },
  {
   "cell_type": "code",
   "execution_count": 14,
   "metadata": {},
   "outputs": [
    {
     "data": {
      "text/html": [
       "<dl class=dl-horizontal>\n",
       "\t<dt>age</dt>\n",
       "\t\t<dd>0</dd>\n",
       "\t<dt>workclass</dt>\n",
       "\t\t<dd>0</dd>\n",
       "\t<dt>education</dt>\n",
       "\t\t<dd>0</dd>\n",
       "\t<dt>education.num</dt>\n",
       "\t\t<dd>0</dd>\n",
       "\t<dt>marital.status</dt>\n",
       "\t\t<dd>0</dd>\n",
       "\t<dt>occupation</dt>\n",
       "\t\t<dd>0</dd>\n",
       "\t<dt>race</dt>\n",
       "\t\t<dd>0</dd>\n",
       "\t<dt>sex</dt>\n",
       "\t\t<dd>0</dd>\n",
       "\t<dt>hours.per.week</dt>\n",
       "\t\t<dd>0</dd>\n",
       "\t<dt>native.country</dt>\n",
       "\t\t<dd>0</dd>\n",
       "\t<dt>salary</dt>\n",
       "\t\t<dd>0</dd>\n",
       "</dl>\n"
      ],
      "text/latex": [
       "\\begin{description*}\n",
       "\\item[age] 0\n",
       "\\item[workclass] 0\n",
       "\\item[education] 0\n",
       "\\item[education.num] 0\n",
       "\\item[marital.status] 0\n",
       "\\item[occupation] 0\n",
       "\\item[race] 0\n",
       "\\item[sex] 0\n",
       "\\item[hours.per.week] 0\n",
       "\\item[native.country] 0\n",
       "\\item[salary] 0\n",
       "\\end{description*}\n"
      ],
      "text/markdown": [
       "age\n",
       ":   0workclass\n",
       ":   0education\n",
       ":   0education.num\n",
       ":   0marital.status\n",
       ":   0occupation\n",
       ":   0race\n",
       ":   0sex\n",
       ":   0hours.per.week\n",
       ":   0native.country\n",
       ":   0salary\n",
       ":   0\n",
       "\n"
      ],
      "text/plain": [
       "           age      workclass      education  education.num marital.status \n",
       "             0              0              0              0              0 \n",
       "    occupation           race            sex hours.per.week native.country \n",
       "             0              0              0              0              0 \n",
       "        salary \n",
       "             0 "
      ]
     },
     "metadata": {},
     "output_type": "display_data"
    }
   ],
   "source": [
    "#df = df[!is.na(df$workclass) & !is.na(df$occupation) & !is.na(df$native.country)]\n",
    "#df = df[!is.na(df$workclass)]\n",
    "#df = df[!is.na(df$occupation)]\n",
    "#df = df[!is.na(df$native.country)]\n",
    "df <- na.omit(df)\n",
    "colSums(is.na(df))"
   ]
  },
  {
   "cell_type": "markdown",
   "metadata": {},
   "source": [
    "## **Exploratory Data Analysis**"
   ]
  },
  {
   "cell_type": "markdown",
   "metadata": {},
   "source": [
    "## Histogramme d'age en fonction de salaire"
   ]
  },
  {
   "cell_type": "code",
   "execution_count": 15,
   "metadata": {},
   "outputs": [
    {
     "name": "stdout",
     "output_type": "stream",
     "text": [
      "'data.frame':\t30162 obs. of  11 variables:\n",
      " $ age           : Factor w/ 73 levels \"17\",\"18\",\"19\",..: 23 34 22 37 12 21 33 36 15 26 ...\n",
      " $ workclass     : chr  \"Governement\" \"Self-employed\" \"Private\" \"Private\" ...\n",
      " $ education     : Factor w/ 16 levels \"10th\",\"11th\",..: 10 10 12 2 10 13 7 12 13 10 ...\n",
      " $ education.num : Factor w/ 16 levels \"1\",\"10\",\"11\",..: 5 5 16 14 5 6 12 16 6 5 ...\n",
      " $ marital.status: chr  \"Not-Married\" \"Married\" \"Divorced\" \"Married\" ...\n",
      " $ occupation    : Factor w/ 14 levels \"Adm-clerical\",..: 1 4 6 6 10 4 8 4 10 4 ...\n",
      " $ race          : Factor w/ 5 levels \"Amer-Indian-Eskimo\",..: 5 5 5 3 3 5 3 5 5 5 ...\n",
      " $ sex           : Factor w/ 2 levels \"Female\",\"Male\": 2 2 2 2 1 1 1 2 1 2 ...\n",
      " $ hours.per.week: Factor w/ 94 levels \"1\",\"10\",\"11\",..: 35 5 35 35 35 35 8 40 46 35 ...\n",
      " $ native.country: Factor w/ 41 levels \"Cambodia\",\"Canada\",..: 39 39 39 39 5 39 23 39 39 39 ...\n",
      " $ salary        : Factor w/ 2 levels \"<=50K\",\">50K\": 1 1 1 1 1 1 1 2 2 2 ...\n",
      " - attr(*, \"na.action\")= 'omit' Named int  15 28 39 52 62 70 78 94 107 129 ...\n",
      "  ..- attr(*, \"names\")= chr  \"15\" \"28\" \"39\" \"52\" ...\n"
     ]
    }
   ],
   "source": [
    "str(df)"
   ]
  },
  {
   "cell_type": "code",
   "execution_count": 16,
   "metadata": {},
   "outputs": [
    {
     "data": {
      "image/png": "[encoded data removed]",
      "text/plain": [
       "plot without title"
      ]
     },
     "metadata": {},
     "output_type": "display_data"
    }
   ],
   "source": [
    "ggplot(df, aes(x=as.numeric(age))) + geom_histogram(aes(group = salary, fill = salary), color = \"black\",\n",
    "                                         binwidth = 1) + labs(x=\"Age\", y=\"Nb\", title=\"Histo age/salaire\")"
   ]
  },
  {
   "cell_type": "markdown",
   "metadata": {},
   "source": [
    "On conserve que la majorité des gens gagne moins de 50k par an. Néanmoins, les gens gagne bien de leur vie >50k sont à la tendance agés"
   ]
  },
  {
   "cell_type": "markdown",
   "metadata": {},
   "source": [
    "# **Decision Tree**"
   ]
  },
  {
   "cell_type": "code",
   "execution_count": 17,
   "metadata": {},
   "outputs": [
    {
     "name": "stderr",
     "output_type": "stream",
     "text": [
      "Loading required package: lattice\n"
     ]
    }
   ],
   "source": [
    "library(caret) # classification and regression training\n",
    "library(rpart)\n",
    "library(rpart.plot)\n",
    "library(e1071)"
   ]
  },
  {
   "cell_type": "code",
   "execution_count": 18,
   "metadata": {},
   "outputs": [],
   "source": [
    "ratio = sample(1:nrow(df), size = 0.25*nrow(df))\n",
    "testSet = df[ratio,] #Test dataset 25% of total\n",
    "trainSet = df[-ratio,] #Train dataset 75% of total"
   ]
  },
  {
   "cell_type": "code",
   "execution_count": 19,
   "metadata": {},
   "outputs": [
    {
     "data": {
      "text/plain": [
       "Confusion Matrix and Statistics\n",
       "\n",
       "          Reference\n",
       "Prediction <=50K >50K\n",
       "     <=50K  5106  545\n",
       "     >50K    792 1097\n",
       "                                          \n",
       "               Accuracy : 0,8227          \n",
       "                 95% CI : (0,8139, 0,8312)\n",
       "    No Information Rate : 0,7822          \n",
       "    P-Value [Acc > NIR] : < 2,2e-16       \n",
       "                                          \n",
       "                  Kappa : 0,5063          \n",
       "                                          \n",
       " Mcnemar's Test P-Value : 1,723e-11       \n",
       "                                          \n",
       "            Sensitivity : 0,8657          \n",
       "            Specificity : 0,6681          \n",
       "         Pos Pred Value : 0,9036          \n",
       "         Neg Pred Value : 0,5807          \n",
       "             Prevalence : 0,7822          \n",
       "         Detection Rate : 0,6772          \n",
       "   Detection Prevalence : 0,7495          \n",
       "      Balanced Accuracy : 0,7669          \n",
       "                                          \n",
       "       'Positive' Class : <=50K           \n",
       "                                          "
      ]
     },
     "metadata": {},
     "output_type": "display_data"
    },
    {
     "data": {
      "image/png": "[encoded data removed]",
      "text/plain": [
       "plot without title"
      ]
     },
     "metadata": {},
     "output_type": "display_data"
    }
   ],
   "source": [
    "#tree_adult_model<-rpart(salary~.,data = df)\n",
    "\n",
    "#test_decisionTree$pred_income<-predict(tree_adult_model,test_adult,type = \"class\")\n",
    "# an extra argument (type = \"class\") is required to directly classify prediction into classes\n",
    "\n",
    "treeModel <- rpart(salary~., data=trainSet, method=\"class\", minbucket=20)\n",
    "prp(treeModel)\n",
    "treePredict <- predict(treeModel, testSet, type = \"class\")\n",
    "confusionMatrix(testSet$salary, treePredict) # 86% accuracy "
   ]
  },
  {
   "cell_type": "code",
   "execution_count": null,
   "metadata": {},
   "outputs": [],
   "source": []
  }
 ],
 "metadata": {
  "kernelspec": {
   "display_name": "R",
   "language": "R",
   "name": "ir"
  },
  "language_info": {
   "codemirror_mode": "r",
   "file_extension": ".r",
   "mimetype": "text/x-r-source",
   "name": "R",
   "pygments_lexer": "r",
   "version": "3.6.1"
  }
 },
 "nbformat": 4,
 "nbformat_minor": 4
}
